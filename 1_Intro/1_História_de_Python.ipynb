{
  "nbformat": 4,
  "nbformat_minor": 0,
  "metadata": {
    "colab": {
      "name": "1.História de Python.ipynb",
      "provenance": [],
      "collapsed_sections": [],
      "toc_visible": true
    },
    "kernelspec": {
      "name": "Python 3.8.3 64-bit",
      "display_name": "Python 3.8.3 64-bit",
      "metadata": {
        "interpreter": {
          "hash": "2db524e06e9f5f4ffedc911c917cb75e12dbc923643829bf417064a77eb14d37"
        }
      }
    }
  },
  "cells": [
    {
      "cell_type": "markdown",
      "metadata": {
        "id": "SJqijlfHeN9M"
      },
      "source": [
        "# Curso básico de Python - Notebook 1\n",
        "\n",
        "*Esse material pertence às Pyladies-BH*"
      ]
    },
    {
      "cell_type": "code",
      "metadata": {
        "id": "mthEAjGyGPMl"
      },
      "source": [
        "__author__ = 'Naiara Cerqueira e Juliana Guamá'"
      ],
      "execution_count": null,
      "outputs": []
    },
    {
      "cell_type": "markdown",
      "metadata": {
        "id": "wfVzvK6oeRNU"
      },
      "source": [
        "## 1 História\n"
      ]
    },
    {
      "cell_type": "markdown",
      "metadata": {
        "id": "piVzzddLa5tL"
      },
      "source": [
        "Python é uma linguagem de programação concebida por Guido van Rossum, no final de 1989, com sua primeira versão lançada em 1994.\n",
        "\n",
        "Pensando em superar as deficiências da linguagem ABC e utilizando suas melhores qualidades, resolveu criar a Python. Seu objetivo era:\n",
        "\n",
        "* linguagem fácil e intuitiva enquanto que ainda sendo tão veloz quanto as maiores competidoras;\n",
        "* código aberto, para que qualquer um possa contribuir para o desenvolvimento;\n",
        "* código tão amigável quanto um texto em inglês;\n",
        "* adequada para tarefas diárias, permitindo um tempo de desenvolvimento mais curto.\n",
        "\n",
        "O nome Python vem do gosto de Guido pelo grupo de comédia britânico Monty Python, embora muitas pessoas façam associação com o réptil do mesmo nome.\n",
        "\n",
        "![Monthy Python](https://external-content.duckduckgo.com/iu/?u=https%3A%2F%2Ftse1.mm.bing.net%2Fth%3Fid%3DOIP.97ypGmzScp1TP0gZiNycOgHaD5%26pid%3DApi&f=1)\n",
        "\n",
        "Com ela você pode fazer diversas coisas como:\n",
        "* Construção de sistemas Web com Django, Flask, Pyramid, etc.\n",
        "* Análise de dados, Inteligência Artificial e Machine Learning com Numpy, Pandas, Matplotlib, etc;\n",
        "* Construção de aplicativos com Kivy e Pybee;\n",
        "* Construção de sistemas desktop com Tkinter, WxPython, etc;\n",
        "* Desenvolver relatórios parte código parte html/latex, através dos notebooks, tendo IDEs desktop disponibilizadas pela Anaconda (Jupyter Notebooks) e versão online gratuita pelo Google (Google Colab)."
      ]
    },
    {
      "cell_type": "markdown",
      "metadata": {
        "id": "pBUU3CfJco2-"
      },
      "source": [
        "## Easter egg de Python\n",
        "\n",
        "Python é tão preocupado com ser uma linguagem de fácil uso, que tem um `easter egg` chamado \"o zen de Python\"."
      ]
    },
    {
      "cell_type": "code",
      "metadata": {
        "id": "4KoxGm9icnlc",
        "outputId": "7e933d85-41e3-43d7-fa80-01ad495e54d7",
        "colab": {
          "base_uri": "https://localhost:8080/"
        }
      },
      "source": [
        "import this"
      ],
      "execution_count": 1,
      "outputs": [
        {
          "output_type": "stream",
          "name": "stdout",
          "text": [
            "The Zen of Python, by Tim Peters\n\nBeautiful is better than ugly.\nExplicit is better than implicit.\nSimple is better than complex.\nComplex is better than complicated.\nFlat is better than nested.\nSparse is better than dense.\nReadability counts.\nSpecial cases aren't special enough to break the rules.\nAlthough practicality beats purity.\nErrors should never pass silently.\nUnless explicitly silenced.\nIn the face of ambiguity, refuse the temptation to guess.\nThere should be one-- and preferably only one --obvious way to do it.\nAlthough that way may not be obvious at first unless you're Dutch.\nNow is better than never.\nAlthough never is often better than *right* now.\nIf the implementation is hard to explain, it's a bad idea.\nIf the implementation is easy to explain, it may be a good idea.\nNamespaces are one honking great idea -- let's do more of those!\n"
          ]
        }
      ]
    },
    {
      "cell_type": "markdown",
      "metadata": {
        "id": "yMo_4gBKjyn_"
      },
      "source": [
        "## 2 Comunidade"
      ]
    },
    {
      "cell_type": "markdown",
      "metadata": {
        "id": "7dPnIcjSj0uv"
      },
      "source": [
        "Python tem uma comunidade enorme que pode te ajudar!!\n",
        "\n",
        "Mas mais interessante que isso é se integrar a grupos como a [PyLadies -BH](http://brasil.pyladies.com/locations/), [Python Brasil](https://python.org.br/), e vários outros como [Afropython](https://afropython.org/)."
      ]
    },
    {
      "cell_type": "markdown",
      "metadata": {
        "id": "xQdPO9Unj2r-"
      },
      "source": [
        "O melhor lugar para tirar dúvidas (sobre qualquer linguagem) é o [StackOverflow](https://stackoverflow.com/) - você está com alguma dúvida? Grandes chances de alguém ter tido ela antes de você!\n",
        "\n",
        "![image.png](data:image/png;base64,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)"
      ]
    },
    {
      "cell_type": "markdown",
      "metadata": {
        "id": "EIEOzOSFj4mp"
      },
      "source": [
        "### Fun with python"
      ]
    },
    {
      "cell_type": "code",
      "metadata": {
        "id": "KdVD9cpJj6_J"
      },
      "source": [
        "%%capture\n",
        "!pip install emoji"
      ],
      "execution_count": 2,
      "outputs": []
    },
    {
      "cell_type": "code",
      "metadata": {
        "id": "1_zJHw7zj8ff",
        "outputId": "45cda826-a33e-4520-d163-40566ab048ae",
        "colab": {
          "base_uri": "https://localhost:8080/"
        }
      },
      "source": [
        "import emoji\n",
        "\n",
        "print(f\"\"\" Este treinamento está sendo útil?\n",
        "      {emoji.emojize(\"- SIM :heart_eyes:\", use_aliases=True)}\n",
        "      {emoji.emojize(\"- NÃO :astonished:\", use_aliases=True)}\n",
        "      \"\"\")"
      ],
      "execution_count": 3,
      "outputs": [
        {
          "output_type": "stream",
          "text": [
            " Este treinamento está sendo útil?\n",
            "      - SIM 😍\n",
            "      - NÃO 😲\n",
            "      \n"
          ],
          "name": "stdout"
        }
      ]
    }
  ]
}