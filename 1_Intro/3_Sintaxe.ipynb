{
  "nbformat": 4,
  "nbformat_minor": 0,
  "metadata": {
    "colab": {
      "name": "3_Sintaxe.ipynb",
      "provenance": [],
      "collapsed_sections": [],
      "toc_visible": true
    },
    "kernelspec": {
      "name": "python3",
      "display_name": "Python 3"
    }
  },
  "cells": [
    {
      "cell_type": "markdown",
      "metadata": {
        "id": "SJqijlfHeN9M"
      },
      "source": [
        "# Curso básico de Python - Notebook 1\n",
        "\n",
        "*Esse material pertence às Pyladies-BH*"
      ]
    },
    {
      "cell_type": "code",
      "metadata": {
        "id": "mthEAjGyGPMl"
      },
      "source": [
        "__author__ = 'Naiara Cerqueira e Juliana Guamá'"
      ],
      "execution_count": null,
      "outputs": []
    },
    {
      "cell_type": "markdown",
      "metadata": {
        "id": "L9CA0lYWeZfg"
      },
      "source": [
        "# Sintaxe"
      ]
    },
    {
      "cell_type": "markdown",
      "metadata": {
        "id": "6duRcBIz0brO"
      },
      "source": [
        "Sintaxe é o conjunto de regras que definem como um programa em Python será escrito e interpretado (tanto pelo sistema de tempo de execução como pelo ser humano). \n",
        "\n",
        "Caso o interpretador do Python não compreenda um determinado comando escrito pelo usuário é gerado um erro de sintaxe. A forma geral de uma mensagem de erro é:\n",
        "\n",
        "    Traceback (most recent call last):\n",
        "    File \"nome do arquivo\", número da linha, in nome do módulo\n",
        "    Nome do erro: detalhes do erro.\n",
        "\n",
        "PEPs sobre sintaxe:\n",
        "* [PEP8 - Style Guide](https://www.python.org/dev/peps/pep-0008/#code-lay-out)\n",
        "* [PEP257 - Docstrings](https://www.python.org/dev/peps/pep-0257/)"
      ]
    },
    {
      "cell_type": "markdown",
      "metadata": {
        "id": "s4gfx9vX9lsz"
      },
      "source": [
        "## Comentários\n",
        "Comentários no código podem ser feitos com # ou \"\"\" \"\"\" ou ''' '''"
      ]
    },
    {
      "cell_type": "code",
      "metadata": {
        "id": "0WxiloO49la4"
      },
      "source": [
        "# Isso é um comentário"
      ],
      "execution_count": null,
      "outputs": []
    },
    {
      "cell_type": "code",
      "metadata": {
        "id": "diEDnP_M93PO",
        "outputId": "78cae92c-028e-4714-9af1-8fa1d74acc5f",
        "colab": {
          "base_uri": "https://localhost:8080/",
          "height": 35
        }
      },
      "source": [
        "\"\"\"\n",
        "Isso também é um comentário\n",
        "Dessa forma, podemos escrever diversas linhas de comentários\n",
        "\"\"\""
      ],
      "execution_count": null,
      "outputs": [
        {
          "output_type": "execute_result",
          "data": {
            "application/vnd.google.colaboratory.intrinsic+json": {
              "type": "string"
            },
            "text/plain": [
              "'\\nIsso também é um comentário\\nDessa forma, podemos escrever diversas linhas de comentários\\n'"
            ]
          },
          "metadata": {
            "tags": []
          },
          "execution_count": 19
        }
      ]
    },
    {
      "cell_type": "code",
      "metadata": {
        "id": "jvJnrsruTXQB",
        "outputId": "a5b9a440-8299-46cf-8936-7c956b7f953d",
        "colab": {
          "base_uri": "https://localhost:8080/",
          "height": 35
        }
      },
      "source": [
        "'''\n",
        "com aspas simples\n",
        "também funciona\n",
        "'''"
      ],
      "execution_count": null,
      "outputs": [
        {
          "output_type": "execute_result",
          "data": {
            "application/vnd.google.colaboratory.intrinsic+json": {
              "type": "string"
            },
            "text/plain": [
              "'\\ncom aspas simples\\ntambém funciona\\n'"
            ]
          },
          "metadata": {
            "tags": []
          },
          "execution_count": 18
        }
      ]
    },
    {
      "source": [
        "Há um debate entre a necessidade de documentar código. Deve-se ter o mínimo possível de comentários explicando código. Entretanto, todas as classes, funções, módulos e pacotes devem ser documentados. O que isso significa?\n",
        "\n",
        "Dos 2 exemplos a seguir, qual delas precisa de menos comentários explicativos?"
      ],
      "cell_type": "markdown",
      "metadata": {}
    },
    {
      "cell_type": "code",
      "execution_count": 2,
      "metadata": {},
      "outputs": [
        {
          "output_type": "execute_result",
          "data": {
            "text/plain": [
              "4.0"
            ]
          },
          "metadata": {},
          "execution_count": 2
        }
      ],
      "source": [
        "\n",
        "import math\n",
        "c = lambda x : math.pow(x, 2)\n",
        "c(2)"
      ]
    },
    {
      "cell_type": "code",
      "execution_count": 4,
      "metadata": {},
      "outputs": [
        {
          "output_type": "execute_result",
          "data": {
            "text/plain": [
              "4.0"
            ]
          },
          "metadata": {},
          "execution_count": 4
        }
      ],
      "source": [
        "def x_elevadoa_2(x: int) -> float:\n",
        "    return math.pow(x, 2)\n",
        "x_elevadoa_2(2)"
      ]
    },
    {
      "source": [
        "> Códigos são frequentemente mais lidos do que escritos. (Guido Van Rossum)"
      ],
      "cell_type": "markdown",
      "metadata": {}
    },
    {
      "cell_type": "markdown",
      "metadata": {
        "id": "xz5ld7zr_AG3"
      },
      "source": [
        "## Variáveis\n",
        "\n",
        "Uma variável não pode ser utilizada em uma expressão sem ter sido inicializada. Não existe “criação automática” de variáveis."
      ]
    },
    {
      "cell_type": "code",
      "metadata": {
        "id": "6GcCCqq87pWt",
        "outputId": "16c17676-4a3f-4324-e3f9-e43fc64e2fe3",
        "colab": {
          "base_uri": "https://localhost:8080/",
          "height": 167
        }
      },
      "source": [
        "# Chamando a variável antes de criá-la\n",
        "print(a)"
      ],
      "execution_count": null,
      "outputs": [
        {
          "output_type": "error",
          "ename": "NameError",
          "evalue": "ignored",
          "traceback": [
            "\u001b[0;31m---------------------------------------------------------------------------\u001b[0m",
            "\u001b[0;31mNameError\u001b[0m                                 Traceback (most recent call last)",
            "\u001b[0;32m<ipython-input-4-bca0e2660b9f>\u001b[0m in \u001b[0;36m<module>\u001b[0;34m()\u001b[0m\n\u001b[0;32m----> 1\u001b[0;31m \u001b[0mprint\u001b[0m\u001b[0;34m(\u001b[0m\u001b[0ma\u001b[0m\u001b[0;34m)\u001b[0m\u001b[0;34m\u001b[0m\u001b[0;34m\u001b[0m\u001b[0m\n\u001b[0m",
            "\u001b[0;31mNameError\u001b[0m: name 'a' is not defined"
          ]
        }
      ]
    },
    {
      "source": [
        "Em Python você pode apenas passar o valor que a variável é criada, sem necessitar informar o tipo dela. Isso é chamado de tipagem dinâmica, ou seja, você passa o valor e Python identifica o tipo. Veja o exemplo.\n",
        "\n"
      ],
      "cell_type": "markdown",
      "metadata": {}
    },
    {
      "cell_type": "code",
      "metadata": {
        "id": "D2pPOCyZ7y-D",
        "outputId": "88ca7250-1a9e-4475-9c62-ba2ede188408",
        "colab": {
          "base_uri": "https://localhost:8080/"
        }
      },
      "source": [
        "# Agora sim!\n",
        "a = 5\n",
        "print(a)"
      ],
      "execution_count": null,
      "outputs": [
        {
          "output_type": "stream",
          "text": [
            "5\n"
          ],
          "name": "stdout"
        }
      ]
    },
    {
      "cell_type": "code",
      "execution_count": null,
      "metadata": {},
      "outputs": [],
      "source": [
        "type(a)"
      ]
    },
    {
      "cell_type": "code",
      "metadata": {
        "id": "CSiHkBmi8DkO",
        "outputId": "59217b32-c069-47ff-b0b1-04f2a47e004e",
        "colab": {
          "base_uri": "https://localhost:8080/"
        }
      },
      "source": [
        "# Também podemos atribuir valores assim:\n",
        "a, b = 10, 2.0\n",
        "print(f\"{a}, tipo: {type(a)}\")\n",
        "print(f\"{b}, tipo: {type(b)}\")"
      ],
      "execution_count": 7,
      "outputs": [
        {
          "output_type": "stream",
          "name": "stdout",
          "text": [
            "10, tipo: <class 'int'>\n2.0, tipo: <class 'float'>\n"
          ]
        }
      ]
    },
    {
      "cell_type": "code",
      "execution_count": 5,
      "metadata": {},
      "outputs": [
        {
          "output_type": "execute_result",
          "data": {
            "text/plain": [
              "str"
            ]
          },
          "metadata": {},
          "execution_count": 5
        }
      ],
      "source": [
        "a = 'uma frase aqui'\n",
        "type(a)"
      ]
    },
    {
      "cell_type": "markdown",
      "metadata": {
        "id": "NEL06wn0_Ifz"
      },
      "source": [
        "## Saídas e entradas\n",
        "\n",
        "print(), que é o output, e input()"
      ]
    },
    {
      "cell_type": "code",
      "metadata": {
        "id": "SuqRvjCp8wAI",
        "outputId": "bf829ee2-d641-4f39-f63e-fa4d4de9baea",
        "colab": {
          "base_uri": "https://localhost:8080/"
        }
      },
      "source": [
        "# O input será armazenado na variável 'nome'\n",
        "nome = input(\"Qual seu nome? \")"
      ],
      "execution_count": null,
      "outputs": [
        {
          "output_type": "stream",
          "text": [
            "Qual seu nome? Naiara\n"
          ],
          "name": "stdout"
        }
      ]
    },
    {
      "cell_type": "code",
      "metadata": {
        "id": "-hJEUYR984SI",
        "outputId": "bbea340e-a230-400b-a0b0-7ca5094cafa6",
        "colab": {
          "base_uri": "https://localhost:8080/"
        }
      },
      "source": [
        "# Valor armazenado na variável nome será printado na tela\n",
        "print(nome)"
      ],
      "execution_count": null,
      "outputs": [
        {
          "output_type": "stream",
          "text": [
            "Naiara\n"
          ],
          "name": "stdout"
        }
      ]
    },
    {
      "cell_type": "code",
      "metadata": {
        "id": "wX2icvpPPytJ",
        "outputId": "dec39482-d8c0-4148-c534-592c73782ad4",
        "colab": {
          "base_uri": "https://localhost:8080/"
        }
      },
      "source": [
        "# O print() pode receber atributos como sep (determina como vai concatenar as palavras, padrão Espaço)\n",
        "# e end, que determina como finaliza a sentença a ser printada, padrão Enter\n",
        "print(\"banana\",\"e\",\"granola\", sep=\"-\", end=\"\\n\")"
      ],
      "execution_count": null,
      "outputs": [
        {
          "output_type": "stream",
          "text": [
            "banana-e-granola\n"
          ],
          "name": "stdout"
        }
      ]
    },
    {
      "cell_type": "code",
      "metadata": {
        "id": "WVtAlRvgQahI",
        "outputId": "a908ae32-6e5c-44e0-c355-fced68fb9c4a",
        "colab": {
          "base_uri": "https://localhost:8080/"
        }
      },
      "source": [
        "print(\"banana\",\"e\", sep=\"\", end=\"!!!!!!!!\")\n",
        "print(\"granola\")"
      ],
      "execution_count": null,
      "outputs": [
        {
          "output_type": "stream",
          "text": [
            "bananae!!!!!!!!granola\n"
          ],
          "name": "stdout"
        }
      ]
    },
    {
      "cell_type": "code",
      "metadata": {
        "id": "WTZPpXdXTFYn",
        "outputId": "1f9f21fc-25d8-4db5-b1dd-31b1800abd61",
        "colab": {
          "base_uri": "https://localhost:8080/"
        }
      },
      "source": [
        "total = 50/90 *100\n",
        "print(\"A resposta da conta foi %.2f%%\" % (total))\n",
        "print(\"A resposta da conta foi\", round(total,2),\"%\")"
      ],
      "execution_count": 22,
      "outputs": [
        {
          "output_type": "stream",
          "text": [
            "A resposta da conta foi 55.56%\n",
            "A resposta da conta foi 55.56 %\n"
          ],
          "name": "stdout"
        }
      ]
    },
    {
      "cell_type": "code",
      "metadata": {
        "id": "6rE6MgfWlowa",
        "outputId": "4cc3fa8a-23e1-4996-f14b-df57f767c221",
        "colab": {
          "base_uri": "https://localhost:8080/"
        }
      },
      "source": [
        "texto1 = \"Beautiful is better than ugly.\"\n",
        "texto2 = \"Simple is better than complex.\"\n",
        "\n",
        "print(f\"{texto1} Explicit is better than implicit. {texto2} Complex is better than complicated.\")"
      ],
      "execution_count": null,
      "outputs": [
        {
          "output_type": "stream",
          "text": [
            "Beautiful is better than ugly. Explicit is better than implicit. Simple is better than complex. Complex is better than complicated.\n"
          ],
          "name": "stdout"
        }
      ]
    },
    {
      "cell_type": "markdown",
      "metadata": {
        "id": "sg0oKrmL_Rnb"
      },
      "source": [
        "## Identação\n",
        "\n",
        "Deve ser utilizada para demarcar blocos de código dentro de uma função, classe, condicionais, etc."
      ]
    },
    {
      "cell_type": "code",
      "metadata": {
        "id": "KnbTia_U9clU",
        "outputId": "0fa1a37b-6fb4-4948-ec27-3fca86185f4d",
        "colab": {
          "base_uri": "https://localhost:8080/"
        }
      },
      "source": [
        "# Perceba que tudo que está dentro da estrutura do if está identado e será rodado caso True\n",
        "fruta = 'banana'\n",
        "if fruta == 'banana':\n",
        "    print(\"Eu gosto de bananas\")\n",
        "    print('Mas prefiro morangos!')"
      ],
      "execution_count": null,
      "outputs": [
        {
          "output_type": "stream",
          "text": [
            "Eu gosto de bananas\n",
            "Mas prefiro morangos!\n"
          ],
          "name": "stdout"
        }
      ]
    },
    {
      "cell_type": "code",
      "metadata": {
        "id": "T5Z4uscVvZJY",
        "outputId": "ee27f469-febe-4fe7-c392-f71d4bd3acb9",
        "colab": {
          "base_uri": "https://localhost:8080/",
          "height": 128
        }
      },
      "source": [
        "# Perceba que tudo que está dentro da estrutura do if está identado e será rodado caso True\n",
        "fruta = 'banana'\n",
        "if fruta == 'banana':\n",
        "    print(\"Eu gosto de bananas\")\n",
        " print('Mas prefiro morangos!')"
      ],
      "execution_count": 24,
      "outputs": [
        {
          "output_type": "error",
          "ename": "IndentationError",
          "evalue": "ignored",
          "traceback": [
            "\u001b[0;36m  File \u001b[0;32m\"<ipython-input-24-c4327f8b26b1>\"\u001b[0;36m, line \u001b[0;32m5\u001b[0m\n\u001b[0;31m    print('Mas prefiro morangos!')\u001b[0m\n\u001b[0m                                  ^\u001b[0m\n\u001b[0;31mIndentationError\u001b[0m\u001b[0;31m:\u001b[0m unindent does not match any outer indentation level\n"
          ]
        }
      ]
    }
  ]
}