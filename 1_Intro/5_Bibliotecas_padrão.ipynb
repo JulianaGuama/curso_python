{
  "nbformat": 4,
  "nbformat_minor": 0,
  "metadata": {
    "colab": {
      "name": "5_Bibliotecas_padrão.ipynb",
      "provenance": [],
      "collapsed_sections": [],
      "toc_visible": true
    },
    "kernelspec": {
      "name": "python3",
      "display_name": "Python 3"
    }
  },
  "cells": [
    {
      "cell_type": "markdown",
      "metadata": {
        "id": "SJqijlfHeN9M"
      },
      "source": [
        "# Curso básico de Python - Notebook 1\n",
        "\n",
        "*Esse material pertence às Pyladies-BH*"
      ]
    },
    {
      "cell_type": "code",
      "metadata": {
        "id": "mthEAjGyGPMl"
      },
      "source": [
        "__author__ = 'Naiara Cerqueira e Juliana Guamá'"
      ],
      "execution_count": null,
      "outputs": []
    },
    {
      "cell_type": "markdown",
      "metadata": {
        "id": "wfVzvK6oeRNU"
      },
      "source": [
        "## Bibliotecas padrão\n"
      ]
    },
    {
      "cell_type": "markdown",
      "metadata": {
        "id": "piVzzddLa5tL"
      },
      "source": [
        "Se você acessar o site que lista todas as [bibliotecas default](https://docs.python.org/pt-br/3/library/) de python, verá que existe muita coisa!!!\n",
        "\n",
        "\n",
        "Vamos citar aqui algumas."
      ]
    },
    {
      "cell_type": "markdown",
      "metadata": {
        "id": "WOsLnyiQxiyj"
      },
      "source": [
        "### math\n",
        "[read the docs](https://docs.python.org/pt-br/3/library/math.html)"
      ]
    },
    {
      "cell_type": "code",
      "metadata": {
        "id": "kTqlURruavb5",
        "outputId": "c9ee99da-c7dd-4b2d-ae65-75e9301c3eaa",
        "colab": {
          "base_uri": "https://localhost:8080/"
        }
      },
      "source": [
        "import math\n",
        "\n",
        "math.floor(5.7)"
      ],
      "execution_count": 1,
      "outputs": [
        {
          "output_type": "execute_result",
          "data": {
            "text/plain": [
              "5"
            ]
          },
          "metadata": {
            "tags": []
          },
          "execution_count": 1
        }
      ]
    },
    {
      "cell_type": "code",
      "metadata": {
        "id": "0C3lgEqexPQC",
        "outputId": "03f54400-484f-4752-dbde-8c1d2533eff7",
        "colab": {
          "base_uri": "https://localhost:8080/"
        }
      },
      "source": [
        "math.pow(2,5)"
      ],
      "execution_count": 2,
      "outputs": [
        {
          "output_type": "execute_result",
          "data": {
            "text/plain": [
              "32.0"
            ]
          },
          "metadata": {
            "tags": []
          },
          "execution_count": 2
        }
      ]
    },
    {
      "cell_type": "markdown",
      "metadata": {
        "id": "DffEpehnxlIP"
      },
      "source": [
        "### random\n",
        "[read the docs](https://docs.python.org/pt-br/3/library/random.html)"
      ]
    },
    {
      "cell_type": "code",
      "metadata": {
        "id": "vQQTnQ6Fxmsn"
      },
      "source": [
        "import random"
      ],
      "execution_count": 3,
      "outputs": []
    },
    {
      "cell_type": "code",
      "metadata": {
        "id": "J0E0Ly5Nxpvt",
        "outputId": "d6719d0e-472f-4ed9-983d-7c645558a71d",
        "colab": {
          "base_uri": "https://localhost:8080/"
        }
      },
      "source": [
        "random.randint(0,100)"
      ],
      "execution_count": 7,
      "outputs": [
        {
          "output_type": "execute_result",
          "data": {
            "text/plain": [
              "46"
            ]
          },
          "metadata": {
            "tags": []
          },
          "execution_count": 7
        }
      ]
    },
    {
      "cell_type": "code",
      "metadata": {
        "id": "sEXqnXQYxpx-",
        "outputId": "4a5f2797-43b4-48a1-b4bf-a85068e58105",
        "colab": {
          "base_uri": "https://localhost:8080/"
        }
      },
      "source": [
        "random.choice(range(100))"
      ],
      "execution_count": 8,
      "outputs": [
        {
          "output_type": "execute_result",
          "data": {
            "text/plain": [
              "7"
            ]
          },
          "metadata": {
            "tags": []
          },
          "execution_count": 8
        }
      ]
    },
    {
      "cell_type": "code",
      "metadata": {
        "id": "f0OYU9mux5vC",
        "outputId": "a0a8693b-7663-446b-dfab-ccacb42f41bb",
        "colab": {
          "base_uri": "https://localhost:8080/"
        }
      },
      "source": [
        "random.choices(range(100))"
      ],
      "execution_count": 12,
      "outputs": [
        {
          "output_type": "execute_result",
          "data": {
            "text/plain": [
              "[57]"
            ]
          },
          "metadata": {
            "tags": []
          },
          "execution_count": 12
        }
      ]
    },
    {
      "cell_type": "code",
      "metadata": {
        "id": "Johxb55Sxp0w",
        "outputId": "d8d131d1-e7b6-41ed-a30a-6612f6551af6",
        "colab": {
          "base_uri": "https://localhost:8080/"
        }
      },
      "source": [
        "random.choices(range(100), k=3)"
      ],
      "execution_count": 13,
      "outputs": [
        {
          "output_type": "execute_result",
          "data": {
            "text/plain": [
              "[77, 92, 50]"
            ]
          },
          "metadata": {
            "tags": []
          },
          "execution_count": 13
        }
      ]
    },
    {
      "cell_type": "code",
      "metadata": {
        "id": "2NtmJ7zIylVV",
        "outputId": "5e6777ad-9360-457a-c545-d5114bb1b8d3",
        "colab": {
          "base_uri": "https://localhost:8080/"
        }
      },
      "source": [
        "random.uniform(0,1)"
      ],
      "execution_count": 15,
      "outputs": [
        {
          "output_type": "execute_result",
          "data": {
            "text/plain": [
              "0.9770755046813392"
            ]
          },
          "metadata": {
            "tags": []
          },
          "execution_count": 15
        }
      ]
    },
    {
      "cell_type": "markdown",
      "metadata": {
        "id": "Tc26WHG3y5jE"
      },
      "source": [
        "### statistics\n",
        "[read the docs](https://docs.python.org/pt-br/3/library/statistics.html)"
      ]
    },
    {
      "cell_type": "code",
      "metadata": {
        "id": "5gWfOzpKy8Rf"
      },
      "source": [
        "import statistics"
      ],
      "execution_count": 16,
      "outputs": []
    },
    {
      "cell_type": "code",
      "metadata": {
        "id": "1SE8VfeDzAZk",
        "outputId": "775f141f-5f89-4018-9089-57457b94e541",
        "colab": {
          "base_uri": "https://localhost:8080/"
        }
      },
      "source": [
        "statistics.mean([1, 2, 3, 4, 4])"
      ],
      "execution_count": 17,
      "outputs": [
        {
          "output_type": "execute_result",
          "data": {
            "text/plain": [
              "2.8"
            ]
          },
          "metadata": {
            "tags": []
          },
          "execution_count": 17
        }
      ]
    },
    {
      "cell_type": "code",
      "metadata": {
        "id": "vJtzLZjQzHjw",
        "outputId": "f2411001-8741-4c5e-9d5d-39ebcf4fc542",
        "colab": {
          "base_uri": "https://localhost:8080/"
        }
      },
      "source": [
        "statistics.median([54, 24, 36])"
      ],
      "execution_count": 22,
      "outputs": [
        {
          "output_type": "execute_result",
          "data": {
            "text/plain": [
              "36"
            ]
          },
          "metadata": {
            "tags": []
          },
          "execution_count": 22
        }
      ]
    },
    {
      "cell_type": "code",
      "metadata": {
        "id": "vt5qKrjvz3w-",
        "outputId": "87a71882-20ca-4eaf-94fe-06058b411b58",
        "colab": {
          "base_uri": "https://localhost:8080/"
        }
      },
      "source": [
        "round(statistics.harmonic_mean([54, 24, 36]), 2)"
      ],
      "execution_count": 24,
      "outputs": [
        {
          "output_type": "execute_result",
          "data": {
            "text/plain": [
              "34.11"
            ]
          },
          "metadata": {
            "tags": []
          },
          "execution_count": 24
        }
      ]
    },
    {
      "cell_type": "markdown",
      "metadata": {
        "id": "RlSYYPw90LRC"
      },
      "source": [
        "### time\n",
        "[read the docs](https://docs.python.org/pt-br/3/library/time.html)\n",
        "\n"
      ]
    },
    {
      "cell_type": "code",
      "metadata": {
        "id": "-lgjI6p10O09"
      },
      "source": [
        "import time"
      ],
      "execution_count": 35,
      "outputs": []
    },
    {
      "cell_type": "code",
      "metadata": {
        "id": "0o9RnEJg0RIv",
        "outputId": "db51491c-f80d-4d35-8688-2366083fddab",
        "colab": {
          "base_uri": "https://localhost:8080/"
        }
      },
      "source": [
        "time.time()"
      ],
      "execution_count": 36,
      "outputs": [
        {
          "output_type": "execute_result",
          "data": {
            "text/plain": [
              "1604553261.9046934"
            ]
          },
          "metadata": {
            "tags": []
          },
          "execution_count": 36
        }
      ]
    },
    {
      "cell_type": "code",
      "metadata": {
        "id": "wcGtFcLx03DW",
        "outputId": "43350c21-a7b7-4b7e-b44c-3f6b5ea5e48a",
        "colab": {
          "base_uri": "https://localhost:8080/",
          "height": 35
        }
      },
      "source": [
        "time.strftime(\"%a, %d %b %Y %H:%M:%S +0000\", time.gmtime())"
      ],
      "execution_count": 39,
      "outputs": [
        {
          "output_type": "execute_result",
          "data": {
            "application/vnd.google.colaboratory.intrinsic+json": {
              "type": "string"
            },
            "text/plain": [
              "'Thu, 05 Nov 2020 05:15:41 +0000'"
            ]
          },
          "metadata": {
            "tags": []
          },
          "execution_count": 39
        }
      ]
    }
  ]
}