{
  "nbformat": 4,
  "nbformat_minor": 0,
  "metadata": {
    "colab": {
      "name": "6_Variaveis.ipynb",
      "provenance": [],
      "collapsed_sections": [],
      "toc_visible": true
    },
    "kernelspec": {
      "name": "python3",
      "display_name": "Python 3"
    }
  },
  "cells": [
    {
      "cell_type": "markdown",
      "metadata": {
        "id": "SJqijlfHeN9M"
      },
      "source": [
        "# Curso básico de Python - Variáveis\n",
        "\n",
        "*Esse material pertence às Pyladies-BH*"
      ]
    },
    {
      "cell_type": "code",
      "metadata": {
        "id": "qGpvEiJLp3Y7"
      },
      "source": [
        "__author__ = 'Naiara Cerqueira e Juliana Guamá'"
      ],
      "execution_count": null,
      "outputs": []
    },
    {
      "cell_type": "markdown",
      "metadata": {
        "id": "L9CA0lYWeZfg"
      },
      "source": [
        "# Variáveis e métodos\n",
        "\n",
        "Python trabalha diversos tipos de variáveis e com cada tipo é possível utilizar um método.\n",
        "\n",
        "[Leia a documentação dos tipos base de Python!](https://docs.python.org/3/library/stdtypes.html)"
      ]
    },
    {
      "cell_type": "markdown",
      "metadata": {
        "id": "9Mm-fx9z36wU"
      },
      "source": [
        "## Bool - [bool](https://docs.python.org/3/library/functions.html#bool)\n",
        "\n",
        "Representam falso e verdadeiro."
      ]
    },
    {
      "cell_type": "code",
      "metadata": {
        "id": "vFXdRXgOtTZ4",
        "outputId": "beaeacb6-c3ff-422a-c592-870df476f4c1",
        "colab": {
          "base_uri": "https://localhost:8080/"
        }
      },
      "source": [
        "print(False)\n",
        "type(False)"
      ],
      "execution_count": 1,
      "outputs": [
        {
          "output_type": "stream",
          "text": [
            "False\n"
          ],
          "name": "stdout"
        },
        {
          "output_type": "execute_result",
          "data": {
            "text/plain": [
              "bool"
            ]
          },
          "metadata": {
            "tags": []
          },
          "execution_count": 1
        }
      ]
    },
    {
      "cell_type": "code",
      "metadata": {
        "id": "XUD3l9-Q2Dgr",
        "outputId": "478d1d92-95d5-48c2-9e21-565e987a2a69"
      },
      "source": [
        "true"
      ],
      "execution_count": null,
      "outputs": [
        {
          "output_type": "error",
          "ename": "NameError",
          "evalue": "name 'true' is not defined",
          "traceback": [
            "\u001b[1;31m---------------------------------------------------------------------------\u001b[0m",
            "\u001b[1;31mNameError\u001b[0m                                 Traceback (most recent call last)",
            "\u001b[1;32m<ipython-input-4-adfab3ac73e0>\u001b[0m in \u001b[0;36m<module>\u001b[1;34m\u001b[0m\n\u001b[1;32m----> 1\u001b[1;33m \u001b[0mtrue\u001b[0m\u001b[1;33m\u001b[0m\u001b[1;33m\u001b[0m\u001b[0m\n\u001b[0m\u001b[0;32m      2\u001b[0m \u001b[0mfalse\u001b[0m\u001b[1;33m\u001b[0m\u001b[1;33m\u001b[0m\u001b[0m\n",
            "\u001b[1;31mNameError\u001b[0m: name 'true' is not defined"
          ]
        }
      ]
    },
    {
      "cell_type": "code",
      "metadata": {
        "id": "m7OUZ8DW2Dgw",
        "outputId": "9120fd75-c5f1-46bc-9638-b763c68d2abf"
      },
      "source": [
        "print(True)\n",
        "type(True)"
      ],
      "execution_count": null,
      "outputs": [
        {
          "output_type": "stream",
          "text": [
            "True\n"
          ],
          "name": "stdout"
        },
        {
          "output_type": "execute_result",
          "data": {
            "text/plain": [
              "bool"
            ]
          },
          "metadata": {
            "tags": []
          },
          "execution_count": 11
        }
      ]
    },
    {
      "cell_type": "code",
      "metadata": {
        "id": "HwedM-hb2Dg2",
        "outputId": "739dad82-92db-45e4-c546-f586b19a2a4c"
      },
      "source": [
        "false"
      ],
      "execution_count": null,
      "outputs": [
        {
          "output_type": "error",
          "ename": "NameError",
          "evalue": "name 'false' is not defined",
          "traceback": [
            "\u001b[1;31m---------------------------------------------------------------------------\u001b[0m",
            "\u001b[1;31mNameError\u001b[0m                                 Traceback (most recent call last)",
            "\u001b[1;32m<ipython-input-6-b73d74fcede9>\u001b[0m in \u001b[0;36m<module>\u001b[1;34m\u001b[0m\n\u001b[1;32m----> 1\u001b[1;33m \u001b[0mfalse\u001b[0m\u001b[1;33m\u001b[0m\u001b[1;33m\u001b[0m\u001b[0m\n\u001b[0m",
            "\u001b[1;31mNameError\u001b[0m: name 'false' is not defined"
          ]
        }
      ]
    },
    {
      "cell_type": "markdown",
      "metadata": {
        "id": "yZ5r-peO3SHj"
      },
      "source": [
        "## Tipos numéricos\n",
        "\n",
        "São elas:\n",
        "* [int](https://docs.python.org/3/library/functions.html#int) - representam números que pertencem ao conjunto do números inteiros\n",
        "* [float](https://docs.python.org/3/library/functions.html#float) - representam números que pertencem ao conjunto dos números reais, fora os números inteiros\n",
        "* [complex](https://docs.python.org/3/library/functions.html#complex) - representam números que pertencem ao conjunto dos números complexos"
      ]
    },
    {
      "cell_type": "markdown",
      "metadata": {
        "id": "IyxnZ0Mdug9T"
      },
      "source": [
        "### int"
      ]
    },
    {
      "cell_type": "code",
      "metadata": {
        "id": "ilEZihfq_4ca",
        "outputId": "b8aed2ae-a229-4eeb-f968-00154426cc7a",
        "colab": {
          "base_uri": "https://localhost:8080/"
        }
      },
      "source": [
        "inteiro = 10\n",
        "type(inteiro)"
      ],
      "execution_count": null,
      "outputs": [
        {
          "output_type": "execute_result",
          "data": {
            "text/plain": [
              "int"
            ]
          },
          "metadata": {
            "tags": []
          },
          "execution_count": 3
        }
      ]
    },
    {
      "cell_type": "markdown",
      "metadata": {
        "id": "VGyqKByD4-7l"
      },
      "source": [
        "### float"
      ]
    },
    {
      "cell_type": "code",
      "metadata": {
        "id": "7XvKxHWK_1xn",
        "outputId": "e8786755-6d07-4a6a-ce20-5a6a170dcbe9",
        "colab": {
          "base_uri": "https://localhost:8080/"
        }
      },
      "source": [
        "decimal = 10.5\n",
        "type(decimal)"
      ],
      "execution_count": 2,
      "outputs": [
        {
          "output_type": "execute_result",
          "data": {
            "text/plain": [
              "float"
            ]
          },
          "metadata": {
            "tags": []
          },
          "execution_count": 2
        }
      ]
    },
    {
      "cell_type": "code",
      "metadata": {
        "id": "RuLYSciunKr_",
        "outputId": "ffffd8eb-1992-4f7e-bb66-ba7d3e4905ad",
        "colab": {
          "base_uri": "https://localhost:8080/"
        }
      },
      "source": [
        "cientifico = 5e-6\n",
        "type(cientifico)"
      ],
      "execution_count": null,
      "outputs": [
        {
          "output_type": "execute_result",
          "data": {
            "text/plain": [
              "float"
            ]
          },
          "metadata": {
            "tags": []
          },
          "execution_count": 28
        }
      ]
    },
    {
      "cell_type": "markdown",
      "metadata": {
        "id": "qzgqpLaj5E9F"
      },
      "source": [
        "### complex"
      ]
    },
    {
      "cell_type": "code",
      "metadata": {
        "id": "A7cesb7TuYyo",
        "outputId": "4b6065ce-4a07-415f-e049-6fa01ea97c4c",
        "colab": {
          "base_uri": "https://localhost:8080/"
        }
      },
      "source": [
        "complexo = 3+5j\n",
        "type(complexo)"
      ],
      "execution_count": null,
      "outputs": [
        {
          "output_type": "execute_result",
          "data": {
            "text/plain": [
              "complex"
            ]
          },
          "metadata": {
            "tags": []
          },
          "execution_count": 27
        }
      ]
    },
    {
      "cell_type": "code",
      "metadata": {
        "id": "KElpz3wa8fGv",
        "outputId": "44eedad1-4e63-425d-94db-4e977f0ba91e",
        "colab": {
          "base_uri": "https://localhost:8080/"
        }
      },
      "source": [
        "# Aponta o maior número da lista\n",
        "max(5,4,3)"
      ],
      "execution_count": null,
      "outputs": [
        {
          "output_type": "execute_result",
          "data": {
            "text/plain": [
              "5"
            ]
          },
          "metadata": {
            "tags": []
          },
          "execution_count": 5
        }
      ]
    },
    {
      "cell_type": "markdown",
      "metadata": {
        "id": "JMtd8HXQ2DdO"
      },
      "source": [
        "Curiosidade sobre `complex`: em Python usamos `j` para representar a parte complexa.\n",
        "\n",
        "> De qual departamento era a pessoa que desenvolveu esse tipo básico para usar `j` em vez de `i` na parte complexa?"
      ]
    },
    {
      "cell_type": "code",
      "metadata": {
        "id": "q-3Z4YB72DdR",
        "outputId": "b4b4e276-e5ec-4450-af43-9363c43d11b9"
      },
      "source": [
        "# só funciona com `j` :)\n",
        "type(3+5i)"
      ],
      "execution_count": null,
      "outputs": [
        {
          "output_type": "error",
          "ename": "SyntaxError",
          "evalue": "invalid syntax (<ipython-input-3-c2052ab933d2>, line 1)",
          "traceback": [
            "\u001b[1;36m  File \u001b[1;32m\"<ipython-input-3-c2052ab933d2>\"\u001b[1;36m, line \u001b[1;32m1\u001b[0m\n\u001b[1;33m    type(3+5i)\u001b[0m\n\u001b[1;37m            ^\u001b[0m\n\u001b[1;31mSyntaxError\u001b[0m\u001b[1;31m:\u001b[0m invalid syntax\n"
          ]
        }
      ]
    },
    {
      "cell_type": "markdown",
      "metadata": {
        "id": "k9AAcoqjAgXB"
      },
      "source": [
        "**Operadores aritméticos**\n",
        "\n"
      ]
    },
    {
      "cell_type": "code",
      "metadata": {
        "id": "p6okdxsWHOxl",
        "outputId": "750abdb0-ed2f-4073-bb90-b20639d483d4",
        "colab": {
          "base_uri": "https://localhost:8080/"
        }
      },
      "source": [
        "a = 10\n",
        "b = 3\n",
        "\n",
        "print(\"Soma: \",a+b)\n",
        "print(\"SUbtração: \",a-b)\n",
        "print(\"Multiplicação: \",a*b)\n",
        "print(\"Divisão: \",a/b)\n",
        "print(\"Divisão inteira: \",a//b)\n",
        "print(\"Resto da divisão: \",a%b)\n",
        "print(\"Potência: \",a**b)"
      ],
      "execution_count": null,
      "outputs": [
        {
          "output_type": "stream",
          "text": [
            "Soma:  13\n",
            "SUbtração:  7\n",
            "Multiplicação:  30\n",
            "Divisão:  3.3333333333333335\n",
            "Divisão inteira:  3\n",
            "Resto da divisão:  1\n",
            "Potência:  1000\n"
          ],
          "name": "stdout"
        }
      ]
    },
    {
      "cell_type": "code",
      "metadata": {
        "id": "lnvJCDzOH7Me",
        "outputId": "581ea151-87f0-4787-9d3d-53cd1368189e",
        "colab": {
          "base_uri": "https://localhost:8080/"
        }
      },
      "source": [
        "import math\n",
        "print(\"Raiz: \",math.sqrt(25))"
      ],
      "execution_count": null,
      "outputs": [
        {
          "output_type": "stream",
          "text": [
            "Raiz:  5.0\n"
          ],
          "name": "stdout"
        }
      ]
    },
    {
      "cell_type": "markdown",
      "metadata": {
        "id": "F_0tHDl85Nbu"
      },
      "source": [
        "## Tipo textual - `str`\n",
        "\n",
        "Representam textos. Confira a documentação completa com descrição de todos os métodos neste [link](https://docs.python.org/3/library/stdtypes.html#textseq).\n",
        "\n",
        "Dos tipos básicos apresentados até então, esse é o primeiro tipo que possui métodos `built-in`.\n",
        "\n",
        "Da sintaxe, é `str` pode ser iniciada com aspa simples ou dupla.\n"
      ]
    },
    {
      "cell_type": "code",
      "metadata": {
        "id": "q9GxoWW0_64b",
        "outputId": "f0390566-ca72-4943-e8f3-71399afec3a2",
        "colab": {
          "base_uri": "https://localhost:8080/"
        }
      },
      "source": [
        "# usando aspas duplas\n",
        "frase = \"texto aqui\"\n",
        "type(frase)"
      ],
      "execution_count": 5,
      "outputs": [
        {
          "output_type": "execute_result",
          "data": {
            "text/plain": [
              "str"
            ]
          },
          "metadata": {
            "tags": []
          },
          "execution_count": 5
        }
      ]
    },
    {
      "cell_type": "code",
      "metadata": {
        "id": "QQxIK62G6ChY",
        "outputId": "5c4ad6a4-6e0e-4a53-fd60-34844bcc42a6",
        "colab": {
          "base_uri": "https://localhost:8080/"
        }
      },
      "source": [
        "# usando aspas duplas\n",
        "frase = 'texto aqui'\n",
        "type(frase)"
      ],
      "execution_count": 6,
      "outputs": [
        {
          "output_type": "execute_result",
          "data": {
            "text/plain": [
              "str"
            ]
          },
          "metadata": {
            "tags": []
          },
          "execution_count": 6
        }
      ]
    },
    {
      "cell_type": "code",
      "metadata": {
        "id": "-LQjEJ3w6hCN",
        "outputId": "f13325b7-77b7-448f-9f0d-57690bb53f17",
        "colab": {
          "base_uri": "https://localhost:8080/"
        }
      },
      "source": [
        "# do ponto de vista de Python, as 2 formas são iguais\n",
        "'texto aqui' == \"texto aqui\""
      ],
      "execution_count": 7,
      "outputs": [
        {
          "output_type": "execute_result",
          "data": {
            "text/plain": [
              "True"
            ]
          },
          "metadata": {
            "tags": []
          },
          "execution_count": 7
        }
      ]
    },
    {
      "cell_type": "markdown",
      "metadata": {
        "id": "sA0mq10Y6OGn"
      },
      "source": [
        "### str methods"
      ]
    },
    {
      "cell_type": "code",
      "metadata": {
        "id": "6MC3p_2U-Ryv",
        "outputId": "eccc3e4f-3094-47f6-a237-aed7af75b72a",
        "colab": {
          "base_uri": "https://localhost:8080/",
          "height": 35
        }
      },
      "source": [
        "frase = 'python éuma Linguagem de Programação'\n",
        "frase = frase.replace('éuma', 'é uma')\n",
        "frase"
      ],
      "execution_count": 22,
      "outputs": [
        {
          "output_type": "execute_result",
          "data": {
            "application/vnd.google.colaboratory.intrinsic+json": {
              "type": "string"
            },
            "text/plain": [
              "'python é uma Linguagem de Programação'"
            ]
          },
          "metadata": {
            "tags": []
          },
          "execution_count": 22
        }
      ]
    },
    {
      "cell_type": "code",
      "metadata": {
        "id": "n06rDGMH1J1b",
        "outputId": "64de5cec-fe29-456a-ad69-325726d855e2",
        "colab": {
          "base_uri": "https://localhost:8080/",
          "height": 35
        }
      },
      "source": [
        "# deixa todas as letras maiúsculas\n",
        "frase.upper()"
      ],
      "execution_count": 9,
      "outputs": [
        {
          "output_type": "execute_result",
          "data": {
            "application/vnd.google.colaboratory.intrinsic+json": {
              "type": "string"
            },
            "text/plain": [
              "'PYTHON É UMA LINGUAGEM DE PROGRAMAÇÃO'"
            ]
          },
          "metadata": {
            "tags": []
          },
          "execution_count": 9
        }
      ]
    },
    {
      "cell_type": "code",
      "metadata": {
        "id": "Mr-AVqZY7RLf",
        "outputId": "5f307e2c-36ff-46a2-c1b6-3781b82d7de0",
        "colab": {
          "base_uri": "https://localhost:8080/",
          "height": 35
        }
      },
      "source": [
        "# deixa a primeira letra da frase maiúscula\n",
        "frase.capitalize()"
      ],
      "execution_count": 10,
      "outputs": [
        {
          "output_type": "execute_result",
          "data": {
            "application/vnd.google.colaboratory.intrinsic+json": {
              "type": "string"
            },
            "text/plain": [
              "'Python é uma linguagem de programação'"
            ]
          },
          "metadata": {
            "tags": []
          },
          "execution_count": 10
        }
      ]
    },
    {
      "cell_type": "code",
      "metadata": {
        "id": "F9ITQ84I94Vc",
        "outputId": "060ddfaf-c525-4cff-8b69-631ef9298aac",
        "colab": {
          "base_uri": "https://localhost:8080/",
          "height": 35
        }
      },
      "source": [
        "# Primeira letra de cada palavra em maiúscula\n",
        "frase.title()"
      ],
      "execution_count": 23,
      "outputs": [
        {
          "output_type": "execute_result",
          "data": {
            "application/vnd.google.colaboratory.intrinsic+json": {
              "type": "string"
            },
            "text/plain": [
              "'Python É Uma Linguagem De Programação'"
            ]
          },
          "metadata": {
            "tags": []
          },
          "execution_count": 23
        }
      ]
    },
    {
      "cell_type": "code",
      "metadata": {
        "id": "jIP4dDW58rCJ",
        "outputId": "d1e6761f-4a5a-4023-c8a7-47824ae481c8",
        "colab": {
          "base_uri": "https://localhost:8080/"
        }
      },
      "source": [
        "# divide a frase usando o espaço como separador\n",
        "frase.split(\" \")"
      ],
      "execution_count": 12,
      "outputs": [
        {
          "output_type": "execute_result",
          "data": {
            "text/plain": [
              "['python', 'é', 'uma', 'Linguagem', 'de', 'Programação']"
            ]
          },
          "metadata": {
            "tags": []
          },
          "execution_count": 12
        }
      ]
    },
    {
      "cell_type": "code",
      "metadata": {
        "id": "SoBDffhb-mpc",
        "outputId": "449d9273-5b07-4535-b43d-043e127022b1",
        "colab": {
          "base_uri": "https://localhost:8080/"
        }
      },
      "source": [
        "# Conta quantas letras 'm' existem na frase\n",
        "frase.count('m')"
      ],
      "execution_count": null,
      "outputs": [
        {
          "output_type": "execute_result",
          "data": {
            "text/plain": [
              "3"
            ]
          },
          "metadata": {
            "tags": []
          },
          "execution_count": 33
        }
      ]
    },
    {
      "cell_type": "code",
      "metadata": {
        "id": "blz_wR2G-pfB",
        "outputId": "78b89085-3bc1-4708-ab71-197164283383",
        "colab": {
          "base_uri": "https://localhost:8080/"
        }
      },
      "source": [
        "# Localiza e retorna o índice onde está localizado o caractere / a palavra buscados\n",
        "frase.find('é')"
      ],
      "execution_count": null,
      "outputs": [
        {
          "output_type": "execute_result",
          "data": {
            "text/plain": [
              "7"
            ]
          },
          "metadata": {
            "tags": []
          },
          "execution_count": 34
        }
      ]
    },
    {
      "cell_type": "code",
      "metadata": {
        "id": "-gWT28JWUUxP",
        "outputId": "b42744ba-30e8-4431-a5ae-48312418a855",
        "colab": {
          "base_uri": "https://localhost:8080/",
          "height": 35
        }
      },
      "source": [
        "# Podemos acessar as strings por index\n",
        "frase[4]"
      ],
      "execution_count": null,
      "outputs": [
        {
          "output_type": "execute_result",
          "data": {
            "application/vnd.google.colaboratory.intrinsic+json": {
              "type": "string"
            },
            "text/plain": [
              "'o'"
            ]
          },
          "metadata": {
            "tags": []
          },
          "execution_count": 35
        }
      ]
    },
    {
      "cell_type": "code",
      "metadata": {
        "id": "YUf_Nanv_Uz9",
        "outputId": "0da855cc-5214-46fc-aaff-84148c85978b",
        "colab": {
          "base_uri": "https://localhost:8080/"
        }
      },
      "source": [
        "frase = \"                  aqui                    \"\n",
        "print(frase)"
      ],
      "execution_count": 14,
      "outputs": [
        {
          "output_type": "stream",
          "text": [
            "                  aqui                    \n"
          ],
          "name": "stdout"
        }
      ]
    },
    {
      "cell_type": "code",
      "metadata": {
        "id": "UBmTUTY_9WWH",
        "outputId": "03645a3c-b96c-431f-c078-bd63c9bd60e5",
        "colab": {
          "base_uri": "https://localhost:8080/",
          "height": 35
        }
      },
      "source": [
        "# remove espaços à esquerda - `left`\n",
        "frase.lstrip()"
      ],
      "execution_count": 16,
      "outputs": [
        {
          "output_type": "execute_result",
          "data": {
            "application/vnd.google.colaboratory.intrinsic+json": {
              "type": "string"
            },
            "text/plain": [
              "'aqui                    '"
            ]
          },
          "metadata": {
            "tags": []
          },
          "execution_count": 16
        }
      ]
    },
    {
      "cell_type": "code",
      "metadata": {
        "id": "vq4bhLZL9dR8",
        "outputId": "07ae2c66-ee83-4604-8c88-d12b6073aa57",
        "colab": {
          "base_uri": "https://localhost:8080/",
          "height": 35
        }
      },
      "source": [
        "# remove espaços à direita - `right`\n",
        "frase.rstrip()"
      ],
      "execution_count": 17,
      "outputs": [
        {
          "output_type": "execute_result",
          "data": {
            "application/vnd.google.colaboratory.intrinsic+json": {
              "type": "string"
            },
            "text/plain": [
              "'                  aqui'"
            ]
          },
          "metadata": {
            "tags": []
          },
          "execution_count": 17
        }
      ]
    },
    {
      "cell_type": "code",
      "metadata": {
        "id": "sUkonihr9e0b",
        "outputId": "30c37234-5c58-435e-8169-8240170b1dd8",
        "colab": {
          "base_uri": "https://localhost:8080/",
          "height": 35
        }
      },
      "source": [
        "# remove espaços em ambos os lados\n",
        "frase.strip()"
      ],
      "execution_count": 18,
      "outputs": [
        {
          "output_type": "execute_result",
          "data": {
            "application/vnd.google.colaboratory.intrinsic+json": {
              "type": "string"
            },
            "text/plain": [
              "'aqui'"
            ]
          },
          "metadata": {
            "tags": []
          },
          "execution_count": 18
        }
      ]
    },
    {
      "cell_type": "code",
      "metadata": {
        "id": "C9X0jAeMGqNB",
        "outputId": "ef25785b-6563-4898-a7de-c898044c68c1",
        "colab": {
          "base_uri": "https://localhost:8080/",
          "height": 35
        }
      },
      "source": [
        "# Concatenando strings\n",
        "frase1 = 'Pyladies'\n",
        "frase2 = 'são legais'\n",
        "\n",
        "frase1 + \" \" + frase2"
      ],
      "execution_count": 19,
      "outputs": [
        {
          "output_type": "execute_result",
          "data": {
            "application/vnd.google.colaboratory.intrinsic+json": {
              "type": "string"
            },
            "text/plain": [
              "'Pyladies são legais'"
            ]
          },
          "metadata": {
            "tags": []
          },
          "execution_count": 19
        }
      ]
    },
    {
      "cell_type": "code",
      "metadata": {
        "id": "FIkTew_eULfW",
        "outputId": "89cfac35-1b52-496d-e2ae-cd3eb4312f4d",
        "colab": {
          "base_uri": "https://localhost:8080/",
          "height": 35
        }
      },
      "source": [
        "\"O valor de pi é de aproximadamente \" + str(3.14)"
      ],
      "execution_count": 20,
      "outputs": [
        {
          "output_type": "execute_result",
          "data": {
            "application/vnd.google.colaboratory.intrinsic+json": {
              "type": "string"
            },
            "text/plain": [
              "'O valor de pi é de aproximadamente 3.14'"
            ]
          },
          "metadata": {
            "tags": []
          },
          "execution_count": 20
        }
      ]
    },
    {
      "cell_type": "code",
      "metadata": {
        "id": "k1j4ITPFGy5m",
        "outputId": "a1130b4c-8063-485e-dbac-99db717bb4a1",
        "colab": {
          "base_uri": "https://localhost:8080/",
          "height": 132
        }
      },
      "source": [
        "# Como a string é delimitada por aspas, ao criar uma string que possui aspas (apóstrofo)\n",
        "# temos que usar o scape \"\\\"\n",
        "escape = 'I'm a unicorn!'\n",
        "escape"
      ],
      "execution_count": null,
      "outputs": [
        {
          "output_type": "error",
          "ename": "SyntaxError",
          "evalue": "ignored",
          "traceback": [
            "\u001b[0;36m  File \u001b[0;32m\"<ipython-input-40-34a71f77ab96>\"\u001b[0;36m, line \u001b[0;32m3\u001b[0m\n\u001b[0;31m    escape = 'I'm a unicorn!'\u001b[0m\n\u001b[0m                ^\u001b[0m\n\u001b[0;31mSyntaxError\u001b[0m\u001b[0;31m:\u001b[0m invalid syntax\n"
          ]
        }
      ]
    },
    {
      "cell_type": "code",
      "metadata": {
        "id": "6W6OEd0nG8wz"
      },
      "source": [
        "escape = 'I\\'m a unicorn!'\n",
        "escape"
      ],
      "execution_count": null,
      "outputs": []
    },
    {
      "cell_type": "code",
      "metadata": {
        "id": "-OxSa64XAGKP",
        "outputId": "4e3efcfb-8568-4e9a-ea0b-cb2c4d5f5ec8",
        "colab": {
          "base_uri": "https://localhost:8080/"
        }
      },
      "source": [
        "# Verifica se contém apenas números\n",
        "'306090'.isdigit()"
      ],
      "execution_count": null,
      "outputs": [
        {
          "output_type": "execute_result",
          "data": {
            "text/plain": [
              "True"
            ]
          },
          "metadata": {
            "tags": []
          },
          "execution_count": 119
        }
      ]
    },
    {
      "cell_type": "code",
      "metadata": {
        "id": "Ge66-9-kACrI",
        "outputId": "fa95e13a-032a-4ef9-903a-2f181d307aa3",
        "colab": {
          "base_uri": "https://localhost:8080/"
        }
      },
      "source": [
        "'UPPER'.isupper()"
      ],
      "execution_count": null,
      "outputs": [
        {
          "output_type": "execute_result",
          "data": {
            "text/plain": [
              "True"
            ]
          },
          "metadata": {
            "tags": []
          },
          "execution_count": 109
        }
      ]
    },
    {
      "cell_type": "code",
      "metadata": {
        "id": "Cn02poLvAD8T",
        "outputId": "053aa33d-fa1f-4166-858d-d75ff58ee216",
        "colab": {
          "base_uri": "https://localhost:8080/"
        }
      },
      "source": [
        "'lower'.islower()"
      ],
      "execution_count": null,
      "outputs": [
        {
          "output_type": "execute_result",
          "data": {
            "text/plain": [
              "True"
            ]
          },
          "metadata": {
            "tags": []
          },
          "execution_count": 110
        }
      ]
    },
    {
      "cell_type": "code",
      "metadata": {
        "id": "jfw4YlvKAqgq",
        "outputId": "997f3069-5c8e-483c-dd96-8fc461a0a3a7",
        "colab": {
          "base_uri": "https://localhost:8080/"
        }
      },
      "source": [
        "'   '.isspace()"
      ],
      "execution_count": null,
      "outputs": [
        {
          "output_type": "execute_result",
          "data": {
            "text/plain": [
              "True"
            ]
          },
          "metadata": {
            "tags": []
          },
          "execution_count": 120
        }
      ]
    },
    {
      "cell_type": "code",
      "metadata": {
        "id": "tjQreyTiAras",
        "outputId": "477f8d82-ac7c-4f27-ea1e-985dff2505b6",
        "colab": {
          "base_uri": "https://localhost:8080/",
          "height": 35
        }
      },
      "source": [
        "# Justifica a direita, completando 30 caracteres no total\n",
        "string = 'As pyladies são lindas.'\n",
        "string.rjust(30)"
      ],
      "execution_count": null,
      "outputs": [
        {
          "output_type": "execute_result",
          "data": {
            "application/vnd.google.colaboratory.intrinsic+json": {
              "type": "string"
            },
            "text/plain": [
              "'       As pyladies são lindas.'"
            ]
          },
          "metadata": {
            "tags": []
          },
          "execution_count": 29
        }
      ]
    },
    {
      "cell_type": "code",
      "metadata": {
        "id": "DsUbmnjlA7Nx",
        "outputId": "1b207851-544b-414b-f3a5-47ab34538f2d",
        "colab": {
          "base_uri": "https://localhost:8080/",
          "height": 35
        }
      },
      "source": [
        "# Alinha no centro, completando 30 caracteres no total\n",
        "string = 'As pyladies são lindas.'\n",
        "string.center(30)"
      ],
      "execution_count": null,
      "outputs": [
        {
          "output_type": "execute_result",
          "data": {
            "application/vnd.google.colaboratory.intrinsic+json": {
              "type": "string"
            },
            "text/plain": [
              "'   As pyladies são lindas.    '"
            ]
          },
          "metadata": {
            "tags": []
          },
          "execution_count": 122
        }
      ]
    },
    {
      "cell_type": "code",
      "metadata": {
        "id": "-lWivfYcA7Wl",
        "outputId": "5d375903-528e-48b9-89cb-0de0a7ba7cbe",
        "colab": {
          "base_uri": "https://localhost:8080/",
          "height": 35
        }
      },
      "source": [
        "# Justifica a esquerda, completando 30 caracteres no total\n",
        "string = 'As pyladies são lindas.'\n",
        "string.ljust(30)"
      ],
      "execution_count": null,
      "outputs": [
        {
          "output_type": "execute_result",
          "data": {
            "application/vnd.google.colaboratory.intrinsic+json": {
              "type": "string"
            },
            "text/plain": [
              "'As pyladies são lindas.       '"
            ]
          },
          "metadata": {
            "tags": []
          },
          "execution_count": 123
        }
      ]
    },
    {
      "cell_type": "markdown",
      "metadata": {
        "id": "bNA5cUSS-Qbq"
      },
      "source": [
        "## Sequências\n",
        "\n",
        "Os seguintes tipos base são sequências:\n",
        "* [list](https://docs.python.org/3/library/stdtypes.html#list) - listas\n",
        "* [tuple](https://docs.python.org/3/library/stdtypes.html#tuple) - tuplas\n",
        "* [range](https://docs.python.org/3/library/stdtypes.html#range) - range"
      ]
    },
    {
      "cell_type": "markdown",
      "metadata": {
        "id": "Z-f261VvZdee"
      },
      "source": [
        "### list\n",
        "Listas podem armazenar qualquer tipo. As listas se aproximam do objetivo de listas da vida real em que podemos fazer uma \"lista de compras\", uma \"lista de ações\", etc..\n",
        "\n",
        "Veja todos os métodos de listas [aqui](https://docs.python.org/3/tutorial/datastructures.html#more-on-lists).\n",
        "\n",
        "ATENÇÃO: O objetivo de listas é serem coleções de dados. Não necessitam ser do mesmo tipo. Dessa forma, para operações de matrizes não use listas."
      ]
    },
    {
      "cell_type": "code",
      "metadata": {
        "id": "dVH7CXPZoPc8",
        "outputId": "2b2fb35f-2ced-4cce-c43b-c3fbf24a2ff5",
        "colab": {
          "base_uri": "https://localhost:8080/"
        }
      },
      "source": [
        "# Formas de iniciar listas\n",
        "print(type([]))\n",
        "print(type(list()))"
      ],
      "execution_count": 27,
      "outputs": [
        {
          "output_type": "stream",
          "text": [
            "<class 'list'>\n",
            "<class 'list'>\n"
          ],
          "name": "stdout"
        }
      ]
    },
    {
      "cell_type": "code",
      "metadata": {
        "id": "D0sxS-KCwR3K",
        "outputId": "cd52bded-10b8-4534-f209-d09289486740",
        "colab": {
          "base_uri": "https://localhost:8080/",
          "height": 229
        }
      },
      "source": [
        "lista = [1,2,3,4,5]\n",
        "print(lista)\n",
        "type(lista)\n",
        "\n",
        "lista = list(1,2,3,4,5)\n",
        "print(lista)"
      ],
      "execution_count": 30,
      "outputs": [
        {
          "output_type": "stream",
          "text": [
            "[1, 2, 3, 4, 5]\n"
          ],
          "name": "stdout"
        },
        {
          "output_type": "error",
          "ename": "TypeError",
          "evalue": "ignored",
          "traceback": [
            "\u001b[0;31m---------------------------------------------------------------------------\u001b[0m",
            "\u001b[0;31mTypeError\u001b[0m                                 Traceback (most recent call last)",
            "\u001b[0;32m<ipython-input-30-b6b8f25cbbfb>\u001b[0m in \u001b[0;36m<module>\u001b[0;34m()\u001b[0m\n\u001b[1;32m      3\u001b[0m \u001b[0mtype\u001b[0m\u001b[0;34m(\u001b[0m\u001b[0mlista\u001b[0m\u001b[0;34m)\u001b[0m\u001b[0;34m\u001b[0m\u001b[0;34m\u001b[0m\u001b[0m\n\u001b[1;32m      4\u001b[0m \u001b[0;34m\u001b[0m\u001b[0m\n\u001b[0;32m----> 5\u001b[0;31m \u001b[0mlista\u001b[0m \u001b[0;34m=\u001b[0m \u001b[0mlist\u001b[0m\u001b[0;34m(\u001b[0m\u001b[0;36m1\u001b[0m\u001b[0;34m,\u001b[0m\u001b[0;36m2\u001b[0m\u001b[0;34m,\u001b[0m\u001b[0;36m3\u001b[0m\u001b[0;34m,\u001b[0m\u001b[0;36m4\u001b[0m\u001b[0;34m,\u001b[0m\u001b[0;36m5\u001b[0m\u001b[0;34m)\u001b[0m\u001b[0;34m\u001b[0m\u001b[0;34m\u001b[0m\u001b[0m\n\u001b[0m\u001b[1;32m      6\u001b[0m \u001b[0mprint\u001b[0m\u001b[0;34m(\u001b[0m\u001b[0mlista\u001b[0m\u001b[0;34m)\u001b[0m\u001b[0;34m\u001b[0m\u001b[0;34m\u001b[0m\u001b[0m\n",
            "\u001b[0;31mTypeError\u001b[0m: list() takes at most 1 argument (5 given)"
          ]
        }
      ]
    },
    {
      "cell_type": "code",
      "metadata": {
        "id": "4HXrcy8hw_Pf",
        "outputId": "ee57ba85-4f9d-4800-d353-8105704449f2",
        "colab": {
          "base_uri": "https://localhost:8080/"
        }
      },
      "source": [
        "# A lista pode ter variáveis de todos os tipos\n",
        "lista = [1,'python',True,3.1415]\n",
        "print(lista)\n",
        "type(lista)"
      ],
      "execution_count": null,
      "outputs": [
        {
          "output_type": "stream",
          "text": [
            "[1, 'python', True, 3.1415]\n"
          ],
          "name": "stdout"
        },
        {
          "output_type": "execute_result",
          "data": {
            "text/plain": [
              "list"
            ]
          },
          "metadata": {
            "tags": []
          },
          "execution_count": 41
        }
      ]
    },
    {
      "cell_type": "code",
      "metadata": {
        "id": "vjDMF8Mco3TE",
        "outputId": "907d7545-576e-4db2-b795-ec0e417c0351",
        "colab": {
          "base_uri": "https://localhost:8080/"
        }
      },
      "source": [
        "# Altera valor na posição 2\n",
        "lista = ['abacate', 'limão', 'maçã', 'tomate', 'sal', 'alho', 'cebola', 'pimentão']\n",
        "lista[2] = 10\n",
        "lista"
      ],
      "execution_count": 45,
      "outputs": [
        {
          "output_type": "execute_result",
          "data": {
            "text/plain": [
              "['abacate', 'limão', 10, 'tomate', 'sal', 'alho', 'cebola', 'pimentão']"
            ]
          },
          "metadata": {
            "tags": []
          },
          "execution_count": 45
        }
      ]
    },
    {
      "cell_type": "code",
      "metadata": {
        "id": "v2VjxHMtoxJn",
        "outputId": "754a4420-b764-46e7-be3b-f2f56423c51a",
        "colab": {
          "base_uri": "https://localhost:8080/",
          "height": 35
        }
      },
      "source": [
        "# Encontrar um elemento da lista pelo índice\n",
        "lista[3]"
      ],
      "execution_count": 32,
      "outputs": [
        {
          "output_type": "execute_result",
          "data": {
            "application/vnd.google.colaboratory.intrinsic+json": {
              "type": "string"
            },
            "text/plain": [
              "'tomate'"
            ]
          },
          "metadata": {
            "tags": []
          },
          "execution_count": 32
        }
      ]
    },
    {
      "cell_type": "code",
      "metadata": {
        "id": "FkVwMwb3XxHL",
        "outputId": "14aae03c-ae74-4d8a-aca9-ef222e3db3f4",
        "colab": {
          "base_uri": "https://localhost:8080/"
        }
      },
      "source": [
        "# lista[inicio:fim:step]\n",
        "lista[1:3]"
      ],
      "execution_count": 33,
      "outputs": [
        {
          "output_type": "execute_result",
          "data": {
            "text/plain": [
              "['limão', 10]"
            ]
          },
          "metadata": {
            "tags": []
          },
          "execution_count": 33
        }
      ]
    },
    {
      "cell_type": "code",
      "metadata": {
        "id": "r26-jEfMX4EN",
        "outputId": "889a07da-5384-469d-94ad-2c131d004b84",
        "colab": {
          "base_uri": "https://localhost:8080/",
          "height": 35
        }
      },
      "source": [
        "# Repete elemento 3 vezes\n",
        "lista[1] * 3"
      ],
      "execution_count": 34,
      "outputs": [
        {
          "output_type": "execute_result",
          "data": {
            "application/vnd.google.colaboratory.intrinsic+json": {
              "type": "string"
            },
            "text/plain": [
              "'limãolimãolimão'"
            ]
          },
          "metadata": {
            "tags": []
          },
          "execution_count": 34
        }
      ]
    },
    {
      "cell_type": "code",
      "metadata": {
        "id": "qLvr1s5ZpH-I",
        "outputId": "66553ca7-bcc3-4ec0-d87b-de780f4f972f",
        "colab": {
          "base_uri": "https://localhost:8080/"
        }
      },
      "source": [
        "# Ou faz a multiplicação\n",
        "lista.append('yolo')\n",
        "lista"
      ],
      "execution_count": 46,
      "outputs": [
        {
          "output_type": "execute_result",
          "data": {
            "text/plain": [
              "['abacate', 'limão', 10, 'tomate', 'sal', 'alho', 'cebola', 'pimentão', 'yolo']"
            ]
          },
          "metadata": {
            "tags": []
          },
          "execution_count": 46
        }
      ]
    },
    {
      "cell_type": "code",
      "metadata": {
        "id": "8lm4BNLqYApR",
        "outputId": "1bc028e6-9685-4b90-c670-3df83aef7fb0",
        "colab": {
          "base_uri": "https://localhost:8080/"
        }
      },
      "source": [
        "# Insere \"laranja\" na posição 1\n",
        "lista.insert(1,'laranja')\n",
        "lista"
      ],
      "execution_count": 47,
      "outputs": [
        {
          "output_type": "execute_result",
          "data": {
            "text/plain": [
              "['abacate',\n",
              " 'laranja',\n",
              " 'limão',\n",
              " 10,\n",
              " 'tomate',\n",
              " 'sal',\n",
              " 'alho',\n",
              " 'cebola',\n",
              " 'pimentão',\n",
              " 'yolo']"
            ]
          },
          "metadata": {
            "tags": []
          },
          "execution_count": 47
        }
      ]
    },
    {
      "cell_type": "code",
      "metadata": {
        "id": "K9KaqKMjGuUU",
        "outputId": "ed71039f-73da-4e1e-f2bd-6660438bd2da",
        "colab": {
          "base_uri": "https://localhost:8080/"
        }
      },
      "source": [
        "lista.clear()\n",
        "print(lista)"
      ],
      "execution_count": 39,
      "outputs": [
        {
          "output_type": "stream",
          "text": [
            "[]\n"
          ],
          "name": "stdout"
        }
      ]
    },
    {
      "cell_type": "code",
      "metadata": {
        "id": "LUb-UTm2pV2A",
        "outputId": "8cc46bcc-0e34-42e4-c17d-4dd537735daa",
        "colab": {
          "base_uri": "https://localhost:8080/",
          "height": 35
        }
      },
      "source": [
        "# seleciona o último elemento\n",
        "lista[-1]"
      ],
      "execution_count": 42,
      "outputs": [
        {
          "output_type": "execute_result",
          "data": {
            "application/vnd.google.colaboratory.intrinsic+json": {
              "type": "string"
            },
            "text/plain": [
              "'yolo'"
            ]
          },
          "metadata": {
            "tags": []
          },
          "execution_count": 42
        }
      ]
    },
    {
      "cell_type": "code",
      "metadata": {
        "id": "FIZTIP8IYTcM",
        "outputId": "1c0c7090-6def-4005-d964-79d3ff95b754",
        "colab": {
          "base_uri": "https://localhost:8080/"
        }
      },
      "source": [
        "# Remove e printa o último item\n",
        "lista.pop()\n",
        "lista"
      ],
      "execution_count": 48,
      "outputs": [
        {
          "output_type": "execute_result",
          "data": {
            "text/plain": [
              "['abacate',\n",
              " 'laranja',\n",
              " 'limão',\n",
              " 10,\n",
              " 'tomate',\n",
              " 'sal',\n",
              " 'alho',\n",
              " 'cebola',\n",
              " 'pimentão']"
            ]
          },
          "metadata": {
            "tags": []
          },
          "execution_count": 48
        }
      ]
    },
    {
      "cell_type": "code",
      "metadata": {
        "id": "xHEWYsf2YhTS",
        "outputId": "50717089-6bc2-4130-912a-8e280e6ade51",
        "colab": {
          "base_uri": "https://localhost:8080/"
        }
      },
      "source": [
        "lista.sort()\n",
        "lista"
      ],
      "execution_count": null,
      "outputs": [
        {
          "output_type": "execute_result",
          "data": {
            "text/plain": [
              "['abacate', 'alho', 'cebola', 'limão', 'pimenta', 'pimentão', 'sal', 'tomate']"
            ]
          },
          "metadata": {
            "tags": []
          },
          "execution_count": 7
        }
      ]
    },
    {
      "cell_type": "code",
      "metadata": {
        "id": "54mThQ16Yr_w",
        "outputId": "fc9966e7-ef8b-4c89-f0d8-3438efa91ee2",
        "colab": {
          "base_uri": "https://localhost:8080/"
        }
      },
      "source": [
        "lista.reverse()\n",
        "lista"
      ],
      "execution_count": null,
      "outputs": [
        {
          "output_type": "execute_result",
          "data": {
            "text/plain": [
              "['tomate', 'sal', 'pimentão', 'pimenta', 'limão', 'cebola', 'alho', 'abacate']"
            ]
          },
          "metadata": {
            "tags": []
          },
          "execution_count": 8
        }
      ]
    },
    {
      "cell_type": "code",
      "metadata": {
        "id": "IXepjPBfYvBl",
        "outputId": "890f489d-5c55-447c-f034-2c3455589b4b",
        "colab": {
          "base_uri": "https://localhost:8080/"
        }
      },
      "source": [
        "lista.index('tomate')"
      ],
      "execution_count": null,
      "outputs": [
        {
          "output_type": "execute_result",
          "data": {
            "text/plain": [
              "0"
            ]
          },
          "metadata": {
            "tags": []
          },
          "execution_count": 9
        }
      ]
    },
    {
      "cell_type": "markdown",
      "metadata": {
        "id": "G5afHur8wHPD"
      },
      "source": [
        "### tuple\n",
        "Assim como as listas, armazenam qualquer tipo de objeto. Porém, enquanto listas possuem metodos para acrescentar e remover elementos, tuplas não possuem. De um todo, `tuple` não possue métodos que altearam o conteúdo.\n",
        "\n",
        "Métodos:\n",
        "* count\n",
        "* index\n",
        "\n",
        "No ultimo tópico desse notebook existe uma explicação sobre tipos mutáveis e imutáveis."
      ]
    },
    {
      "cell_type": "code",
      "metadata": {
        "id": "28ukfhejoTkN",
        "outputId": "8f67a995-29ac-485c-e6a3-6edc895acafc",
        "colab": {
          "base_uri": "https://localhost:8080/"
        }
      },
      "source": [
        "# Inicia uma tupla vazia\n",
        "print(type(()))\n",
        "print(type(tuple()))"
      ],
      "execution_count": 52,
      "outputs": [
        {
          "output_type": "stream",
          "text": [
            "<class 'tuple'>\n",
            "<class 'tuple'>\n"
          ],
          "name": "stdout"
        }
      ]
    },
    {
      "cell_type": "code",
      "metadata": {
        "id": "yRuFH1zxwKaE",
        "outputId": "eee0b0dd-2359-4564-bc05-d71950634932",
        "colab": {
          "base_uri": "https://localhost:8080/",
          "height": 229
        }
      },
      "source": [
        "tupla = (1,2,3,4)\n",
        "print(tupla)\n",
        "\n",
        "tupla = tuple(1,2,3,4)\n",
        "print(tupla)"
      ],
      "execution_count": 53,
      "outputs": [
        {
          "output_type": "stream",
          "text": [
            "(1, 2, 3, 4)\n"
          ],
          "name": "stdout"
        },
        {
          "output_type": "error",
          "ename": "TypeError",
          "evalue": "ignored",
          "traceback": [
            "\u001b[0;31m---------------------------------------------------------------------------\u001b[0m",
            "\u001b[0;31mTypeError\u001b[0m                                 Traceback (most recent call last)",
            "\u001b[0;32m<ipython-input-53-e6a7b8006c18>\u001b[0m in \u001b[0;36m<module>\u001b[0;34m()\u001b[0m\n\u001b[1;32m      2\u001b[0m \u001b[0mprint\u001b[0m\u001b[0;34m(\u001b[0m\u001b[0mtupla\u001b[0m\u001b[0;34m)\u001b[0m\u001b[0;34m\u001b[0m\u001b[0;34m\u001b[0m\u001b[0m\n\u001b[1;32m      3\u001b[0m \u001b[0;34m\u001b[0m\u001b[0m\n\u001b[0;32m----> 4\u001b[0;31m \u001b[0mtupla\u001b[0m \u001b[0;34m=\u001b[0m \u001b[0mtuple\u001b[0m\u001b[0;34m(\u001b[0m\u001b[0;36m1\u001b[0m\u001b[0;34m,\u001b[0m\u001b[0;36m2\u001b[0m\u001b[0;34m,\u001b[0m\u001b[0;36m3\u001b[0m\u001b[0;34m,\u001b[0m\u001b[0;36m4\u001b[0m\u001b[0;34m)\u001b[0m\u001b[0;34m\u001b[0m\u001b[0;34m\u001b[0m\u001b[0m\n\u001b[0m\u001b[1;32m      5\u001b[0m \u001b[0mprint\u001b[0m\u001b[0;34m(\u001b[0m\u001b[0mtupla\u001b[0m\u001b[0;34m)\u001b[0m\u001b[0;34m\u001b[0m\u001b[0;34m\u001b[0m\u001b[0m\n",
            "\u001b[0;31mTypeError\u001b[0m: tuple() takes at most 1 argument (4 given)"
          ]
        }
      ]
    },
    {
      "cell_type": "code",
      "metadata": {
        "id": "5AfEHan6wdLQ",
        "outputId": "0c47f684-7f7f-4453-f57a-adac4bcdb4f3",
        "colab": {
          "base_uri": "https://localhost:8080/"
        }
      },
      "source": [
        "# também são tuple\n",
        "tupla = 1,2,3,4\n",
        "\n",
        "print(tupla)\n",
        "print(type(tupla))\n",
        "\n",
        "tupla = 'naiara',42,3.14,True,None,42\n",
        "print(tupla)\n",
        "print(type(tupla))"
      ],
      "execution_count": 61,
      "outputs": [
        {
          "output_type": "stream",
          "text": [
            "(1, 2, 3, 4)\n",
            "<class 'tuple'>\n",
            "('naiara', 42, 3.14, True, None, 42)\n",
            "<class 'tuple'>\n"
          ],
          "name": "stdout"
        }
      ]
    },
    {
      "cell_type": "code",
      "metadata": {
        "id": "YWhx9NXYp7Lp",
        "outputId": "d009ea9e-3c4b-45d0-e5d5-481ebf05dd4c",
        "colab": {
          "base_uri": "https://localhost:8080/"
        }
      },
      "source": [
        "# Conta o número de 1\n",
        "tupla = 'naiara',42,3.14,True,None,42\n",
        "tupla.count(42)"
      ],
      "execution_count": 63,
      "outputs": [
        {
          "output_type": "execute_result",
          "data": {
            "text/plain": [
              "2"
            ]
          },
          "metadata": {
            "tags": []
          },
          "execution_count": 63
        }
      ]
    },
    {
      "cell_type": "code",
      "metadata": {
        "id": "KuenVqIAKpbU",
        "outputId": "f40410a1-0e1d-43d5-a589-66937ef1efcd",
        "colab": {
          "base_uri": "https://localhost:8080/"
        }
      },
      "source": [
        "# Encontra o 1º index do item\n",
        "tupla = 'naiara',42,3.14,True,None,42\n",
        "tupla.index(42)"
      ],
      "execution_count": 64,
      "outputs": [
        {
          "output_type": "execute_result",
          "data": {
            "text/plain": [
              "1"
            ]
          },
          "metadata": {
            "tags": []
          },
          "execution_count": 64
        }
      ]
    },
    {
      "cell_type": "markdown",
      "metadata": {
        "id": "SBlldAwo-8JE"
      },
      "source": [
        "### range\n",
        "Cria uma sequência inteira.\n",
        "\n",
        "Ranges tem o formato: range(start, stop[, step])\n",
        "\n",
        "Ao contrário dos outros tipos vistos até então que já retornam valores, o range retorna um objeto do tipo range.\n",
        "Para ver o resultado, basta colocar o `range` dentro de uma `list`."
      ]
    },
    {
      "cell_type": "code",
      "metadata": {
        "id": "gx7e3bAhMCNU",
        "outputId": "546c6971-8ca5-4af0-eebd-975124ca4a08",
        "colab": {
          "base_uri": "https://localhost:8080/"
        }
      },
      "source": [
        "range(10)"
      ],
      "execution_count": 67,
      "outputs": [
        {
          "output_type": "execute_result",
          "data": {
            "text/plain": [
              "range(0, 10)"
            ]
          },
          "metadata": {
            "tags": []
          },
          "execution_count": 67
        }
      ]
    },
    {
      "cell_type": "code",
      "metadata": {
        "id": "ZlMQAE9N--KX",
        "outputId": "375e7530-dd78-476b-fe60-c5923c7f975f",
        "colab": {
          "base_uri": "https://localhost:8080/"
        }
      },
      "source": [
        "list(range(10))"
      ],
      "execution_count": 66,
      "outputs": [
        {
          "output_type": "execute_result",
          "data": {
            "text/plain": [
              "[0, 1, 2, 3, 4, 5, 6, 7, 8, 9]"
            ]
          },
          "metadata": {
            "tags": []
          },
          "execution_count": 66
        }
      ]
    },
    {
      "cell_type": "code",
      "metadata": {
        "id": "LnwuI52zMT3s",
        "outputId": "43a87050-d0ff-4495-a369-2b9b113416c4",
        "colab": {
          "base_uri": "https://localhost:8080/"
        }
      },
      "source": [
        "list(range(2,10))"
      ],
      "execution_count": 68,
      "outputs": [
        {
          "output_type": "execute_result",
          "data": {
            "text/plain": [
              "[2, 3, 4, 5, 6, 7, 8, 9]"
            ]
          },
          "metadata": {
            "tags": []
          },
          "execution_count": 68
        }
      ]
    },
    {
      "cell_type": "code",
      "metadata": {
        "id": "J5X_4KkjMaSI",
        "outputId": "7c04d4d1-2204-4719-da24-b0a63be466f9",
        "colab": {
          "base_uri": "https://localhost:8080/"
        }
      },
      "source": [
        "list(range(2,10, 2))"
      ],
      "execution_count": 69,
      "outputs": [
        {
          "output_type": "execute_result",
          "data": {
            "text/plain": [
              "[2, 4, 6, 8]"
            ]
          },
          "metadata": {
            "tags": []
          },
          "execution_count": 69
        }
      ]
    },
    {
      "cell_type": "markdown",
      "metadata": {
        "id": "998GAFJx-2Dk"
      },
      "source": [
        "## Conjuntos\n",
        "\n",
        "* [set](https://docs.python.org/3/library/stdtypes.html#set)\n",
        "* [frozenset](https://docs.python.org/3/library/stdtypes.html#frozenset)\n",
        "\n",
        "`set` e `frozenset` são tipos que possuem o mesmo objetivo. A diferença é que `frozenset` precisa ser chamado explicitamente para gerar um objeto do tipo `frozenset` e esse tipo não sobre alterações, ou seja, é imutável."
      ]
    },
    {
      "cell_type": "markdown",
      "metadata": {
        "id": "a1iFxH0mZiMB"
      },
      "source": [
        "### Set \n",
        "\n",
        "Tipo básico que representa coleção de dados únicos não ordenados. Ou seja, é um conjunto que salva apenas instâncias únicas mesmo que hajam várias repetições.\n",
        "\n",
        "O tipo `set` permite operações matemáticas como `union`, `intersection`, `difference` e `symmetric difference`"
      ]
    },
    {
      "cell_type": "code",
      "metadata": {
        "id": "kFf_mI8voX6b",
        "outputId": "b181c757-03db-47ae-a8fb-866d058191a0",
        "colab": {
          "base_uri": "https://localhost:8080/"
        }
      },
      "source": [
        "# Inicia um set vazio\n",
        "print(type({})) #!\n",
        "print(type(set()))"
      ],
      "execution_count": 70,
      "outputs": [
        {
          "output_type": "stream",
          "text": [
            "<class 'dict'>\n",
            "<class 'set'>\n"
          ],
          "name": "stdout"
        }
      ]
    },
    {
      "cell_type": "code",
      "metadata": {
        "id": "Pbg1LeqvxOY6",
        "outputId": "bb1cc618-a787-460b-f1fb-91f72440862c",
        "colab": {
          "base_uri": "https://localhost:8080/"
        }
      },
      "source": [
        "conjunto = {1,2,3,4,4,4,4,4,5,6}\n",
        "print(conjunto)\n",
        "type(conjunto) #!"
      ],
      "execution_count": null,
      "outputs": [
        {
          "output_type": "stream",
          "text": [
            "{1, 2, 3, 4, 5, 6}\n"
          ],
          "name": "stdout"
        },
        {
          "output_type": "execute_result",
          "data": {
            "text/plain": [
              "set"
            ]
          },
          "metadata": {
            "tags": []
          },
          "execution_count": 57
        }
      ]
    },
    {
      "cell_type": "code",
      "metadata": {
        "id": "GRC4UmBRRbBZ",
        "outputId": "b88ad185-73fb-42dc-e026-d83c7bbb2fc3",
        "colab": {
          "base_uri": "https://localhost:8080/"
        }
      },
      "source": [
        "print(type(frozenset( {1,2,3,4,4,4,4,4,5,6})))\n",
        "frozenset( {1,2,3,4,4,4,4,4,5,6})"
      ],
      "execution_count": 98,
      "outputs": [
        {
          "output_type": "stream",
          "text": [
            "<class 'frozenset'>\n"
          ],
          "name": "stdout"
        },
        {
          "output_type": "execute_result",
          "data": {
            "text/plain": [
              "frozenset({1, 2, 3, 4, 5, 6})"
            ]
          },
          "metadata": {
            "tags": []
          },
          "execution_count": 98
        }
      ]
    },
    {
      "cell_type": "code",
      "metadata": {
        "id": "vk2z6DpkO31g"
      },
      "source": [
        "a = set('abracadabra')\n",
        "b = set('alacazam')"
      ],
      "execution_count": 72,
      "outputs": []
    },
    {
      "cell_type": "code",
      "metadata": {
        "id": "AedMHL-bPC7h",
        "outputId": "4aa676bf-3422-4b85-c868-d9dbe865a92c",
        "colab": {
          "base_uri": "https://localhost:8080/"
        }
      },
      "source": [
        "# exemplo com operações matemáticas\n",
        "print(a)\n",
        "print(b)\n",
        "\n",
        "print(\"\\na - b:\")\n",
        "print(a - b)# letras de 'a' que não estão presentes em 'b'\n",
        "\n",
        "print(\"\\na | b:\")\n",
        "print(a | b)# letras presentes em 'a' ou 'b' (or)\n",
        "\n",
        "print(\"\\na & b:\")\n",
        "print(a & b)# letras que estão em 'a' e em 'b' (and)\n",
        "\n",
        "print(\"\\na ^ b:\")\n",
        "print(a ^ b)# letras em 'a' ou 'b' mas não em ambos (xor)"
      ],
      "execution_count": 74,
      "outputs": [
        {
          "output_type": "stream",
          "text": [
            "{'r', 'a', 'd', 'c', 'b'}\n",
            "{'a', 'm', 'c', 'z', 'l'}\n",
            "\n",
            "a - b:\n",
            "{'d', 'b', 'r'}\n",
            "\n",
            "a | b:\n",
            "{'r', 'a', 'd', 'm', 'c', 'z', 'b', 'l'}\n",
            "\n",
            "a & b:\n",
            "{'c', 'a'}\n",
            "\n",
            "a ^ b:\n",
            "{'d', 'r', 'z', 'b', 'l', 'm'}\n"
          ],
          "name": "stdout"
        }
      ]
    },
    {
      "cell_type": "code",
      "metadata": {
        "id": "1OxNVeTNaao-",
        "outputId": "21ffe33c-4c64-45e9-8d6c-8083db411e55",
        "colab": {
          "base_uri": "https://localhost:8080/"
        }
      },
      "source": [
        "conjunto = {1, 3.14, 'abacate', 'chilli'}\n",
        "'abacate' in conjunto"
      ],
      "execution_count": 94,
      "outputs": [
        {
          "output_type": "execute_result",
          "data": {
            "text/plain": [
              "True"
            ]
          },
          "metadata": {
            "tags": []
          },
          "execution_count": 94
        }
      ]
    },
    {
      "cell_type": "code",
      "metadata": {
        "id": "HuFgtJ9Pbm8T",
        "outputId": "ae867807-784a-4046-d32c-5acaabdf64bf",
        "colab": {
          "base_uri": "https://localhost:8080/"
        }
      },
      "source": [
        "# remove item\n",
        "conjunto.remove('abacate')\n",
        "conjunto"
      ],
      "execution_count": 91,
      "outputs": [
        {
          "output_type": "execute_result",
          "data": {
            "text/plain": [
              "{1, 3.14, 'chilli'}"
            ]
          },
          "metadata": {
            "tags": []
          },
          "execution_count": 91
        }
      ]
    },
    {
      "cell_type": "code",
      "metadata": {
        "id": "wFeXVbj6btIG",
        "outputId": "29b66d42-a894-4c3e-aed3-5a3c0aa0a728",
        "colab": {
          "base_uri": "https://localhost:8080/"
        }
      },
      "source": [
        "# remove algum item\n",
        "conjunto.pop()\n",
        "conjunto"
      ],
      "execution_count": 95,
      "outputs": [
        {
          "output_type": "execute_result",
          "data": {
            "text/plain": [
              "{3.14, 'abacate', 'chilli'}"
            ]
          },
          "metadata": {
            "tags": []
          },
          "execution_count": 95
        }
      ]
    },
    {
      "cell_type": "code",
      "metadata": {
        "id": "Dupp7fd7byPI",
        "outputId": "ac75b033-987b-49b6-980c-3d5d1918c69a",
        "colab": {
          "base_uri": "https://localhost:8080/"
        }
      },
      "source": [
        "# remove todos os itens\n",
        "conjunto.clear()\n",
        "conjunto"
      ],
      "execution_count": 96,
      "outputs": [
        {
          "output_type": "execute_result",
          "data": {
            "text/plain": [
              "set()"
            ]
          },
          "metadata": {
            "tags": []
          },
          "execution_count": 96
        }
      ]
    },
    {
      "cell_type": "markdown",
      "metadata": {
        "id": "dgcQ6NuQRtX4"
      },
      "source": [
        "## Tipos mapeáveis - dict\n",
        "* [dict](https://docs.python.org/3/library/stdtypes.html#dict)"
      ]
    },
    {
      "cell_type": "markdown",
      "metadata": {
        "id": "AQ_JOht-ZgUi"
      },
      "source": [
        "### dict\n",
        "São dicionários. São objetos que possuem a estrutura `key: value`.\n",
        "\n",
        "Sua estrutura **lembra**  muito `json`.\n",
        "\n"
      ]
    },
    {
      "cell_type": "code",
      "metadata": {
        "id": "v7wAiZlfSTag",
        "outputId": "c72879e9-beb9-4a19-8c32-e9c9b8d86847",
        "colab": {
          "base_uri": "https://localhost:8080/"
        }
      },
      "source": [
        "# Inicia um dict vazio\n",
        "print(type({})) #!\n",
        "print(type(dict()))"
      ],
      "execution_count": 99,
      "outputs": [
        {
          "output_type": "stream",
          "text": [
            "<class 'dict'>\n",
            "<class 'dict'>\n"
          ],
          "name": "stdout"
        }
      ]
    },
    {
      "cell_type": "code",
      "metadata": {
        "id": "1wN7vhfSwluD",
        "outputId": "923559f9-69a1-4c0f-8abc-b19e4f282af6",
        "colab": {
          "base_uri": "https://localhost:8080/"
        }
      },
      "source": [
        "dicionario = {'MG':'Belo Horizonte','BA':'Salvador','PE':'Recife','AM':'Manaus'}\n",
        "print(dicionario)\n",
        "type(dicionario)"
      ],
      "execution_count": 104,
      "outputs": [
        {
          "output_type": "stream",
          "text": [
            "{'MG': 'Belo Horizonte', 'BA': 'Salvador', 'PE': 'Recife', 'AM': 'Manaus'}\n"
          ],
          "name": "stdout"
        },
        {
          "output_type": "execute_result",
          "data": {
            "text/plain": [
              "dict"
            ]
          },
          "metadata": {
            "tags": []
          },
          "execution_count": 104
        }
      ]
    },
    {
      "cell_type": "code",
      "metadata": {
        "id": "Lf0YyUdcdOe1",
        "outputId": "f3907b69-eee9-4042-8011-2d7a544ccf4c",
        "colab": {
          "base_uri": "https://localhost:8080/",
          "height": 35
        }
      },
      "source": [
        "dicionario['MG']"
      ],
      "execution_count": 105,
      "outputs": [
        {
          "output_type": "execute_result",
          "data": {
            "application/vnd.google.colaboratory.intrinsic+json": {
              "type": "string"
            },
            "text/plain": [
              "'Belo Horizonte'"
            ]
          },
          "metadata": {
            "tags": []
          },
          "execution_count": 105
        }
      ]
    },
    {
      "cell_type": "code",
      "metadata": {
        "id": "TxxpNyOkdSp3",
        "outputId": "2b26aa09-aa40-4b63-9d70-824d591e9bf1",
        "colab": {
          "base_uri": "https://localhost:8080/"
        }
      },
      "source": [
        "dicionario['MG'] = 'valor5'\n",
        "dicionario"
      ],
      "execution_count": 106,
      "outputs": [
        {
          "output_type": "execute_result",
          "data": {
            "text/plain": [
              "{'AM': 'Manaus', 'BA': 'Salvador', 'MG': 'valor5', 'PE': 'Recife'}"
            ]
          },
          "metadata": {
            "tags": []
          },
          "execution_count": 106
        }
      ]
    },
    {
      "cell_type": "code",
      "metadata": {
        "id": "mcAT_QZ9dzfm",
        "outputId": "39306261-b94d-463b-8a28-1a4f04b29250",
        "colab": {
          "base_uri": "https://localhost:8080/"
        }
      },
      "source": [
        "# mostra todas as keys\n",
        "dicionario.keys()"
      ],
      "execution_count": 108,
      "outputs": [
        {
          "output_type": "execute_result",
          "data": {
            "text/plain": [
              "dict_keys(['MG', 'BA', 'PE', 'AM'])"
            ]
          },
          "metadata": {
            "tags": []
          },
          "execution_count": 108
        }
      ]
    },
    {
      "cell_type": "code",
      "metadata": {
        "id": "hj-MgZPBd2Tf",
        "outputId": "e0c7fa73-4643-45c7-be33-0e8a63978544",
        "colab": {
          "base_uri": "https://localhost:8080/"
        }
      },
      "source": [
        "# mostra todos os valores\n",
        "dicionario.values()"
      ],
      "execution_count": 109,
      "outputs": [
        {
          "output_type": "execute_result",
          "data": {
            "text/plain": [
              "dict_values(['valor5', 'Salvador', 'Recife', 'Manaus'])"
            ]
          },
          "metadata": {
            "tags": []
          },
          "execution_count": 109
        }
      ]
    },
    {
      "cell_type": "code",
      "metadata": {
        "id": "YkK7AU5-d3Vn",
        "outputId": "bcff9c0a-d848-4f90-ab30-226e9b376c4c",
        "colab": {
          "base_uri": "https://localhost:8080/"
        }
      },
      "source": [
        "# mostra os pares itens, valores\n",
        "dicionario.items()"
      ],
      "execution_count": 111,
      "outputs": [
        {
          "output_type": "execute_result",
          "data": {
            "text/plain": [
              "dict_items([('MG', 'valor5'), ('BA', 'Salvador'), ('PE', 'Recife'), ('AM', 'Manaus')])"
            ]
          },
          "metadata": {
            "tags": []
          },
          "execution_count": 111
        }
      ]
    },
    {
      "cell_type": "code",
      "metadata": {
        "id": "SLvcae4hd7oH",
        "outputId": "452f756b-4d60-49a1-a50a-c249d1aee7f7",
        "colab": {
          "base_uri": "https://localhost:8080/",
          "height": 35
        }
      },
      "source": [
        "# seleciona o valor para o item de chave 'MG'\n",
        "dicionario.get('MG')"
      ],
      "execution_count": 112,
      "outputs": [
        {
          "output_type": "execute_result",
          "data": {
            "application/vnd.google.colaboratory.intrinsic+json": {
              "type": "string"
            },
            "text/plain": [
              "'valor5'"
            ]
          },
          "metadata": {
            "tags": []
          },
          "execution_count": 112
        }
      ]
    },
    {
      "cell_type": "code",
      "metadata": {
        "id": "_63PWjcGeCQp",
        "outputId": "e2bebbb8-9e51-4d07-b66e-bb571c1fee31",
        "colab": {
          "base_uri": "https://localhost:8080/",
          "height": 195
        }
      },
      "source": [
        "# --> não temos a key 'SP' <--\n",
        "dicionario.get('SP')\n",
        "\n",
        "dicionario['SP']"
      ],
      "execution_count": 113,
      "outputs": [
        {
          "output_type": "error",
          "ename": "KeyError",
          "evalue": "ignored",
          "traceback": [
            "\u001b[0;31m---------------------------------------------------------------------------\u001b[0m",
            "\u001b[0;31mKeyError\u001b[0m                                  Traceback (most recent call last)",
            "\u001b[0;32m<ipython-input-113-ec17ed44057b>\u001b[0m in \u001b[0;36m<module>\u001b[0;34m()\u001b[0m\n\u001b[1;32m      2\u001b[0m \u001b[0mdicionario\u001b[0m\u001b[0;34m.\u001b[0m\u001b[0mget\u001b[0m\u001b[0;34m(\u001b[0m\u001b[0;34m'SP'\u001b[0m\u001b[0;34m)\u001b[0m\u001b[0;34m\u001b[0m\u001b[0;34m\u001b[0m\u001b[0m\n\u001b[1;32m      3\u001b[0m \u001b[0;34m\u001b[0m\u001b[0m\n\u001b[0;32m----> 4\u001b[0;31m \u001b[0mdicionario\u001b[0m\u001b[0;34m[\u001b[0m\u001b[0;34m'SP'\u001b[0m\u001b[0;34m]\u001b[0m\u001b[0;34m\u001b[0m\u001b[0;34m\u001b[0m\u001b[0m\n\u001b[0m",
            "\u001b[0;31mKeyError\u001b[0m: 'SP'"
          ]
        }
      ]
    },
    {
      "cell_type": "code",
      "metadata": {
        "id": "3Demb0gZeMIp",
        "outputId": "df77abe3-8d60-448b-8342-46203860c6c2",
        "colab": {
          "base_uri": "https://localhost:8080/",
          "height": 35
        }
      },
      "source": [
        "dicionario.get('SP','Capital não cadastrada')"
      ],
      "execution_count": 114,
      "outputs": [
        {
          "output_type": "execute_result",
          "data": {
            "application/vnd.google.colaboratory.intrinsic+json": {
              "type": "string"
            },
            "text/plain": [
              "'Capital não cadastrada'"
            ]
          },
          "metadata": {
            "tags": []
          },
          "execution_count": 114
        }
      ]
    },
    {
      "cell_type": "markdown",
      "metadata": {
        "id": "hB88ARokeifg"
      },
      "source": [
        "# Mutabilidade e imutabilidade\n"
      ]
    },
    {
      "cell_type": "markdown",
      "metadata": {
        "id": "d2sO-MeV0fwW"
      },
      "source": [
        "## Variáveis imutáveis\n",
        "\n",
        "Ser imutável significa que, do nascimento ao descarte, a variável é instanciada com um valor único. São imutáveis:\n",
        "\n",
        "* bool\n",
        "* int\n",
        "* float\n",
        "* complex\n",
        "* str\n",
        "* tuple\n",
        "* frozenset"
      ]
    },
    {
      "cell_type": "code",
      "metadata": {
        "id": "8oeLsqjfafUY",
        "outputId": "895dd4d4-ab7c-4a84-abaf-f47882d6ec93",
        "colab": {
          "base_uri": "https://localhost:8080/"
        }
      },
      "source": [
        "x = 42\n",
        "id(x)"
      ],
      "execution_count": 116,
      "outputs": [
        {
          "output_type": "execute_result",
          "data": {
            "text/plain": [
              "10915808"
            ]
          },
          "metadata": {
            "tags": []
          },
          "execution_count": 116
        }
      ]
    },
    {
      "cell_type": "code",
      "metadata": {
        "id": "peTYeOPvyKM3",
        "outputId": "23c39a62-32b5-45d3-992b-812c0c187386",
        "colab": {
          "base_uri": "https://localhost:8080/"
        }
      },
      "source": [
        "x = x + 1\n",
        "print(x)\n",
        "print(id(x))"
      ],
      "execution_count": 117,
      "outputs": [
        {
          "output_type": "stream",
          "text": [
            "43\n",
            "10915840\n"
          ],
          "name": "stdout"
        }
      ]
    },
    {
      "cell_type": "code",
      "metadata": {
        "id": "a-BBfFfCUuvh",
        "outputId": "af1f839d-bef6-445b-be76-287da038c42e",
        "colab": {
          "base_uri": "https://localhost:8080/"
        }
      },
      "source": [
        "id(42)"
      ],
      "execution_count": 118,
      "outputs": [
        {
          "output_type": "execute_result",
          "data": {
            "text/plain": [
              "10915808"
            ]
          },
          "metadata": {
            "tags": []
          },
          "execution_count": 118
        }
      ]
    },
    {
      "cell_type": "markdown",
      "metadata": {
        "id": "ZDglVNRoyaJh"
      },
      "source": [
        "A função id() retorna o id único para um objeto específico; todo objeto do python tem uma id e essa id é atribuída ao objeto no momento em que ele é criado. \n",
        "\n",
        "O id, na verdade, é o endereço de memória desse objeto criado, e será diferente toda vez que você rodar o programa, com algumas exeções.\n",
        "\n",
        "Observe que, no exemplo acima, ao mudar o valor da variável, o que de fato acontece é que outra nova variável é instanciada com o novo valor. Em resumo, o endereço de memória é diferente.\n",
        "\n",
        "Isso significa que a variável é **imutável**: não se altera de fato a variável, já que uma nova é criada em novo endereço de memória.\n"
      ]
    },
    {
      "cell_type": "markdown",
      "metadata": {
        "id": "ftUNuf340n-u"
      },
      "source": [
        "## Variáveis mutáveis\n",
        "\n",
        "São mutáveis:\n",
        "\n",
        "* lists\n",
        "* set\n",
        "* dict"
      ]
    },
    {
      "cell_type": "code",
      "metadata": {
        "id": "8-oB46hZz9MH",
        "outputId": "12424372-24eb-453f-cc9b-853543825420",
        "colab": {
          "base_uri": "https://localhost:8080/"
        }
      },
      "source": [
        "x = [22, 44]\n",
        "id(x)"
      ],
      "execution_count": null,
      "outputs": [
        {
          "output_type": "execute_result",
          "data": {
            "text/plain": [
              "140089260610120"
            ]
          },
          "metadata": {
            "tags": []
          },
          "execution_count": 28
        }
      ]
    },
    {
      "cell_type": "code",
      "metadata": {
        "id": "ps8v08bV0wjr",
        "outputId": "c8d0ce02-39f4-4a08-b515-f5cfb205a51a",
        "colab": {
          "base_uri": "https://localhost:8080/"
        }
      },
      "source": [
        "x.append(66)\n",
        "print(x)\n",
        "id(x)"
      ],
      "execution_count": null,
      "outputs": [
        {
          "output_type": "stream",
          "text": [
            "[22, 44, 66]\n"
          ],
          "name": "stdout"
        },
        {
          "output_type": "execute_result",
          "data": {
            "text/plain": [
              "140089260610120"
            ]
          },
          "metadata": {
            "tags": []
          },
          "execution_count": 29
        }
      ]
    },
    {
      "cell_type": "markdown",
      "metadata": {
        "id": "xADjg9SPybOf"
      },
      "source": [
        "Observe bem: **mesmo id**, mesmo endereço de memória!"
      ]
    }
  ]
}