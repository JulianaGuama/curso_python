{
  "nbformat": 4,
  "nbformat_minor": 0,
  "metadata": {
    "colab": {
      "name": "Notebook 2.ipynb",
      "provenance": [],
      "collapsed_sections": [],
      "toc_visible": true
    },
    "kernelspec": {
      "name": "python3",
      "display_name": "Python 3"
    }
  },
  "cells": [
    {
      "cell_type": "markdown",
      "metadata": {
        "id": "SJqijlfHeN9M"
      },
      "source": [
        "# Curso básico de Python - Notebook 2\n",
        "\n",
        "*Esse material pertence às Pyladies-BH*"
      ]
    },
    {
      "cell_type": "code",
      "metadata": {
        "id": "qGpvEiJLp3Y7"
      },
      "source": [
        "__author__ = 'Naiara Cerqueira e Juliana Guamá'"
      ],
      "execution_count": null,
      "outputs": []
    },
    {
      "cell_type": "markdown",
      "metadata": {
        "id": "L9CA0lYWeZfg"
      },
      "source": [
        "## 1 Variáveis e métodos\n",
        "\n",
        "Python trabalha diversos tipos de variáveis e com cada tipo é possível utilizar um método."
      ]
    },
    {
      "cell_type": "markdown",
      "metadata": {
        "id": "IyxnZ0Mdug9T"
      },
      "source": [
        "### 1.1 Numéricas"
      ]
    },
    {
      "cell_type": "code",
      "metadata": {
        "id": "ilEZihfq_4ca",
        "outputId": "b8aed2ae-a229-4eeb-f968-00154426cc7a",
        "colab": {
          "base_uri": "https://localhost:8080/"
        }
      },
      "source": [
        "inteiro = 10\n",
        "type(inteiro)"
      ],
      "execution_count": null,
      "outputs": [
        {
          "output_type": "execute_result",
          "data": {
            "text/plain": [
              "int"
            ]
          },
          "metadata": {
            "tags": []
          },
          "execution_count": 3
        }
      ]
    },
    {
      "cell_type": "code",
      "metadata": {
        "id": "7XvKxHWK_1xn",
        "outputId": "c86a3928-6a1b-43ac-bf4c-bfa53c59ac35",
        "colab": {
          "base_uri": "https://localhost:8080/"
        }
      },
      "source": [
        "decimal = 10.5\n",
        "type(decimal)"
      ],
      "execution_count": null,
      "outputs": [
        {
          "output_type": "execute_result",
          "data": {
            "text/plain": [
              "float"
            ]
          },
          "metadata": {
            "tags": []
          },
          "execution_count": 2
        }
      ]
    },
    {
      "cell_type": "code",
      "metadata": {
        "id": "RuLYSciunKr_",
        "outputId": "ffffd8eb-1992-4f7e-bb66-ba7d3e4905ad",
        "colab": {
          "base_uri": "https://localhost:8080/"
        }
      },
      "source": [
        "cientifico = 5e-6\n",
        "type(cientifico)"
      ],
      "execution_count": null,
      "outputs": [
        {
          "output_type": "execute_result",
          "data": {
            "text/plain": [
              "float"
            ]
          },
          "metadata": {
            "tags": []
          },
          "execution_count": 28
        }
      ]
    },
    {
      "cell_type": "code",
      "metadata": {
        "id": "A7cesb7TuYyo",
        "outputId": "4b6065ce-4a07-415f-e049-6fa01ea97c4c",
        "colab": {
          "base_uri": "https://localhost:8080/"
        }
      },
      "source": [
        "complexo = 3+5j\n",
        "type(complexo)"
      ],
      "execution_count": null,
      "outputs": [
        {
          "output_type": "execute_result",
          "data": {
            "text/plain": [
              "complex"
            ]
          },
          "metadata": {
            "tags": []
          },
          "execution_count": 27
        }
      ]
    },
    {
      "cell_type": "code",
      "metadata": {
        "id": "KElpz3wa8fGv",
        "outputId": "44eedad1-4e63-425d-94db-4e977f0ba91e",
        "colab": {
          "base_uri": "https://localhost:8080/"
        }
      },
      "source": [
        "# Aponta o maior número da lista\n",
        "max(5,4,3)"
      ],
      "execution_count": null,
      "outputs": [
        {
          "output_type": "execute_result",
          "data": {
            "text/plain": [
              "5"
            ]
          },
          "metadata": {
            "tags": []
          },
          "execution_count": 5
        }
      ]
    },
    {
      "cell_type": "code",
      "metadata": {
        "id": "kJPg5F1xBEdL",
        "outputId": "21c914d8-6af6-4654-c3f8-8009fab70a8b",
        "colab": {
          "base_uri": "https://localhost:8080/"
        }
      },
      "source": [
        "# Aponta o menor número da lista\n",
        "min(5,4,3)"
      ],
      "execution_count": null,
      "outputs": [
        {
          "output_type": "execute_result",
          "data": {
            "text/plain": [
              "3"
            ]
          },
          "metadata": {
            "tags": []
          },
          "execution_count": 6
        }
      ]
    },
    {
      "cell_type": "code",
      "metadata": {
        "id": "03blstXY8h9v",
        "outputId": "7776c90a-7ab8-4fae-8fb4-2150fa0d311a",
        "colab": {
          "base_uri": "https://localhost:8080/"
        }
      },
      "source": [
        "# Tira o módulo do número\n",
        "abs(-4)"
      ],
      "execution_count": null,
      "outputs": [
        {
          "output_type": "execute_result",
          "data": {
            "text/plain": [
              "4"
            ]
          },
          "metadata": {
            "tags": []
          },
          "execution_count": 7
        }
      ]
    },
    {
      "cell_type": "code",
      "metadata": {
        "id": "356mBV0RPIBw"
      },
      "source": [
        "# Perguntando ao python o que é abs()\n",
        "abs?"
      ],
      "execution_count": null,
      "outputs": []
    },
    {
      "cell_type": "code",
      "metadata": {
        "id": "T1Q9MNULBeoN",
        "outputId": "110c4788-3afe-4489-ecdd-477f5305ec4d",
        "colab": {
          "base_uri": "https://localhost:8080/"
        }
      },
      "source": [
        "# Gera números aleatórios entre 1 e 20\n",
        "import random\n",
        "random.randint(1,20)"
      ],
      "execution_count": null,
      "outputs": [
        {
          "output_type": "execute_result",
          "data": {
            "text/plain": [
              "15"
            ]
          },
          "metadata": {
            "tags": []
          },
          "execution_count": 9
        }
      ]
    },
    {
      "cell_type": "markdown",
      "metadata": {
        "id": "k9AAcoqjAgXB"
      },
      "source": [
        "**Operadores aritméticos**\n",
        "\n"
      ]
    },
    {
      "cell_type": "code",
      "metadata": {
        "id": "p6okdxsWHOxl",
        "outputId": "750abdb0-ed2f-4073-bb90-b20639d483d4",
        "colab": {
          "base_uri": "https://localhost:8080/"
        }
      },
      "source": [
        "a = 10\n",
        "b = 3\n",
        "\n",
        "print(\"Soma: \",a+b)\n",
        "print(\"SUbtração: \",a-b)\n",
        "print(\"Multiplicação: \",a*b)\n",
        "print(\"Divisão: \",a/b)\n",
        "print(\"Divisão inteira: \",a//b)\n",
        "print(\"Resto da divisão: \",a%b)\n",
        "print(\"Potência: \",a**b)"
      ],
      "execution_count": null,
      "outputs": [
        {
          "output_type": "stream",
          "text": [
            "Soma:  13\n",
            "SUbtração:  7\n",
            "Multiplicação:  30\n",
            "Divisão:  3.3333333333333335\n",
            "Divisão inteira:  3\n",
            "Resto da divisão:  1\n",
            "Potência:  1000\n"
          ],
          "name": "stdout"
        }
      ]
    },
    {
      "cell_type": "code",
      "metadata": {
        "id": "lnvJCDzOH7Me",
        "outputId": "581ea151-87f0-4787-9d3d-53cd1368189e",
        "colab": {
          "base_uri": "https://localhost:8080/"
        }
      },
      "source": [
        "import math\n",
        "print(\"Raiz: \",math.sqrt(25))"
      ],
      "execution_count": null,
      "outputs": [
        {
          "output_type": "stream",
          "text": [
            "Raiz:  5.0\n"
          ],
          "name": "stdout"
        }
      ]
    },
    {
      "cell_type": "markdown",
      "metadata": {
        "id": "5W2nJqozuuNR"
      },
      "source": [
        "### 1.2 Strings"
      ]
    },
    {
      "cell_type": "code",
      "metadata": {
        "id": "q9GxoWW0_64b",
        "outputId": "fbf4b6c8-7dc1-4fe9-a1cb-f2ab5fd702d1",
        "colab": {
          "base_uri": "https://localhost:8080/"
        }
      },
      "source": [
        "frase = \"python éuma Linguagem de Programação\"\n",
        "type(frase)"
      ],
      "execution_count": null,
      "outputs": [
        {
          "output_type": "execute_result",
          "data": {
            "text/plain": [
              "str"
            ]
          },
          "metadata": {
            "tags": []
          },
          "execution_count": 29
        }
      ]
    },
    {
      "cell_type": "code",
      "metadata": {
        "id": "6MC3p_2U-Ryv",
        "outputId": "4464faa4-7c8e-499f-ca2c-9bfc90fde87e",
        "colab": {
          "base_uri": "https://localhost:8080/",
          "height": 35
        }
      },
      "source": [
        "frase = frase.replace('éuma', 'é uma')\n",
        "frase"
      ],
      "execution_count": null,
      "outputs": [
        {
          "output_type": "execute_result",
          "data": {
            "application/vnd.google.colaboratory.intrinsic+json": {
              "type": "string"
            },
            "text/plain": [
              "'python é uma Linguagem de Programação'"
            ]
          },
          "metadata": {
            "tags": []
          },
          "execution_count": 30
        }
      ]
    },
    {
      "cell_type": "code",
      "metadata": {
        "id": "n06rDGMH1J1b",
        "outputId": "e4103ab1-a34f-43a0-d082-8018bdeaac7f",
        "colab": {
          "base_uri": "https://localhost:8080/"
        }
      },
      "source": [
        "# Tamanho da string\n",
        "len(frase)"
      ],
      "execution_count": null,
      "outputs": [
        {
          "output_type": "execute_result",
          "data": {
            "text/plain": [
              "37"
            ]
          },
          "metadata": {
            "tags": []
          },
          "execution_count": 31
        }
      ]
    },
    {
      "cell_type": "code",
      "metadata": {
        "id": "mtWqKYRA-j6K",
        "outputId": "a7a5fc3b-a543-44e5-dd10-1399ae23f1bb",
        "colab": {
          "base_uri": "https://localhost:8080/"
        }
      },
      "source": [
        "# Conta quantas palavras 'python' existem na frase\n",
        "frase.count('python')"
      ],
      "execution_count": null,
      "outputs": [
        {
          "output_type": "execute_result",
          "data": {
            "text/plain": [
              "1"
            ]
          },
          "metadata": {
            "tags": []
          },
          "execution_count": 32
        }
      ]
    },
    {
      "cell_type": "code",
      "metadata": {
        "id": "SoBDffhb-mpc",
        "outputId": "449d9273-5b07-4535-b43d-043e127022b1",
        "colab": {
          "base_uri": "https://localhost:8080/"
        }
      },
      "source": [
        "# Conta quantas letras 'm' existem na frase\n",
        "frase.count('m')"
      ],
      "execution_count": null,
      "outputs": [
        {
          "output_type": "execute_result",
          "data": {
            "text/plain": [
              "3"
            ]
          },
          "metadata": {
            "tags": []
          },
          "execution_count": 33
        }
      ]
    },
    {
      "cell_type": "code",
      "metadata": {
        "id": "blz_wR2G-pfB",
        "outputId": "78b89085-3bc1-4708-ab71-197164283383",
        "colab": {
          "base_uri": "https://localhost:8080/"
        }
      },
      "source": [
        "# Localiza e retorna o índice onde está localizado o caractere / a palavra buscados\n",
        "frase.find('é')"
      ],
      "execution_count": null,
      "outputs": [
        {
          "output_type": "execute_result",
          "data": {
            "text/plain": [
              "7"
            ]
          },
          "metadata": {
            "tags": []
          },
          "execution_count": 34
        }
      ]
    },
    {
      "cell_type": "code",
      "metadata": {
        "id": "-gWT28JWUUxP",
        "outputId": "b42744ba-30e8-4431-a5ae-48312418a855",
        "colab": {
          "base_uri": "https://localhost:8080/",
          "height": 35
        }
      },
      "source": [
        "# Podemos acessar as strings por index\n",
        "frase[4]"
      ],
      "execution_count": null,
      "outputs": [
        {
          "output_type": "execute_result",
          "data": {
            "application/vnd.google.colaboratory.intrinsic+json": {
              "type": "string"
            },
            "text/plain": [
              "'o'"
            ]
          },
          "metadata": {
            "tags": []
          },
          "execution_count": 35
        }
      ]
    },
    {
      "cell_type": "code",
      "metadata": {
        "id": "CU4Yq4aA_IYF",
        "outputId": "ac4df72c-0943-4af2-cb05-1af52d01eb2c",
        "colab": {
          "base_uri": "https://localhost:8080/"
        }
      },
      "source": [
        "# Separa a frase de acordo com regra, padrão é separar nos espaços\n",
        "frase.split()"
      ],
      "execution_count": null,
      "outputs": [
        {
          "output_type": "execute_result",
          "data": {
            "text/plain": [
              "['python', 'é', 'uma', 'Linguagem', 'de', 'Programação']"
            ]
          },
          "metadata": {
            "tags": []
          },
          "execution_count": 36
        }
      ]
    },
    {
      "cell_type": "code",
      "metadata": {
        "id": "YUf_Nanv_Uz9",
        "outputId": "6b0fba3d-f35d-45e3-a8f2-5d0b8ffaab6d",
        "colab": {
          "base_uri": "https://localhost:8080/"
        }
      },
      "source": [
        "# Separa a frase no é. Observe que o é some do resultado.\n",
        "frase.split(\"é\")"
      ],
      "execution_count": null,
      "outputs": [
        {
          "output_type": "execute_result",
          "data": {
            "text/plain": [
              "['python ', ' uma Linguagem de Programação']"
            ]
          },
          "metadata": {
            "tags": []
          },
          "execution_count": 37
        }
      ]
    },
    {
      "cell_type": "code",
      "metadata": {
        "id": "C9X0jAeMGqNB",
        "outputId": "d26e6d76-8d13-4bc1-d546-14b05e418e69",
        "colab": {
          "base_uri": "https://localhost:8080/",
          "height": 35
        }
      },
      "source": [
        "# Concatenando strings\n",
        "frase1 = 'Pyladies'\n",
        "frase2 = 'são legais'\n",
        "\n",
        "frase1 + \" \" + frase2"
      ],
      "execution_count": null,
      "outputs": [
        {
          "output_type": "execute_result",
          "data": {
            "application/vnd.google.colaboratory.intrinsic+json": {
              "type": "string"
            },
            "text/plain": [
              "'Pyladies são legais'"
            ]
          },
          "metadata": {
            "tags": []
          },
          "execution_count": 38
        }
      ]
    },
    {
      "cell_type": "code",
      "metadata": {
        "id": "FIkTew_eULfW",
        "outputId": "60ecfc3f-aa7d-42c2-d05a-193d46525e0a",
        "colab": {
          "base_uri": "https://localhost:8080/",
          "height": 35
        }
      },
      "source": [
        "\"O valor de pi é de aproximadamente \" + str(3.14)"
      ],
      "execution_count": null,
      "outputs": [
        {
          "output_type": "execute_result",
          "data": {
            "application/vnd.google.colaboratory.intrinsic+json": {
              "type": "string"
            },
            "text/plain": [
              "'O valor de pi é de aproximadamente 3.14'"
            ]
          },
          "metadata": {
            "tags": []
          },
          "execution_count": 39
        }
      ]
    },
    {
      "cell_type": "code",
      "metadata": {
        "id": "k1j4ITPFGy5m",
        "outputId": "a1130b4c-8063-485e-dbac-99db717bb4a1",
        "colab": {
          "base_uri": "https://localhost:8080/",
          "height": 132
        }
      },
      "source": [
        "# Como a string é delimitada por aspas, ao criar uma string que possui aspas (apóstrofo)\n",
        "# temos que usar o scape \"\\\"\n",
        "escape = 'I'm a unicorn!'\n",
        "escape"
      ],
      "execution_count": null,
      "outputs": [
        {
          "output_type": "error",
          "ename": "SyntaxError",
          "evalue": "ignored",
          "traceback": [
            "\u001b[0;36m  File \u001b[0;32m\"<ipython-input-40-34a71f77ab96>\"\u001b[0;36m, line \u001b[0;32m3\u001b[0m\n\u001b[0;31m    escape = 'I'm a unicorn!'\u001b[0m\n\u001b[0m                ^\u001b[0m\n\u001b[0;31mSyntaxError\u001b[0m\u001b[0;31m:\u001b[0m invalid syntax\n"
          ]
        }
      ]
    },
    {
      "cell_type": "code",
      "metadata": {
        "id": "6W6OEd0nG8wz"
      },
      "source": [
        "escape = 'I\\'m a unicorn!'\n",
        "escape"
      ],
      "execution_count": null,
      "outputs": []
    },
    {
      "cell_type": "code",
      "metadata": {
        "id": "3T2qs6Pb1NSE",
        "outputId": "26f2b3e3-2a6b-4e82-f344-729ca97edfdc",
        "colab": {
          "base_uri": "https://localhost:8080/",
          "height": 35
        }
      },
      "source": [
        "# Lowercase\n",
        "str.lower(frase)"
      ],
      "execution_count": null,
      "outputs": [
        {
          "output_type": "execute_result",
          "data": {
            "application/vnd.google.colaboratory.intrinsic+json": {
              "type": "string"
            },
            "text/plain": [
              "'python é uma linguagem de programação'"
            ]
          },
          "metadata": {
            "tags": []
          },
          "execution_count": 41
        }
      ]
    },
    {
      "cell_type": "code",
      "metadata": {
        "id": "SoBq4VLj1nZ1",
        "outputId": "b3149e93-8c99-49d3-ee67-0ff7b6270e4b",
        "colab": {
          "base_uri": "https://localhost:8080/",
          "height": 35
        }
      },
      "source": [
        "# Uppercase\n",
        "str.upper(frase)"
      ],
      "execution_count": null,
      "outputs": [
        {
          "output_type": "execute_result",
          "data": {
            "application/vnd.google.colaboratory.intrinsic+json": {
              "type": "string"
            },
            "text/plain": [
              "'PYTHON É UMA LINGUAGEM DE PROGRAMAÇÃO'"
            ]
          },
          "metadata": {
            "tags": []
          },
          "execution_count": 72
        }
      ]
    },
    {
      "cell_type": "code",
      "metadata": {
        "id": "qbzIfa_01pwE",
        "outputId": "7f4f04c0-27f4-45a1-e9ed-d9597a588b23",
        "colab": {
          "base_uri": "https://localhost:8080/",
          "height": 35
        }
      },
      "source": [
        "# Primeira letra da primeira palavra em maiúscula\n",
        "str.capitalize(frase)"
      ],
      "execution_count": null,
      "outputs": [
        {
          "output_type": "execute_result",
          "data": {
            "application/vnd.google.colaboratory.intrinsic+json": {
              "type": "string"
            },
            "text/plain": [
              "'Python é uma linguagem de programação'"
            ]
          },
          "metadata": {
            "tags": []
          },
          "execution_count": 73
        }
      ]
    },
    {
      "cell_type": "code",
      "metadata": {
        "id": "9AzJWkz41rvs",
        "outputId": "0d0474a3-9b41-4c3f-a443-c10db937a08a",
        "colab": {
          "base_uri": "https://localhost:8080/",
          "height": 35
        }
      },
      "source": [
        "# Primeira letra de cada palavra em maiúscula\n",
        "str.title(frase)"
      ],
      "execution_count": null,
      "outputs": [
        {
          "output_type": "execute_result",
          "data": {
            "application/vnd.google.colaboratory.intrinsic+json": {
              "type": "string"
            },
            "text/plain": [
              "'Python É Uma Linguagem De Programação'"
            ]
          },
          "metadata": {
            "tags": []
          },
          "execution_count": 74
        }
      ]
    },
    {
      "cell_type": "code",
      "metadata": {
        "id": "_6hCN3WE1uWO",
        "outputId": "6abbe862-0bcb-4cc6-ac4c-33dea08528e8",
        "colab": {
          "base_uri": "https://localhost:8080/"
        }
      },
      "source": [
        "# Retorna True se todos os caracteres forem do alfabeto, espaço, por exemplo, não é!\n",
        "str.isalpha(frase)"
      ],
      "execution_count": null,
      "outputs": [
        {
          "output_type": "execute_result",
          "data": {
            "text/plain": [
              "False"
            ]
          },
          "metadata": {
            "tags": []
          },
          "execution_count": 75
        }
      ]
    },
    {
      "cell_type": "code",
      "metadata": {
        "id": "UUOrHh-D3_0Y",
        "outputId": "ccba792c-6209-40e3-f3fa-bb7e91d1007d",
        "colab": {
          "base_uri": "https://localhost:8080/"
        }
      },
      "source": [
        "str.isalpha('banana')"
      ],
      "execution_count": null,
      "outputs": [
        {
          "output_type": "execute_result",
          "data": {
            "text/plain": [
              "True"
            ]
          },
          "metadata": {
            "tags": []
          },
          "execution_count": 115
        }
      ]
    },
    {
      "cell_type": "code",
      "metadata": {
        "id": "cBJsMg9cAJuT",
        "outputId": "e55feafb-97ad-45c1-c7c5-535e0778fd78",
        "colab": {
          "base_uri": "https://localhost:8080/"
        }
      },
      "source": [
        "# Verifica se são caracteres alfanuméricos\n",
        "palavra = 'aa44'\n",
        "palavra.isalnum()"
      ],
      "execution_count": null,
      "outputs": [
        {
          "output_type": "execute_result",
          "data": {
            "text/plain": [
              "True"
            ]
          },
          "metadata": {
            "tags": []
          },
          "execution_count": 117
        }
      ]
    },
    {
      "cell_type": "code",
      "metadata": {
        "id": "D8GcKYhJAagI",
        "outputId": "d937a6d0-e474-485b-8ce6-755422cec5be",
        "colab": {
          "base_uri": "https://localhost:8080/"
        }
      },
      "source": [
        "palavra = 'aa44 88'\n",
        "palavra.isalnum()"
      ],
      "execution_count": null,
      "outputs": [
        {
          "output_type": "execute_result",
          "data": {
            "text/plain": [
              "False"
            ]
          },
          "metadata": {
            "tags": []
          },
          "execution_count": 118
        }
      ]
    },
    {
      "cell_type": "code",
      "metadata": {
        "id": "-OxSa64XAGKP",
        "outputId": "4e3efcfb-8568-4e9a-ea0b-cb2c4d5f5ec8",
        "colab": {
          "base_uri": "https://localhost:8080/"
        }
      },
      "source": [
        "# Verifica se contém apenas números\n",
        "'306090'.isdigit()"
      ],
      "execution_count": null,
      "outputs": [
        {
          "output_type": "execute_result",
          "data": {
            "text/plain": [
              "True"
            ]
          },
          "metadata": {
            "tags": []
          },
          "execution_count": 119
        }
      ]
    },
    {
      "cell_type": "code",
      "metadata": {
        "id": "Ge66-9-kACrI",
        "outputId": "fa95e13a-032a-4ef9-903a-2f181d307aa3",
        "colab": {
          "base_uri": "https://localhost:8080/"
        }
      },
      "source": [
        "'UPPER'.isupper()"
      ],
      "execution_count": null,
      "outputs": [
        {
          "output_type": "execute_result",
          "data": {
            "text/plain": [
              "True"
            ]
          },
          "metadata": {
            "tags": []
          },
          "execution_count": 109
        }
      ]
    },
    {
      "cell_type": "code",
      "metadata": {
        "id": "Cn02poLvAD8T",
        "outputId": "053aa33d-fa1f-4166-858d-d75ff58ee216",
        "colab": {
          "base_uri": "https://localhost:8080/"
        }
      },
      "source": [
        "'lower'.islower()"
      ],
      "execution_count": null,
      "outputs": [
        {
          "output_type": "execute_result",
          "data": {
            "text/plain": [
              "True"
            ]
          },
          "metadata": {
            "tags": []
          },
          "execution_count": 110
        }
      ]
    },
    {
      "cell_type": "code",
      "metadata": {
        "id": "jfw4YlvKAqgq",
        "outputId": "997f3069-5c8e-483c-dd96-8fc461a0a3a7",
        "colab": {
          "base_uri": "https://localhost:8080/"
        }
      },
      "source": [
        "'   '.isspace()"
      ],
      "execution_count": null,
      "outputs": [
        {
          "output_type": "execute_result",
          "data": {
            "text/plain": [
              "True"
            ]
          },
          "metadata": {
            "tags": []
          },
          "execution_count": 120
        }
      ]
    },
    {
      "cell_type": "code",
      "metadata": {
        "id": "tjQreyTiAras",
        "outputId": "477f8d82-ac7c-4f27-ea1e-985dff2505b6",
        "colab": {
          "base_uri": "https://localhost:8080/",
          "height": 35
        }
      },
      "source": [
        "# Justifica a direita, completando 30 caracteres no total\n",
        "string = 'As pyladies são lindas.'\n",
        "string.rjust(30)"
      ],
      "execution_count": null,
      "outputs": [
        {
          "output_type": "execute_result",
          "data": {
            "application/vnd.google.colaboratory.intrinsic+json": {
              "type": "string"
            },
            "text/plain": [
              "'       As pyladies são lindas.'"
            ]
          },
          "metadata": {
            "tags": []
          },
          "execution_count": 29
        }
      ]
    },
    {
      "cell_type": "code",
      "metadata": {
        "id": "DsUbmnjlA7Nx",
        "outputId": "1b207851-544b-414b-f3a5-47ab34538f2d",
        "colab": {
          "base_uri": "https://localhost:8080/",
          "height": 35
        }
      },
      "source": [
        "# Alinha no centro, completando 30 caracteres no total\n",
        "string = 'As pyladies são lindas.'\n",
        "string.center(30)"
      ],
      "execution_count": null,
      "outputs": [
        {
          "output_type": "execute_result",
          "data": {
            "application/vnd.google.colaboratory.intrinsic+json": {
              "type": "string"
            },
            "text/plain": [
              "'   As pyladies são lindas.    '"
            ]
          },
          "metadata": {
            "tags": []
          },
          "execution_count": 122
        }
      ]
    },
    {
      "cell_type": "code",
      "metadata": {
        "id": "-lWivfYcA7Wl",
        "outputId": "5d375903-528e-48b9-89cb-0de0a7ba7cbe",
        "colab": {
          "base_uri": "https://localhost:8080/",
          "height": 35
        }
      },
      "source": [
        "# Justifica a esquerda, completando 30 caracteres no total\n",
        "string = 'As pyladies são lindas.'\n",
        "string.ljust(30)"
      ],
      "execution_count": null,
      "outputs": [
        {
          "output_type": "execute_result",
          "data": {
            "application/vnd.google.colaboratory.intrinsic+json": {
              "type": "string"
            },
            "text/plain": [
              "'As pyladies são lindas.       '"
            ]
          },
          "metadata": {
            "tags": []
          },
          "execution_count": 123
        }
      ]
    },
    {
      "cell_type": "code",
      "metadata": {
        "id": "Qi-D8lxtA7Zh",
        "outputId": "511a4a87-3023-42d9-af72-9a76cc100dcd",
        "colab": {
          "base_uri": "https://localhost:8080/",
          "height": 35
        }
      },
      "source": [
        "# Remove os espaços do início e do fim da string\n",
        "string = '              As pyladies são lindas.          '\n",
        "string.strip()"
      ],
      "execution_count": null,
      "outputs": [
        {
          "output_type": "execute_result",
          "data": {
            "application/vnd.google.colaboratory.intrinsic+json": {
              "type": "string"
            },
            "text/plain": [
              "'As pyladies são lindas.'"
            ]
          },
          "metadata": {
            "tags": []
          },
          "execution_count": 127
        }
      ]
    },
    {
      "cell_type": "code",
      "metadata": {
        "id": "tLxkc9pjm64c",
        "outputId": "0704abb4-1053-4c17-a270-aa92712ec0bc",
        "colab": {
          "base_uri": "https://localhost:8080/"
        }
      },
      "source": [
        "# Transforma string em código\n",
        "string = 'print(\"Teste\")'\n",
        "\n",
        "eval(string)"
      ],
      "execution_count": null,
      "outputs": [
        {
          "output_type": "stream",
          "text": [
            "Teste\n"
          ],
          "name": "stdout"
        }
      ]
    },
    {
      "cell_type": "code",
      "metadata": {
        "id": "rVppZuQnm_p_",
        "outputId": "f246ae58-204c-46a8-a2ce-4a1a1d65322d",
        "colab": {
          "base_uri": "https://localhost:8080/"
        }
      },
      "source": [
        ""
      ],
      "execution_count": null,
      "outputs": [
        {
          "output_type": "stream",
          "text": [
            "Teste\n"
          ],
          "name": "stdout"
        }
      ]
    },
    {
      "cell_type": "markdown",
      "metadata": {
        "id": "MXGUL3ixuwRF"
      },
      "source": [
        "### 1.3 Booleanas"
      ]
    },
    {
      "cell_type": "code",
      "metadata": {
        "id": "vFXdRXgOtTZ4",
        "outputId": "af2cd014-15d7-46db-9ec2-4ee948adddbc",
        "colab": {
          "base_uri": "https://localhost:8080/"
        }
      },
      "source": [
        "dinheiro = False\n",
        "type(dinheiro)"
      ],
      "execution_count": null,
      "outputs": [
        {
          "output_type": "execute_result",
          "data": {
            "text/plain": [
              "bool"
            ]
          },
          "metadata": {
            "tags": []
          },
          "execution_count": 7
        }
      ]
    },
    {
      "cell_type": "markdown",
      "metadata": {
        "id": "jt6b4OEQxp0f"
      },
      "source": [
        "### 1.4 None"
      ]
    },
    {
      "cell_type": "code",
      "metadata": {
        "id": "sQvKBCgT8KGG",
        "outputId": "312d766b-43e7-4c26-d48b-85cc9bfb02a3",
        "colab": {
          "base_uri": "https://localhost:8080/"
        }
      },
      "source": [
        "vazio = None\n",
        "type(vazio)"
      ],
      "execution_count": null,
      "outputs": [
        {
          "output_type": "execute_result",
          "data": {
            "text/plain": [
              "NoneType"
            ]
          },
          "metadata": {
            "tags": []
          },
          "execution_count": 21
        }
      ]
    },
    {
      "cell_type": "markdown",
      "metadata": {
        "id": "b4UrAT4bn_0D"
      },
      "source": [
        "### 1.5 Date e Datetime"
      ]
    },
    {
      "cell_type": "code",
      "metadata": {
        "id": "D0b3ZFTQoEYw"
      },
      "source": [
        "from datetime import datetime\n",
        "from datetime import date"
      ],
      "execution_count": null,
      "outputs": []
    },
    {
      "cell_type": "code",
      "metadata": {
        "id": "OjVqX0wHoT05",
        "outputId": "525d573c-e53f-4772-b767-e22b51972865",
        "colab": {
          "base_uri": "https://localhost:8080/"
        }
      },
      "source": [
        "now = datetime.now()\n",
        "now"
      ],
      "execution_count": null,
      "outputs": [
        {
          "output_type": "execute_result",
          "data": {
            "text/plain": [
              "datetime.datetime(2020, 11, 1, 21, 6, 11, 460852)"
            ]
          },
          "metadata": {
            "tags": []
          },
          "execution_count": 9
        }
      ]
    },
    {
      "cell_type": "code",
      "metadata": {
        "id": "NEGuVw0qocIc",
        "outputId": "b7614c42-4a25-490d-c273-685646c44f1e",
        "colab": {
          "base_uri": "https://localhost:8080/"
        }
      },
      "source": [
        "print(now.year)\n",
        "print(now.month)\n",
        "print(now.day)\n",
        "print(now.hour)\n",
        "print(now.minute)\n",
        "print(now.second)"
      ],
      "execution_count": null,
      "outputs": [
        {
          "output_type": "stream",
          "text": [
            "2020\n",
            "11\n",
            "1\n",
            "21\n",
            "6\n",
            "11\n"
          ],
          "name": "stdout"
        }
      ]
    },
    {
      "cell_type": "code",
      "metadata": {
        "id": "X4qa8Eploskd",
        "outputId": "817cd160-36c0-4055-ae90-660174f4681b",
        "colab": {
          "base_uri": "https://localhost:8080/"
        }
      },
      "source": [
        "print('%s/%s/%s' % (now.day, now.month, now.year))"
      ],
      "execution_count": null,
      "outputs": [
        {
          "output_type": "stream",
          "text": [
            "1/11/2020\n"
          ],
          "name": "stdout"
        }
      ]
    },
    {
      "cell_type": "code",
      "metadata": {
        "id": "Ba-wDt2WoIIb",
        "outputId": "1526fc97-e8cb-4eda-c2e0-e67d24cc8643",
        "colab": {
          "base_uri": "https://localhost:8080/"
        }
      },
      "source": [
        "datetime.today()"
      ],
      "execution_count": null,
      "outputs": [
        {
          "output_type": "execute_result",
          "data": {
            "text/plain": [
              "datetime.datetime(2020, 11, 1, 21, 5, 54, 562695)"
            ]
          },
          "metadata": {
            "tags": []
          },
          "execution_count": 8
        }
      ]
    },
    {
      "cell_type": "code",
      "metadata": {
        "id": "IpQkbf_koKHB",
        "outputId": "e1199588-d2a2-42a5-80e1-18c2615db94c",
        "colab": {
          "base_uri": "https://localhost:8080/"
        }
      },
      "source": [
        "date.today()"
      ],
      "execution_count": null,
      "outputs": [
        {
          "output_type": "execute_result",
          "data": {
            "text/plain": [
              "datetime.date(2020, 11, 1)"
            ]
          },
          "metadata": {
            "tags": []
          },
          "execution_count": 6
        }
      ]
    },
    {
      "cell_type": "markdown",
      "metadata": {
        "id": "Z-f261VvZdee"
      },
      "source": [
        "### 1.6 Listas\n",
        "São armazenadores de objetos. São mutáveis."
      ]
    },
    {
      "cell_type": "code",
      "metadata": {
        "id": "dVH7CXPZoPc8",
        "outputId": "995efd7a-5099-48ac-eed0-523c9dc23f3d",
        "colab": {
          "base_uri": "https://localhost:8080/"
        }
      },
      "source": [
        "# Inicia uma lista vazia\n",
        "lista = []\n",
        "lista"
      ],
      "execution_count": null,
      "outputs": [
        {
          "output_type": "execute_result",
          "data": {
            "text/plain": [
              "[]"
            ]
          },
          "metadata": {
            "tags": []
          },
          "execution_count": 34
        }
      ]
    },
    {
      "cell_type": "code",
      "metadata": {
        "id": "wIWIBrxHof7e",
        "outputId": "8d9e38cf-ffbb-4f73-faed-81fdeccb28ae",
        "colab": {
          "base_uri": "https://localhost:8080/"
        }
      },
      "source": [
        "# Inicia uma lista vazia\n",
        "lista = list()\n",
        "lista"
      ],
      "execution_count": null,
      "outputs": [
        {
          "output_type": "execute_result",
          "data": {
            "text/plain": [
              "[]"
            ]
          },
          "metadata": {
            "tags": []
          },
          "execution_count": 35
        }
      ]
    },
    {
      "cell_type": "code",
      "metadata": {
        "id": "D0sxS-KCwR3K",
        "outputId": "7d9e7c67-15a9-4acd-9719-3d59b20484e4",
        "colab": {
          "base_uri": "https://localhost:8080/"
        }
      },
      "source": [
        "lista = [1,2,3,4,5]\n",
        "print(lista)\n",
        "type(lista)"
      ],
      "execution_count": null,
      "outputs": [
        {
          "output_type": "stream",
          "text": [
            "[1, 2, 3, 4, 5]\n"
          ],
          "name": "stdout"
        },
        {
          "output_type": "execute_result",
          "data": {
            "text/plain": [
              "list"
            ]
          },
          "metadata": {
            "tags": []
          },
          "execution_count": 38
        }
      ]
    },
    {
      "cell_type": "code",
      "metadata": {
        "id": "vjDMF8Mco3TE",
        "outputId": "2d2ba1fe-e6e6-44ea-bc74-669d6712f58b",
        "colab": {
          "base_uri": "https://localhost:8080/"
        }
      },
      "source": [
        "# Altera valor na posição 2\n",
        "lista[2] = 10\n",
        "lista"
      ],
      "execution_count": null,
      "outputs": [
        {
          "output_type": "execute_result",
          "data": {
            "text/plain": [
              "['abacate', 'limão', 10, 'tomate', 'sal', 'alho', 'cebola', 'pimentão']"
            ]
          },
          "metadata": {
            "tags": []
          },
          "execution_count": 51
        }
      ]
    },
    {
      "cell_type": "code",
      "metadata": {
        "id": "4HXrcy8hw_Pf",
        "outputId": "ee57ba85-4f9d-4800-d353-8105704449f2",
        "colab": {
          "base_uri": "https://localhost:8080/"
        }
      },
      "source": [
        "# A lista pode ter variáveis de todos os tipos\n",
        "lista = [1,'python',True,3.1415]\n",
        "print(lista)\n",
        "type(lista)"
      ],
      "execution_count": null,
      "outputs": [
        {
          "output_type": "stream",
          "text": [
            "[1, 'python', True, 3.1415]\n"
          ],
          "name": "stdout"
        },
        {
          "output_type": "execute_result",
          "data": {
            "text/plain": [
              "list"
            ]
          },
          "metadata": {
            "tags": []
          },
          "execution_count": 41
        }
      ]
    },
    {
      "cell_type": "code",
      "metadata": {
        "id": "v2VjxHMtoxJn",
        "outputId": "4197eb02-8538-4f85-e67f-93a274c4784d",
        "colab": {
          "base_uri": "https://localhost:8080/"
        }
      },
      "source": [
        "# Encontrar um elemento da lista pelo índice\n",
        "lista[3]"
      ],
      "execution_count": null,
      "outputs": [
        {
          "output_type": "execute_result",
          "data": {
            "text/plain": [
              "3.1415"
            ]
          },
          "metadata": {
            "tags": []
          },
          "execution_count": 44
        }
      ]
    },
    {
      "cell_type": "code",
      "metadata": {
        "id": "FkVwMwb3XxHL",
        "outputId": "b95a835b-08bc-4aea-d749-c92803ed7cc5",
        "colab": {
          "base_uri": "https://localhost:8080/"
        }
      },
      "source": [
        "# lista[inicio:fim:step]\n",
        "lista[1:3]"
      ],
      "execution_count": null,
      "outputs": [
        {
          "output_type": "execute_result",
          "data": {
            "text/plain": [
              "['python', True]"
            ]
          },
          "metadata": {
            "tags": []
          },
          "execution_count": 46
        }
      ]
    },
    {
      "cell_type": "code",
      "metadata": {
        "id": "r26-jEfMX4EN",
        "outputId": "161adf45-9934-44d2-b0bb-62e60060df20",
        "colab": {
          "base_uri": "https://localhost:8080/",
          "height": 35
        }
      },
      "source": [
        "# Repete elemento 3 vezes\n",
        "lista[1] * 3"
      ],
      "execution_count": null,
      "outputs": [
        {
          "output_type": "execute_result",
          "data": {
            "application/vnd.google.colaboratory.intrinsic+json": {
              "type": "string"
            },
            "text/plain": [
              "'pythonpythonpython'"
            ]
          },
          "metadata": {
            "tags": []
          },
          "execution_count": 46
        }
      ]
    },
    {
      "cell_type": "code",
      "metadata": {
        "id": "qLvr1s5ZpH-I",
        "outputId": "c6e01036-571c-4b06-a1b3-fdbbf4630a5f",
        "colab": {
          "base_uri": "https://localhost:8080/"
        }
      },
      "source": [
        "# Ou faz a multiplicação\n",
        "lista[3] * 3"
      ],
      "execution_count": null,
      "outputs": [
        {
          "output_type": "execute_result",
          "data": {
            "text/plain": [
              "9.4245"
            ]
          },
          "metadata": {
            "tags": []
          },
          "execution_count": 45
        }
      ]
    },
    {
      "cell_type": "code",
      "metadata": {
        "id": "mCNIdQ3upjEv",
        "outputId": "e7f17596-b11d-4aaf-de0b-12be385c61b2",
        "colab": {
          "base_uri": "https://localhost:8080/"
        }
      },
      "source": [
        "# Altera dois valores de uma vez\n",
        "lista[1:3] = 'Não','Sim'\n",
        "lista"
      ],
      "execution_count": null,
      "outputs": [
        {
          "output_type": "execute_result",
          "data": {
            "text/plain": [
              "['abacate', 'Não', 'Sim', 'tomate', 'sal', 'alho', 'cebola', 'pimentão']"
            ]
          },
          "metadata": {
            "tags": []
          },
          "execution_count": 52
        }
      ]
    },
    {
      "cell_type": "code",
      "metadata": {
        "id": "xhVicwAS_jTP",
        "outputId": "3d616e65-2300-4eaf-ad79-7afa89f51efb",
        "colab": {
          "base_uri": "https://localhost:8080/",
          "height": 35
        }
      },
      "source": [
        "# Unir lista de strings em uma string por um espaço\n",
        "lista = ['abacate','limão','pimenta','tomate','sal','alho','cebola','pimentão']\n",
        "' '.join(lista)"
      ],
      "execution_count": null,
      "outputs": [
        {
          "output_type": "execute_result",
          "data": {
            "application/vnd.google.colaboratory.intrinsic+json": {
              "type": "string"
            },
            "text/plain": [
              "'abacate limão pimenta tomate sal alho cebola pimentão'"
            ]
          },
          "metadata": {
            "tags": []
          },
          "execution_count": 1
        }
      ]
    },
    {
      "cell_type": "code",
      "metadata": {
        "id": "LUb-UTm2pV2A",
        "outputId": "918f6530-f602-45d1-871d-6fffbefcfeb7",
        "colab": {
          "base_uri": "https://localhost:8080/"
        }
      },
      "source": [
        "# -1 no step inverte a ordem da lista\n",
        "lista[::-1]"
      ],
      "execution_count": null,
      "outputs": [
        {
          "output_type": "execute_result",
          "data": {
            "text/plain": [
              "['pimentão', 'cebola', 'alho', 'sal', 'tomate', 'pimenta', 'limão', 'abacate']"
            ]
          },
          "metadata": {
            "tags": []
          },
          "execution_count": 2
        }
      ]
    },
    {
      "cell_type": "code",
      "metadata": {
        "id": "qke0_hc2B3hV",
        "outputId": "0b60e583-2c85-49ec-bad9-d690c51040b0",
        "colab": {
          "base_uri": "https://localhost:8080/"
        }
      },
      "source": [
        "# Acrescenta um valor ao final da lista\n",
        "lista.append('suco')\n",
        "lista"
      ],
      "execution_count": null,
      "outputs": [
        {
          "output_type": "execute_result",
          "data": {
            "text/plain": [
              "['abacate',\n",
              " 'limão',\n",
              " 'pimenta',\n",
              " 'tomate',\n",
              " 'sal',\n",
              " 'alho',\n",
              " 'cebola',\n",
              " 'pimentão',\n",
              " 'suco']"
            ]
          },
          "metadata": {
            "tags": []
          },
          "execution_count": 3
        }
      ]
    },
    {
      "cell_type": "code",
      "metadata": {
        "id": "8lm4BNLqYApR",
        "outputId": "7f972a4b-e958-40ec-87fa-89c38d26d8b9",
        "colab": {
          "base_uri": "https://localhost:8080/"
        }
      },
      "source": [
        "# Insere \"laranja\" na posição 1\n",
        "lista.insert(1,'laranja')\n",
        "lista"
      ],
      "execution_count": null,
      "outputs": [
        {
          "output_type": "execute_result",
          "data": {
            "text/plain": [
              "['abacate',\n",
              " 'laranja',\n",
              " 'limão',\n",
              " 'pimenta',\n",
              " 'tomate',\n",
              " 'sal',\n",
              " 'alho',\n",
              " 'cebola',\n",
              " 'pimentão',\n",
              " 'suco']"
            ]
          },
          "metadata": {
            "tags": []
          },
          "execution_count": 4
        }
      ]
    },
    {
      "cell_type": "code",
      "metadata": {
        "id": "FIZTIP8IYTcM",
        "outputId": "1df67659-11cf-4514-e19a-45ae2c4760cd",
        "colab": {
          "base_uri": "https://localhost:8080/",
          "height": 35
        }
      },
      "source": [
        "# Remove e printa o último item\n",
        "lista.pop()"
      ],
      "execution_count": null,
      "outputs": [
        {
          "output_type": "execute_result",
          "data": {
            "application/vnd.google.colaboratory.intrinsic+json": {
              "type": "string"
            },
            "text/plain": [
              "'suco'"
            ]
          },
          "metadata": {
            "tags": []
          },
          "execution_count": 5
        }
      ]
    },
    {
      "cell_type": "code",
      "metadata": {
        "id": "qFNkkw7aYZS0",
        "outputId": "c56e14d5-a56b-4b5e-d6f7-14cb9beefacf",
        "colab": {
          "base_uri": "https://localhost:8080/",
          "height": 35
        }
      },
      "source": [
        "# Remove e printa o item na posição 0\n",
        "lista.pop(1)"
      ],
      "execution_count": null,
      "outputs": [
        {
          "output_type": "execute_result",
          "data": {
            "application/vnd.google.colaboratory.intrinsic+json": {
              "type": "string"
            },
            "text/plain": [
              "'laranja'"
            ]
          },
          "metadata": {
            "tags": []
          },
          "execution_count": 6
        }
      ]
    },
    {
      "cell_type": "code",
      "metadata": {
        "id": "xHEWYsf2YhTS",
        "outputId": "50717089-6bc2-4130-912a-8e280e6ade51",
        "colab": {
          "base_uri": "https://localhost:8080/"
        }
      },
      "source": [
        "lista.sort()\n",
        "lista"
      ],
      "execution_count": null,
      "outputs": [
        {
          "output_type": "execute_result",
          "data": {
            "text/plain": [
              "['abacate', 'alho', 'cebola', 'limão', 'pimenta', 'pimentão', 'sal', 'tomate']"
            ]
          },
          "metadata": {
            "tags": []
          },
          "execution_count": 7
        }
      ]
    },
    {
      "cell_type": "code",
      "metadata": {
        "id": "54mThQ16Yr_w",
        "outputId": "fc9966e7-ef8b-4c89-f0d8-3438efa91ee2",
        "colab": {
          "base_uri": "https://localhost:8080/"
        }
      },
      "source": [
        "lista.reverse()\n",
        "lista"
      ],
      "execution_count": null,
      "outputs": [
        {
          "output_type": "execute_result",
          "data": {
            "text/plain": [
              "['tomate', 'sal', 'pimentão', 'pimenta', 'limão', 'cebola', 'alho', 'abacate']"
            ]
          },
          "metadata": {
            "tags": []
          },
          "execution_count": 8
        }
      ]
    },
    {
      "cell_type": "code",
      "metadata": {
        "id": "IXepjPBfYvBl",
        "outputId": "890f489d-5c55-447c-f034-2c3455589b4b",
        "colab": {
          "base_uri": "https://localhost:8080/"
        }
      },
      "source": [
        "lista.index('tomate')"
      ],
      "execution_count": null,
      "outputs": [
        {
          "output_type": "execute_result",
          "data": {
            "text/plain": [
              "0"
            ]
          },
          "metadata": {
            "tags": []
          },
          "execution_count": 9
        }
      ]
    },
    {
      "cell_type": "code",
      "metadata": {
        "id": "DdWzHNRvJiMP",
        "outputId": "2d5c819c-09f6-4e91-a60d-43d74fc1d6aa",
        "colab": {
          "base_uri": "https://localhost:8080/"
        }
      },
      "source": [
        "# Lista aninhada\n",
        "lista = [[1,2,3],[4,5,6]]\n",
        "lista"
      ],
      "execution_count": null,
      "outputs": [
        {
          "output_type": "execute_result",
          "data": {
            "text/plain": [
              "[[1, 2, 3], [4, 5, 6]]"
            ]
          },
          "metadata": {
            "tags": []
          },
          "execution_count": 10
        }
      ]
    },
    {
      "cell_type": "code",
      "metadata": {
        "id": "V7F6PrtYJuh1",
        "outputId": "e7817199-3e7a-4082-88fa-bd4ea5803d05",
        "colab": {
          "base_uri": "https://localhost:8080/"
        }
      },
      "source": [
        "lista[0]"
      ],
      "execution_count": null,
      "outputs": [
        {
          "output_type": "execute_result",
          "data": {
            "text/plain": [
              "[1, 2, 3]"
            ]
          },
          "metadata": {
            "tags": []
          },
          "execution_count": 12
        }
      ]
    },
    {
      "cell_type": "code",
      "metadata": {
        "id": "MjPq9tGLJzCH",
        "outputId": "5bbfe170-4a39-4c5e-82c3-cdeebc9abc53",
        "colab": {
          "base_uri": "https://localhost:8080/"
        }
      },
      "source": [
        "lista[1]"
      ],
      "execution_count": null,
      "outputs": [
        {
          "output_type": "execute_result",
          "data": {
            "text/plain": [
              "[4, 5, 6]"
            ]
          },
          "metadata": {
            "tags": []
          },
          "execution_count": 13
        }
      ]
    },
    {
      "cell_type": "code",
      "metadata": {
        "id": "dwtNDs4XJ0Wb",
        "outputId": "4b9f3248-c941-4bdc-dfc1-4cf2b4290a82",
        "colab": {
          "base_uri": "https://localhost:8080/"
        }
      },
      "source": [
        "lista[0][0]"
      ],
      "execution_count": null,
      "outputs": [
        {
          "output_type": "execute_result",
          "data": {
            "text/plain": [
              "1"
            ]
          },
          "metadata": {
            "tags": []
          },
          "execution_count": 14
        }
      ]
    },
    {
      "cell_type": "markdown",
      "metadata": {
        "id": "G5afHur8wHPD"
      },
      "source": [
        "### 1.7 Tuplas\n",
        "Também é um container de objetos, porém é imutável"
      ]
    },
    {
      "cell_type": "code",
      "metadata": {
        "id": "28ukfhejoTkN",
        "outputId": "3470a685-b350-41f4-c378-6165021b04e6",
        "colab": {
          "base_uri": "https://localhost:8080/"
        }
      },
      "source": [
        "# Inicia uma tupla vazia\n",
        "tupla = ()\n",
        "tupla"
      ],
      "execution_count": null,
      "outputs": [
        {
          "output_type": "execute_result",
          "data": {
            "text/plain": [
              "()"
            ]
          },
          "metadata": {
            "tags": []
          },
          "execution_count": 37
        }
      ]
    },
    {
      "cell_type": "code",
      "metadata": {
        "id": "aOy4XS3TokfE",
        "outputId": "83f8f75a-166f-4af3-e07e-994d54a1aa35",
        "colab": {
          "base_uri": "https://localhost:8080/"
        }
      },
      "source": [
        "tupla = tuple()\n",
        "tupla"
      ],
      "execution_count": null,
      "outputs": [
        {
          "output_type": "execute_result",
          "data": {
            "text/plain": [
              "()"
            ]
          },
          "metadata": {
            "tags": []
          },
          "execution_count": 36
        }
      ]
    },
    {
      "cell_type": "code",
      "metadata": {
        "id": "yRuFH1zxwKaE",
        "outputId": "268884d8-6b87-4e17-9731-c626c5a0390a",
        "colab": {
          "base_uri": "https://localhost:8080/"
        }
      },
      "source": [
        "tupla = (1,2,3,4)\n",
        "print(tupla)\n",
        "type(tupla)"
      ],
      "execution_count": null,
      "outputs": [
        {
          "output_type": "stream",
          "text": [
            "(1, 2, 3, 4)\n"
          ],
          "name": "stdout"
        },
        {
          "output_type": "execute_result",
          "data": {
            "text/plain": [
              "tuple"
            ]
          },
          "metadata": {
            "tags": []
          },
          "execution_count": 78
        }
      ]
    },
    {
      "cell_type": "code",
      "metadata": {
        "id": "IlmOGgJ9puvk",
        "outputId": "b9be178a-d853-4a35-dc31-f89c8ab6b935",
        "colab": {
          "base_uri": "https://localhost:8080/"
        }
      },
      "source": [
        "# Não é uma tupla!\n",
        "tupla = (1)\n",
        "print(tupla)\n",
        "type(tupla)"
      ],
      "execution_count": null,
      "outputs": [
        {
          "output_type": "stream",
          "text": [
            "1\n"
          ],
          "name": "stdout"
        },
        {
          "output_type": "execute_result",
          "data": {
            "text/plain": [
              "int"
            ]
          },
          "metadata": {
            "tags": []
          },
          "execution_count": 53
        }
      ]
    },
    {
      "cell_type": "code",
      "metadata": {
        "id": "AiQ-3TDJpx7Z",
        "outputId": "f93e3876-0365-43be-d378-fc7355415e3f",
        "colab": {
          "base_uri": "https://localhost:8080/"
        }
      },
      "source": [
        "tupla = (1,)\n",
        "print(tupla)\n",
        "type(tupla)"
      ],
      "execution_count": null,
      "outputs": [
        {
          "output_type": "stream",
          "text": [
            "(1,)\n"
          ],
          "name": "stdout"
        },
        {
          "output_type": "execute_result",
          "data": {
            "text/plain": [
              "tuple"
            ]
          },
          "metadata": {
            "tags": []
          },
          "execution_count": 54
        }
      ]
    },
    {
      "cell_type": "code",
      "metadata": {
        "id": "5AfEHan6wdLQ",
        "outputId": "d4f1a1b2-070d-4bb7-ccd3-df3623719ea2",
        "colab": {
          "base_uri": "https://localhost:8080/"
        }
      },
      "source": [
        "outra_tupla = 1,2,3,4\n",
        "print(outra_tupla)\n",
        "type(outra_tupla)"
      ],
      "execution_count": null,
      "outputs": [
        {
          "output_type": "stream",
          "text": [
            "(1, 2, 3, 4)\n"
          ],
          "name": "stdout"
        },
        {
          "output_type": "execute_result",
          "data": {
            "text/plain": [
              "tuple"
            ]
          },
          "metadata": {
            "tags": []
          },
          "execution_count": 79
        }
      ]
    },
    {
      "cell_type": "code",
      "metadata": {
        "id": "2vU7Oq_ZZ1cn",
        "outputId": "dec876da-9499-4124-afa7-595219f5db6f",
        "colab": {
          "base_uri": "https://localhost:8080/"
        }
      },
      "source": [
        "tupla = 'naiara',42,3.14,True,None\n",
        "tupla"
      ],
      "execution_count": null,
      "outputs": [
        {
          "output_type": "execute_result",
          "data": {
            "text/plain": [
              "('naiara', 42, 3.14, True, None)"
            ]
          },
          "metadata": {
            "tags": []
          },
          "execution_count": 83
        }
      ]
    },
    {
      "cell_type": "code",
      "metadata": {
        "id": "Q6AtOeH6Z-tO",
        "outputId": "e68bf56a-396a-4462-b44a-e5157b524552",
        "colab": {
          "base_uri": "https://localhost:8080/"
        }
      },
      "source": [
        "tupla[2]"
      ],
      "execution_count": null,
      "outputs": [
        {
          "output_type": "execute_result",
          "data": {
            "text/plain": [
              "3.14"
            ]
          },
          "metadata": {
            "tags": []
          },
          "execution_count": 84
        }
      ]
    },
    {
      "cell_type": "code",
      "metadata": {
        "id": "Hbk6CtK4ZwR1"
      },
      "source": [
        "tupla[4]"
      ],
      "execution_count": null,
      "outputs": []
    },
    {
      "cell_type": "code",
      "metadata": {
        "id": "2fenEUMxaDvQ",
        "outputId": "564868ae-4c92-4ed8-c97e-68e8297e97b5",
        "colab": {
          "base_uri": "https://localhost:8080/"
        }
      },
      "source": [
        "tupla[1:3]"
      ],
      "execution_count": null,
      "outputs": [
        {
          "output_type": "execute_result",
          "data": {
            "text/plain": [
              "(42, 3.14)"
            ]
          },
          "metadata": {
            "tags": []
          },
          "execution_count": 85
        }
      ]
    },
    {
      "cell_type": "code",
      "metadata": {
        "id": "YWhx9NXYp7Lp",
        "outputId": "d00c144b-5aa2-43b7-ad42-fb259ed7927a",
        "colab": {
          "base_uri": "https://localhost:8080/"
        }
      },
      "source": [
        "# Conta o número de 1\n",
        "tupla = (1,1,1,1,2,3,4,5,55,5,56,67,8,8,10)\n",
        "tupla.count(1)"
      ],
      "execution_count": null,
      "outputs": [
        {
          "output_type": "execute_result",
          "data": {
            "text/plain": [
              "4"
            ]
          },
          "metadata": {
            "tags": []
          },
          "execution_count": 55
        }
      ]
    },
    {
      "cell_type": "markdown",
      "metadata": {
        "id": "a1iFxH0mZiMB"
      },
      "source": [
        "### 1.8 Set (Conjunto)\n",
        "Não possui números repetidos"
      ]
    },
    {
      "cell_type": "code",
      "metadata": {
        "id": "kFf_mI8voX6b"
      },
      "source": [
        "# Inicia um set vazio\n",
        "conjunto = {}"
      ],
      "execution_count": null,
      "outputs": []
    },
    {
      "cell_type": "code",
      "metadata": {
        "id": "Pbg1LeqvxOY6",
        "outputId": "bb1cc618-a787-460b-f1fb-91f72440862c",
        "colab": {
          "base_uri": "https://localhost:8080/"
        }
      },
      "source": [
        "conjunto = {1,2,3,4,4,4,4,4,5,6}\n",
        "print(conjunto)\n",
        "type(conjunto)"
      ],
      "execution_count": null,
      "outputs": [
        {
          "output_type": "stream",
          "text": [
            "{1, 2, 3, 4, 5, 6}\n"
          ],
          "name": "stdout"
        },
        {
          "output_type": "execute_result",
          "data": {
            "text/plain": [
              "set"
            ]
          },
          "metadata": {
            "tags": []
          },
          "execution_count": 57
        }
      ]
    },
    {
      "cell_type": "code",
      "metadata": {
        "id": "TF639YMkqNTU",
        "outputId": "22d07ced-8b08-41c4-ce55-cb73577c0712",
        "colab": {
          "base_uri": "https://localhost:8080/"
        }
      },
      "source": [
        "# Transforma lista em set\n",
        "conjunto = [1,2,3,4,4,4,4,4,5,6]\n",
        "set(conjunto)"
      ],
      "execution_count": null,
      "outputs": [
        {
          "output_type": "execute_result",
          "data": {
            "text/plain": [
              "{1, 2, 3, 4, 5, 6}"
            ]
          },
          "metadata": {
            "tags": []
          },
          "execution_count": 56
        }
      ]
    },
    {
      "cell_type": "code",
      "metadata": {
        "id": "n7rwBuZ2aLED",
        "outputId": "1e4093a7-e01d-45d3-d183-2163420aada9",
        "colab": {
          "base_uri": "https://localhost:8080/"
        }
      },
      "source": [
        "conjunto = {1,3.14,'abacate'}\n",
        "conjunto"
      ],
      "execution_count": null,
      "outputs": [
        {
          "output_type": "execute_result",
          "data": {
            "text/plain": [
              "{1, 3.14, 'abacate'}"
            ]
          },
          "metadata": {
            "tags": []
          },
          "execution_count": 95
        }
      ]
    },
    {
      "cell_type": "code",
      "metadata": {
        "id": "wnRU84ABaSy2",
        "outputId": "560073b7-d0cd-4458-8a13-f488e3e2a2e3",
        "colab": {
          "base_uri": "https://localhost:8080/"
        }
      },
      "source": [
        "conjunto.add('chilli')\n",
        "conjunto"
      ],
      "execution_count": null,
      "outputs": [
        {
          "output_type": "execute_result",
          "data": {
            "text/plain": [
              "{1, 3.14, 'abacate', 'chilli'}"
            ]
          },
          "metadata": {
            "tags": []
          },
          "execution_count": 96
        }
      ]
    },
    {
      "cell_type": "code",
      "metadata": {
        "id": "1OxNVeTNaao-",
        "outputId": "519d4685-198c-4eb2-b1b7-a0215b8cee6d",
        "colab": {
          "base_uri": "https://localhost:8080/"
        }
      },
      "source": [
        "'abacate' in conjunto"
      ],
      "execution_count": null,
      "outputs": [
        {
          "output_type": "execute_result",
          "data": {
            "text/plain": [
              "True"
            ]
          },
          "metadata": {
            "tags": []
          },
          "execution_count": 97
        }
      ]
    },
    {
      "cell_type": "code",
      "metadata": {
        "id": "bW_THRkrafWX",
        "outputId": "532af87a-0e38-44e5-cbbe-7d2f37c9915e",
        "colab": {
          "base_uri": "https://localhost:8080/"
        }
      },
      "source": [
        "len(conjunto)"
      ],
      "execution_count": null,
      "outputs": [
        {
          "output_type": "execute_result",
          "data": {
            "text/plain": [
              "4"
            ]
          },
          "metadata": {
            "tags": []
          },
          "execution_count": 98
        }
      ]
    },
    {
      "cell_type": "code",
      "metadata": {
        "id": "m7ky7s3RakT1"
      },
      "source": [
        "set1 = {1,2,3,4,5,6,7,8,9,10}\n",
        "set2 = {2,4,6,8,10}"
      ],
      "execution_count": null,
      "outputs": []
    },
    {
      "cell_type": "code",
      "metadata": {
        "id": "Tj-7Zrtla0X2",
        "outputId": "9b0c46cd-5905-4b98-fc5b-81f8ff5ac7b0",
        "colab": {
          "base_uri": "https://localhost:8080/"
        }
      },
      "source": [
        "# União\n",
        "set1 | set2"
      ],
      "execution_count": null,
      "outputs": [
        {
          "output_type": "execute_result",
          "data": {
            "text/plain": [
              "{1, 2, 3, 4, 5, 6, 7, 8, 9, 10}"
            ]
          },
          "metadata": {
            "tags": []
          },
          "execution_count": 101
        }
      ]
    },
    {
      "cell_type": "code",
      "metadata": {
        "id": "7UpibZKlbVJ1",
        "outputId": "4aeffc5b-da84-47eb-f864-84836a3aa199",
        "colab": {
          "base_uri": "https://localhost:8080/"
        }
      },
      "source": [
        "set1.union(set2)"
      ],
      "execution_count": null,
      "outputs": [
        {
          "output_type": "execute_result",
          "data": {
            "text/plain": [
              "{1, 2, 3, 4, 5, 6, 7, 8, 9, 10}"
            ]
          },
          "metadata": {
            "tags": []
          },
          "execution_count": 109
        }
      ]
    },
    {
      "cell_type": "code",
      "metadata": {
        "id": "pogciyOKa5SB",
        "outputId": "6ba07358-ec8c-4970-f35a-57197fffc74f",
        "colab": {
          "base_uri": "https://localhost:8080/"
        }
      },
      "source": [
        "# Interseção\n",
        "set1 & set2"
      ],
      "execution_count": null,
      "outputs": [
        {
          "output_type": "execute_result",
          "data": {
            "text/plain": [
              "{2, 4, 6, 8, 10}"
            ]
          },
          "metadata": {
            "tags": []
          },
          "execution_count": 102
        }
      ]
    },
    {
      "cell_type": "code",
      "metadata": {
        "id": "3vesf3xlbY12",
        "outputId": "98c71128-7eba-4ae7-fcdb-b02fecbbda8e",
        "colab": {
          "base_uri": "https://localhost:8080/"
        }
      },
      "source": [
        "set1.intersection(set2)"
      ],
      "execution_count": null,
      "outputs": [
        {
          "output_type": "execute_result",
          "data": {
            "text/plain": [
              "{2, 4, 6, 8, 10}"
            ]
          },
          "metadata": {
            "tags": []
          },
          "execution_count": 110
        }
      ]
    },
    {
      "cell_type": "code",
      "metadata": {
        "id": "5xJWkFiYa9r4",
        "outputId": "0237e39b-4b5a-4c56-a0a9-03bac61cd213",
        "colab": {
          "base_uri": "https://localhost:8080/"
        }
      },
      "source": [
        "# Elementos do 1 que não estão no 2\n",
        "set1 - set2"
      ],
      "execution_count": null,
      "outputs": [
        {
          "output_type": "execute_result",
          "data": {
            "text/plain": [
              "{1, 3, 5, 7, 9}"
            ]
          },
          "metadata": {
            "tags": []
          },
          "execution_count": 104
        }
      ]
    },
    {
      "cell_type": "code",
      "metadata": {
        "id": "MVo6XBAMbad9",
        "outputId": "5bf590e2-cd84-4d16-d510-4b8323ff132d",
        "colab": {
          "base_uri": "https://localhost:8080/"
        }
      },
      "source": [
        "set1.difference(set2)"
      ],
      "execution_count": null,
      "outputs": [
        {
          "output_type": "execute_result",
          "data": {
            "text/plain": [
              "{1, 3, 5, 7, 9}"
            ]
          },
          "metadata": {
            "tags": []
          },
          "execution_count": 111
        }
      ]
    },
    {
      "cell_type": "code",
      "metadata": {
        "id": "fHs1bdhMbFWz",
        "outputId": "6168f098-e534-473c-97de-553f0ea82875",
        "colab": {
          "base_uri": "https://localhost:8080/"
        }
      },
      "source": [
        "# Todos os elementos do 1 estão do 2? (1 é subconjunto de 2?)\n",
        "set1 <= set2"
      ],
      "execution_count": null,
      "outputs": [
        {
          "output_type": "execute_result",
          "data": {
            "text/plain": [
              "False"
            ]
          },
          "metadata": {
            "tags": []
          },
          "execution_count": 106
        }
      ]
    },
    {
      "cell_type": "code",
      "metadata": {
        "id": "09LhrWBJbPx-",
        "outputId": "61e51b59-3200-4682-cc77-a1446f9ace0e",
        "colab": {
          "base_uri": "https://localhost:8080/"
        }
      },
      "source": [
        "set2 <= set1"
      ],
      "execution_count": null,
      "outputs": [
        {
          "output_type": "execute_result",
          "data": {
            "text/plain": [
              "True"
            ]
          },
          "metadata": {
            "tags": []
          },
          "execution_count": 108
        }
      ]
    },
    {
      "cell_type": "code",
      "metadata": {
        "id": "qZiXosZ7beBi",
        "outputId": "49469123-968c-4ef2-a9c7-5ecf3661133d",
        "colab": {
          "base_uri": "https://localhost:8080/"
        }
      },
      "source": [
        "set1.issubset(set2)"
      ],
      "execution_count": null,
      "outputs": [
        {
          "output_type": "execute_result",
          "data": {
            "text/plain": [
              "False"
            ]
          },
          "metadata": {
            "tags": []
          },
          "execution_count": 112
        }
      ]
    },
    {
      "cell_type": "code",
      "metadata": {
        "id": "gOr4oEMhbhVJ",
        "outputId": "cb40ae9d-39da-4ff4-9eb1-00cc5eef9ee8",
        "colab": {
          "base_uri": "https://localhost:8080/"
        }
      },
      "source": [
        "set1.add(0)\n",
        "set1"
      ],
      "execution_count": null,
      "outputs": [
        {
          "output_type": "execute_result",
          "data": {
            "text/plain": [
              "{0, 1, 2, 3, 4, 5, 6, 7, 8, 9, 10}"
            ]
          },
          "metadata": {
            "tags": []
          },
          "execution_count": 114
        }
      ]
    },
    {
      "cell_type": "code",
      "metadata": {
        "id": "HuFgtJ9Pbm8T",
        "outputId": "dde94f03-0c04-4087-964c-05e9ac0ce247",
        "colab": {
          "base_uri": "https://localhost:8080/"
        }
      },
      "source": [
        "set2.remove(8)\n",
        "set2"
      ],
      "execution_count": null,
      "outputs": [
        {
          "output_type": "execute_result",
          "data": {
            "text/plain": [
              "{2, 4, 6, 10}"
            ]
          },
          "metadata": {
            "tags": []
          },
          "execution_count": 118
        }
      ]
    },
    {
      "cell_type": "code",
      "metadata": {
        "id": "wFeXVbj6btIG",
        "outputId": "92a2b456-e111-4e53-96bd-8ebc43bd8476",
        "colab": {
          "base_uri": "https://localhost:8080/"
        }
      },
      "source": [
        "# Remove item arbitrário\n",
        "set1.pop()"
      ],
      "execution_count": null,
      "outputs": [
        {
          "output_type": "execute_result",
          "data": {
            "text/plain": [
              "1"
            ]
          },
          "metadata": {
            "tags": []
          },
          "execution_count": 119
        }
      ]
    },
    {
      "cell_type": "code",
      "metadata": {
        "id": "Dupp7fd7byPI"
      },
      "source": [
        "set2.clear()\n",
        "set2"
      ],
      "execution_count": null,
      "outputs": []
    },
    {
      "cell_type": "markdown",
      "metadata": {
        "id": "AQ_JOht-ZgUi"
      },
      "source": [
        "### 1.9 Dicionário"
      ]
    },
    {
      "cell_type": "code",
      "metadata": {
        "id": "1wN7vhfSwluD",
        "outputId": "4331cb96-683f-4941-ebb2-88cae47b4906",
        "colab": {
          "base_uri": "https://localhost:8080/"
        }
      },
      "source": [
        "dicionario = {'chave1':'valor1','chave2':'valor2','chave3':'valor3','chave4':'valor4'}\n",
        "print(dicionario)\n",
        "type(dicionario)"
      ],
      "execution_count": null,
      "outputs": [
        {
          "output_type": "stream",
          "text": [
            "{'chave1': 'valor1', 'chave2': 'valor2', 'chave3': 'valor3', 'chave4': 'valor4'}\n"
          ],
          "name": "stdout"
        },
        {
          "output_type": "execute_result",
          "data": {
            "text/plain": [
              "dict"
            ]
          },
          "metadata": {
            "tags": []
          },
          "execution_count": 11
        }
      ]
    },
    {
      "cell_type": "code",
      "metadata": {
        "id": "Lf0YyUdcdOe1",
        "outputId": "34d6e752-6acb-4df3-ca76-32d7663a9fa2",
        "colab": {
          "base_uri": "https://localhost:8080/",
          "height": 35
        }
      },
      "source": [
        "dicionario['chave2']"
      ],
      "execution_count": null,
      "outputs": [
        {
          "output_type": "execute_result",
          "data": {
            "application/vnd.google.colaboratory.intrinsic+json": {
              "type": "string"
            },
            "text/plain": [
              "'valor2'"
            ]
          },
          "metadata": {
            "tags": []
          },
          "execution_count": 12
        }
      ]
    },
    {
      "cell_type": "code",
      "metadata": {
        "id": "TxxpNyOkdSp3"
      },
      "source": [
        "dicionario['chave5'] = 'valor5'"
      ],
      "execution_count": null,
      "outputs": []
    },
    {
      "cell_type": "code",
      "metadata": {
        "id": "IERlz-6fdW5v",
        "outputId": "db7b6e98-88e5-4819-d079-7e97e7679ab8",
        "colab": {
          "base_uri": "https://localhost:8080/"
        }
      },
      "source": [
        "dicionario"
      ],
      "execution_count": null,
      "outputs": [
        {
          "output_type": "execute_result",
          "data": {
            "text/plain": [
              "{'chave1': 'valor1',\n",
              " 'chave2': 'valor2',\n",
              " 'chave3': 'valor3',\n",
              " 'chave4': 'valor4',\n",
              " 'chave5': 'valor5'}"
            ]
          },
          "metadata": {
            "tags": []
          },
          "execution_count": 14
        }
      ]
    },
    {
      "cell_type": "code",
      "metadata": {
        "id": "zwuhamAEdZ_M",
        "outputId": "2939f029-2e41-4014-89d8-8b613a6837dc",
        "colab": {
          "base_uri": "https://localhost:8080/"
        }
      },
      "source": [
        "capitais = {'MG':'Belo Horizonte','BA':'Salvador','PE':'Recife','AM':'Manaus'}\n",
        "\n",
        "for chave in capitais:\n",
        "    print(capitais[chave],'é a capital de',chave)"
      ],
      "execution_count": null,
      "outputs": [
        {
          "output_type": "stream",
          "text": [
            "Belo Horizonte é a capital de MG\n",
            "Salvador é a capital de BA\n",
            "Recife é a capital de PE\n",
            "Manaus é a capital de AM\n"
          ],
          "name": "stdout"
        }
      ]
    },
    {
      "cell_type": "code",
      "metadata": {
        "id": "mcAT_QZ9dzfm",
        "outputId": "df03a45d-c01a-422c-84e4-fd6e6b55fd0a",
        "colab": {
          "base_uri": "https://localhost:8080/"
        }
      },
      "source": [
        "capitais.keys()"
      ],
      "execution_count": null,
      "outputs": [
        {
          "output_type": "execute_result",
          "data": {
            "text/plain": [
              "dict_keys(['MG', 'BA', 'PE', 'AM'])"
            ]
          },
          "metadata": {
            "tags": []
          },
          "execution_count": 17
        }
      ]
    },
    {
      "cell_type": "code",
      "metadata": {
        "id": "hj-MgZPBd2Tf",
        "outputId": "309f2897-f980-410f-886c-efec112c9705",
        "colab": {
          "base_uri": "https://localhost:8080/"
        }
      },
      "source": [
        "capitais.values()"
      ],
      "execution_count": null,
      "outputs": [
        {
          "output_type": "execute_result",
          "data": {
            "text/plain": [
              "dict_values(['Belo Horizonte', 'Salvador', 'Recife', 'Manaus'])"
            ]
          },
          "metadata": {
            "tags": []
          },
          "execution_count": 18
        }
      ]
    },
    {
      "cell_type": "code",
      "metadata": {
        "id": "YkK7AU5-d3Vn",
        "outputId": "565516e3-4ad7-4dc1-d96f-4a70765cb054",
        "colab": {
          "base_uri": "https://localhost:8080/"
        }
      },
      "source": [
        "capitais.items()"
      ],
      "execution_count": null,
      "outputs": [
        {
          "output_type": "execute_result",
          "data": {
            "text/plain": [
              "dict_items([('MG', 'Belo Horizonte'), ('BA', 'Salvador'), ('PE', 'Recife'), ('AM', 'Manaus')])"
            ]
          },
          "metadata": {
            "tags": []
          },
          "execution_count": 20
        }
      ]
    },
    {
      "cell_type": "code",
      "metadata": {
        "id": "SLvcae4hd7oH",
        "outputId": "491a3619-77d0-45d3-fe2e-08a7419cc5f4",
        "colab": {
          "base_uri": "https://localhost:8080/",
          "height": 35
        }
      },
      "source": [
        "# Igual o capitais['MG']\n",
        "capitais.get('MG')"
      ],
      "execution_count": null,
      "outputs": [
        {
          "output_type": "execute_result",
          "data": {
            "application/vnd.google.colaboratory.intrinsic+json": {
              "type": "string"
            },
            "text/plain": [
              "'Belo Horizonte'"
            ]
          },
          "metadata": {
            "tags": []
          },
          "execution_count": 21
        }
      ]
    },
    {
      "cell_type": "code",
      "metadata": {
        "id": "_63PWjcGeCQp"
      },
      "source": [
        "capitais.get('SP')"
      ],
      "execution_count": null,
      "outputs": []
    },
    {
      "cell_type": "code",
      "metadata": {
        "id": "3Demb0gZeMIp",
        "outputId": "58eae111-79b9-48ea-b5d6-dee316a13344",
        "colab": {
          "base_uri": "https://localhost:8080/",
          "height": 35
        }
      },
      "source": [
        "capitais.get('SP','Capital não cadastrada')"
      ],
      "execution_count": null,
      "outputs": [
        {
          "output_type": "execute_result",
          "data": {
            "application/vnd.google.colaboratory.intrinsic+json": {
              "type": "string"
            },
            "text/plain": [
              "'Capital não cadastrada'"
            ]
          },
          "metadata": {
            "tags": []
          },
          "execution_count": 23
        }
      ]
    },
    {
      "cell_type": "markdown",
      "metadata": {
        "id": "hB88ARokeifg"
      },
      "source": [
        "## 2 Mutabilidade e imutabilidade\n"
      ]
    },
    {
      "cell_type": "markdown",
      "metadata": {
        "id": "d2sO-MeV0fwW"
      },
      "source": [
        "### 2.1 Variáveis imutáveis\n",
        "\n",
        "Ser imutável significa que, do nascimento ao descarte, a variável é instanciada com um valor único. São imutáveis:\n",
        "\n",
        "    str\n",
        "    bool\n",
        "    float\n",
        "    int\n",
        "    long\n",
        "    complex\n",
        "    tuple"
      ]
    },
    {
      "cell_type": "code",
      "metadata": {
        "id": "8oeLsqjfafUY",
        "outputId": "e22ad2d4-f526-4191-862c-83841a9a43ec",
        "colab": {
          "base_uri": "https://localhost:8080/"
        }
      },
      "source": [
        "x = 42\n",
        "id(x)"
      ],
      "execution_count": null,
      "outputs": [
        {
          "output_type": "execute_result",
          "data": {
            "text/plain": [
              "10915808"
            ]
          },
          "metadata": {
            "tags": []
          },
          "execution_count": 22
        }
      ]
    },
    {
      "cell_type": "code",
      "metadata": {
        "id": "peTYeOPvyKM3",
        "outputId": "24ee735e-8648-4ea2-81d9-56d2c370891c",
        "colab": {
          "base_uri": "https://localhost:8080/"
        }
      },
      "source": [
        "x = x + 1\n",
        "print(x)"
      ],
      "execution_count": null,
      "outputs": [
        {
          "output_type": "stream",
          "text": [
            "43\n"
          ],
          "name": "stdout"
        }
      ]
    },
    {
      "cell_type": "code",
      "metadata": {
        "id": "IRnR4pEDyQ5_",
        "outputId": "3254bbc9-fab1-4bda-fd65-c610876ee7ee",
        "colab": {
          "base_uri": "https://localhost:8080/"
        }
      },
      "source": [
        "id(x)"
      ],
      "execution_count": null,
      "outputs": [
        {
          "output_type": "execute_result",
          "data": {
            "text/plain": [
              "10915840"
            ]
          },
          "metadata": {
            "tags": []
          },
          "execution_count": 27
        }
      ]
    },
    {
      "cell_type": "code",
      "metadata": {
        "id": "a-BBfFfCUuvh"
      },
      "source": [
        "id(42)"
      ],
      "execution_count": null,
      "outputs": []
    },
    {
      "cell_type": "markdown",
      "metadata": {
        "id": "ZDglVNRoyaJh"
      },
      "source": [
        "A função id() retorna o id único para um objeto específico; todo objeto do python tem uma id e essa id é atribuída ao objeto no momento em que ele é criado. \n",
        "\n",
        "O id, na verdade, é o endereço de memória desse objeto criado, e será diferente toda vez que você rodar o programa, com algumas exeções.\n",
        "\n",
        "Observe que, no exemplo acima, ao mudar o valor da variável, o que de fato acontece é que outra nova variável é instanciada com o novo valor. Em resumo, o endereço de memória é diferente.\n",
        "\n",
        "Isso significa que a variável é **imutável**: não se altera de fato a variável, já que uma nova é criada em novo endereço de memória.\n"
      ]
    },
    {
      "cell_type": "markdown",
      "metadata": {
        "id": "ftUNuf340n-u"
      },
      "source": [
        "### 2.2 Variáveis mutáveis\n",
        "\n",
        "São mutáveis:\n",
        "\n",
        "    lists\n",
        "    dict\n",
        "    set\n",
        "    file"
      ]
    },
    {
      "cell_type": "code",
      "metadata": {
        "id": "8-oB46hZz9MH",
        "outputId": "12424372-24eb-453f-cc9b-853543825420",
        "colab": {
          "base_uri": "https://localhost:8080/"
        }
      },
      "source": [
        "x = [22, 44]\n",
        "id(x)"
      ],
      "execution_count": null,
      "outputs": [
        {
          "output_type": "execute_result",
          "data": {
            "text/plain": [
              "140089260610120"
            ]
          },
          "metadata": {
            "tags": []
          },
          "execution_count": 28
        }
      ]
    },
    {
      "cell_type": "code",
      "metadata": {
        "id": "ps8v08bV0wjr",
        "outputId": "c8d0ce02-39f4-4a08-b515-f5cfb205a51a",
        "colab": {
          "base_uri": "https://localhost:8080/"
        }
      },
      "source": [
        "x.append(66)\n",
        "print(x)\n",
        "id(x)"
      ],
      "execution_count": null,
      "outputs": [
        {
          "output_type": "stream",
          "text": [
            "[22, 44, 66]\n"
          ],
          "name": "stdout"
        },
        {
          "output_type": "execute_result",
          "data": {
            "text/plain": [
              "140089260610120"
            ]
          },
          "metadata": {
            "tags": []
          },
          "execution_count": 29
        }
      ]
    },
    {
      "cell_type": "markdown",
      "metadata": {
        "id": "xADjg9SPybOf"
      },
      "source": [
        "Observe bem: **mesmo id**, mesmo endereço de memória!"
      ]
    },
    {
      "cell_type": "code",
      "metadata": {
        "id": "kTqlURruavb5"
      },
      "source": [
        ""
      ],
      "execution_count": null,
      "outputs": []
    }
  ]
}