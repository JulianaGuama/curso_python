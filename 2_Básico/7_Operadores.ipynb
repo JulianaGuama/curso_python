{
  "nbformat": 4,
  "nbformat_minor": 0,
  "metadata": {
    "colab": {
      "name": "7_Operadores.ipynb",
      "provenance": [],
      "collapsed_sections": [],
      "toc_visible": true
    },
    "kernelspec": {
      "name": "python3",
      "display_name": "Python 3"
    }
  },
  "cells": [
    {
      "cell_type": "markdown",
      "metadata": {
        "id": "SJqijlfHeN9M"
      },
      "source": [
        "# Curso básico de Python - Operadores\n",
        "\n",
        "*Esse material pertence às Pyladies-BH*"
      ]
    },
    {
      "cell_type": "code",
      "metadata": {
        "id": "9uMO_eBQp_vR"
      },
      "source": [
        "__author__ = 'Naiara Cerqueira e Juliana Guamá'"
      ],
      "execution_count": null,
      "outputs": []
    },
    {
      "cell_type": "markdown",
      "metadata": {
        "id": "L9CA0lYWeZfg"
      },
      "source": [
        "## Documentação\n",
        "\n",
        "Leia mais sobre operadores neste [link](https://python-reference.readthedocs.io/en/latest/docs/operators/).\n"
      ]
    },
    {
      "cell_type": "markdown",
      "metadata": {
        "id": "H_QsfktENve5"
      },
      "source": [
        "## Operadores de atribuição\n",
        "\n",
        "* `=` atribuição\n",
        "* `+=` atribuição incremental\n",
        "* `-=` atribuição decremental\n",
        "* `/=` atribuição com divisão\n",
        "* `*=` atribuição com multiplicação\n",
        "* `%=` atribuição de módulo"
      ]
    },
    {
      "cell_type": "code",
      "metadata": {
        "id": "fE54TOu4NeUd"
      },
      "source": [
        "# Operador de atribuição\n",
        "x = 5"
      ],
      "execution_count": 12,
      "outputs": []
    },
    {
      "cell_type": "code",
      "metadata": {
        "id": "cTtaHWpeN3lT",
        "outputId": "dbd02043-fcc0-4d0e-8cc9-9c50b4e9ffdf",
        "colab": {
          "base_uri": "https://localhost:8080/"
        }
      },
      "source": [
        "x += 3\n",
        "print(x)\n",
        "x -= 5\n",
        "print(x)"
      ],
      "execution_count": 13,
      "outputs": [
        {
          "output_type": "stream",
          "text": [
            "8\n",
            "3\n"
          ],
          "name": "stdout"
        }
      ]
    },
    {
      "cell_type": "markdown",
      "metadata": {
        "id": "fwGmz3bOYOT0"
      },
      "source": [
        "## Operadores booleanos\n",
        "\n",
        "* x or y\n",
        "* x and y\n",
        "* not x \n"
      ]
    },
    {
      "cell_type": "markdown",
      "metadata": {
        "id": "PmefxiLrwy1K"
      },
      "source": [
        "**Operadores lógicos**"
      ]
    },
    {
      "cell_type": "code",
      "metadata": {
        "id": "DzdqM21ErVgP",
        "outputId": "1b75d2eb-5364-4d0e-e06a-2a9742b6c600",
        "colab": {
          "base_uri": "https://localhost:8080/"
        }
      },
      "source": [
        "# tabela verdade\n",
        "print(f\"A     - B     - or    - and   - not A\")\n",
        "print(f\"False - False - {False or False} - {False and False} - {not False}\")\n",
        "print(f\"False - True - {False or True} - {False and True} - {not False}\")\n",
        "print(f\"True - False - {True or False} - {True and False} - {not True}\")\n",
        "print(f\"True - True - {True or True} - {True and True} - {not True}\")"
      ],
      "execution_count": 5,
      "outputs": [
        {
          "output_type": "stream",
          "text": [
            "A     - B     - or    - and   - not A\n",
            "False - False - False - False - True\n",
            "False - True - True - False - True\n",
            "True - False - True - False - False\n",
            "True - True - True - True - False\n"
          ],
          "name": "stdout"
        }
      ]
    },
    {
      "cell_type": "markdown",
      "metadata": {
        "id": "ehepK4AEXGIc"
      },
      "source": [
        "## Operadores comparativos\n",
        "\n",
        "* `<` menor que\n",
        "* `<-` menor ou igual\n",
        "* `>` maior que\n",
        "* `>=` maior ou igual\n",
        "* `==` igual\n",
        "* `!=` diferente\n",
        "* `is` comparação de identidade\n",
        "* `is not` negação da comparação de identidade"
      ]
    },
    {
      "cell_type": "markdown",
      "metadata": {
        "id": "JUMXuMtvNNYr"
      },
      "source": [
        "**Operadores relacionais**"
      ]
    },
    {
      "cell_type": "code",
      "metadata": {
        "id": "9bP07eqINPwQ",
        "outputId": "6ea90503-4a73-4169-b78e-cc1acc6f14f2",
        "colab": {
          "base_uri": "https://localhost:8080/"
        }
      },
      "source": [
        "print(4 == 5) # igual\n",
        "print(4 != 5) # diferente"
      ],
      "execution_count": 8,
      "outputs": [
        {
          "output_type": "stream",
          "text": [
            "False\n",
            "True\n"
          ],
          "name": "stdout"
        }
      ]
    },
    {
      "cell_type": "code",
      "metadata": {
        "id": "E8fg7aq-NTwj",
        "outputId": "7bd79159-b891-4ac0-e17b-6da57d95d77f",
        "colab": {
          "base_uri": "https://localhost:8080/"
        }
      },
      "source": [
        "print(4 < 5) # menor que\n",
        "print(4 > 5) # maior que"
      ],
      "execution_count": 9,
      "outputs": [
        {
          "output_type": "stream",
          "text": [
            "True\n",
            "False\n"
          ],
          "name": "stdout"
        }
      ]
    },
    {
      "cell_type": "code",
      "metadata": {
        "id": "3oTH5T6cZfHr",
        "outputId": "39ee949f-6c8c-49f4-8c13-860563fb9ece",
        "colab": {
          "base_uri": "https://localhost:8080/"
        }
      },
      "source": [
        "print(4 is 5)\n",
        "print(4 is 4)"
      ],
      "execution_count": 14,
      "outputs": [
        {
          "output_type": "stream",
          "text": [
            "False\n",
            "True\n"
          ],
          "name": "stdout"
        }
      ]
    },
    {
      "cell_type": "code",
      "metadata": {
        "id": "IngAQQHLZjJX",
        "outputId": "e543de10-16d1-4433-baa9-15f0a401eac2",
        "colab": {
          "base_uri": "https://localhost:8080/"
        }
      },
      "source": [
        "x = 4\n",
        "print(4 is x)"
      ],
      "execution_count": 15,
      "outputs": [
        {
          "output_type": "stream",
          "text": [
            "True\n"
          ],
          "name": "stdout"
        }
      ]
    },
    {
      "cell_type": "code",
      "metadata": {
        "id": "ArfiEH7DZmAm",
        "outputId": "19f74239-cbc4-4cda-d144-b8ac6a66f093",
        "colab": {
          "base_uri": "https://localhost:8080/"
        }
      },
      "source": [
        "print(id(4))\n",
        "print(id(x))"
      ],
      "execution_count": 16,
      "outputs": [
        {
          "output_type": "stream",
          "text": [
            "10914592\n",
            "10914592\n"
          ],
          "name": "stdout"
        }
      ]
    }
  ]
}
