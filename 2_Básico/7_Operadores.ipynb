{
  "nbformat": 4,
  "nbformat_minor": 0,
  "metadata": {
    "colab": {
      "name": "Notebook 3.ipynb",
      "provenance": [],
      "collapsed_sections": [],
      "toc_visible": true
    },
    "kernelspec": {
      "name": "python3",
      "display_name": "Python 3"
    }
  },
  "cells": [
    {
      "cell_type": "markdown",
      "metadata": {
        "id": "SJqijlfHeN9M"
      },
      "source": [
        "# Curso básico de Python - Notebook 3\n",
        "\n",
        "*Esse material pertence às Pyladies-BH*"
      ]
    },
    {
      "cell_type": "code",
      "metadata": {
        "id": "9uMO_eBQp_vR"
      },
      "source": [
        "__author__ = 'Naiara Cerqueira e Juliana Guamá'"
      ],
      "execution_count": null,
      "outputs": []
    },
    {
      "cell_type": "markdown",
      "metadata": {
        "id": "L9CA0lYWeZfg"
      },
      "source": [
        "## 1 Operadores e condicionais\n",
        "\n"
      ]
    },
    {
      "cell_type": "markdown",
      "metadata": {
        "id": "PmefxiLrwy1K"
      },
      "source": [
        "**Operadores lógicos**"
      ]
    },
    {
      "cell_type": "code",
      "metadata": {
        "id": "DzdqM21ErVgP",
        "outputId": "f32826af-15ac-4c46-dbb0-02c391a6578b",
        "colab": {
          "base_uri": "https://localhost:8080/"
        }
      },
      "source": [
        "# AND\n",
        "# Ambas afirmações devem ser verdadeiras para que resultado seja verdadeiro\n",
        "True and True"
      ],
      "execution_count": null,
      "outputs": [
        {
          "output_type": "execute_result",
          "data": {
            "text/plain": [
              "True"
            ]
          },
          "metadata": {
            "tags": []
          },
          "execution_count": 4
        }
      ]
    },
    {
      "cell_type": "code",
      "metadata": {
        "id": "uZJc4jumw6fo",
        "outputId": "96ac36ba-7e6f-423a-a684-c75797ddc68f",
        "colab": {
          "base_uri": "https://localhost:8080/"
        }
      },
      "source": [
        "True and False"
      ],
      "execution_count": null,
      "outputs": [
        {
          "output_type": "execute_result",
          "data": {
            "text/plain": [
              "False"
            ]
          },
          "metadata": {
            "tags": []
          },
          "execution_count": 5
        }
      ]
    },
    {
      "cell_type": "code",
      "metadata": {
        "id": "gXTRcTQ6w8cR",
        "outputId": "194a09f1-4ac6-4279-a5ae-ee1a674f60df",
        "colab": {
          "base_uri": "https://localhost:8080/"
        }
      },
      "source": [
        "False and False"
      ],
      "execution_count": null,
      "outputs": [
        {
          "output_type": "execute_result",
          "data": {
            "text/plain": [
              "False"
            ]
          },
          "metadata": {
            "tags": []
          },
          "execution_count": 6
        }
      ]
    },
    {
      "cell_type": "code",
      "metadata": {
        "id": "Kr48FVpzxDje",
        "outputId": "1c959141-6c04-4de5-a30a-2a4897ade0d1",
        "colab": {
          "base_uri": "https://localhost:8080/"
        }
      },
      "source": [
        "# OR\n",
        "# Uma das afirmações deve ser verdadeira para que resultado seja verdadeiro\n",
        "\n",
        "True or False"
      ],
      "execution_count": null,
      "outputs": [
        {
          "output_type": "execute_result",
          "data": {
            "text/plain": [
              "True"
            ]
          },
          "metadata": {
            "tags": []
          },
          "execution_count": 9
        }
      ]
    },
    {
      "cell_type": "code",
      "metadata": {
        "id": "KFD3guqIxGbr",
        "outputId": "3ab16695-3e07-4477-ba87-27d2b8c2c085",
        "colab": {
          "base_uri": "https://localhost:8080/"
        }
      },
      "source": [
        "True or True"
      ],
      "execution_count": null,
      "outputs": [
        {
          "output_type": "execute_result",
          "data": {
            "text/plain": [
              "True"
            ]
          },
          "metadata": {
            "tags": []
          },
          "execution_count": 10
        }
      ]
    },
    {
      "cell_type": "code",
      "metadata": {
        "id": "rAzNvOBRxH-9",
        "outputId": "dae71332-227f-4099-f0fe-6dd7c128b26d",
        "colab": {
          "base_uri": "https://localhost:8080/"
        }
      },
      "source": [
        "False or False"
      ],
      "execution_count": null,
      "outputs": [
        {
          "output_type": "execute_result",
          "data": {
            "text/plain": [
              "False"
            ]
          },
          "metadata": {
            "tags": []
          },
          "execution_count": 8
        }
      ]
    },
    {
      "cell_type": "code",
      "metadata": {
        "id": "FeCZoM9UxKob",
        "outputId": "a7649618-f465-4667-cb41-c93bcd4afb3a",
        "colab": {
          "base_uri": "https://localhost:8080/"
        }
      },
      "source": [
        "# NOT\n",
        "\n",
        "not False"
      ],
      "execution_count": null,
      "outputs": [
        {
          "output_type": "execute_result",
          "data": {
            "text/plain": [
              "True"
            ]
          },
          "metadata": {
            "tags": []
          },
          "execution_count": 11
        }
      ]
    },
    {
      "cell_type": "code",
      "metadata": {
        "id": "YQT3akKPxNHX",
        "outputId": "089d6920-b0c2-4000-e0ea-d07f09d399ab",
        "colab": {
          "base_uri": "https://localhost:8080/"
        }
      },
      "source": [
        "not True"
      ],
      "execution_count": null,
      "outputs": [
        {
          "output_type": "execute_result",
          "data": {
            "text/plain": [
              "False"
            ]
          },
          "metadata": {
            "tags": []
          },
          "execution_count": 12
        }
      ]
    },
    {
      "cell_type": "code",
      "metadata": {
        "id": "-w_oIPiMleq9",
        "outputId": "7fcb9c60-4951-4e99-b5ab-afe8dc0260c8",
        "colab": {
          "base_uri": "https://localhost:8080/"
        }
      },
      "source": [
        "(True and False) or (True or False)"
      ],
      "execution_count": null,
      "outputs": [
        {
          "output_type": "execute_result",
          "data": {
            "text/plain": [
              "True"
            ]
          },
          "metadata": {
            "tags": []
          },
          "execution_count": 20
        }
      ]
    },
    {
      "cell_type": "code",
      "metadata": {
        "id": "jnJn1xXtnxua",
        "outputId": "43b7307a-a47a-4571-e26a-1884460e5436",
        "colab": {
          "base_uri": "https://localhost:8080/"
        }
      },
      "source": [
        "# Zero corresponde ao Falso, todos os outros valores são True\n",
        "bool(0)"
      ],
      "execution_count": null,
      "outputs": [
        {
          "output_type": "execute_result",
          "data": {
            "text/plain": [
              "False"
            ]
          },
          "metadata": {
            "tags": []
          },
          "execution_count": 25
        }
      ]
    },
    {
      "cell_type": "code",
      "metadata": {
        "id": "nAls5xZunzDN",
        "outputId": "bf895fda-ed34-49df-b856-e8bf75e8970a",
        "colab": {
          "base_uri": "https://localhost:8080/"
        }
      },
      "source": [
        "bool(1)"
      ],
      "execution_count": null,
      "outputs": [
        {
          "output_type": "execute_result",
          "data": {
            "text/plain": [
              "True"
            ]
          },
          "metadata": {
            "tags": []
          },
          "execution_count": 23
        }
      ]
    },
    {
      "cell_type": "code",
      "metadata": {
        "id": "ujuhtHsAn1Y4",
        "outputId": "62ba26d2-106d-4fc2-f68d-900d3056ade9",
        "colab": {
          "base_uri": "https://localhost:8080/"
        }
      },
      "source": [
        "bool(400)"
      ],
      "execution_count": null,
      "outputs": [
        {
          "output_type": "execute_result",
          "data": {
            "text/plain": [
              "True"
            ]
          },
          "metadata": {
            "tags": []
          },
          "execution_count": 24
        }
      ]
    },
    {
      "cell_type": "code",
      "metadata": {
        "id": "pxJyPpVroBPE",
        "outputId": "f4e01349-988e-482b-fe5c-44fcb6d1cf0e",
        "colab": {
          "base_uri": "https://localhost:8080/"
        }
      },
      "source": [
        "bool(None)"
      ],
      "execution_count": null,
      "outputs": [
        {
          "output_type": "execute_result",
          "data": {
            "text/plain": [
              "False"
            ]
          },
          "metadata": {
            "tags": []
          },
          "execution_count": 26
        }
      ]
    },
    {
      "cell_type": "code",
      "metadata": {
        "id": "x0gtrNVjoDFj",
        "outputId": "cbe24082-a41b-41a7-e643-6ad8a578ef17",
        "colab": {
          "base_uri": "https://localhost:8080/"
        }
      },
      "source": [
        "bool(\"\")"
      ],
      "execution_count": null,
      "outputs": [
        {
          "output_type": "execute_result",
          "data": {
            "text/plain": [
              "False"
            ]
          },
          "metadata": {
            "tags": []
          },
          "execution_count": 28
        }
      ]
    },
    {
      "cell_type": "markdown",
      "metadata": {
        "id": "JUMXuMtvNNYr"
      },
      "source": [
        "**Operadores relacionais**"
      ]
    },
    {
      "cell_type": "code",
      "metadata": {
        "id": "9bP07eqINPwQ",
        "outputId": "5cf02265-36c7-43d3-fa30-c1f4222042f7",
        "colab": {
          "base_uri": "https://localhost:8080/"
        }
      },
      "source": [
        "# Igualdade\n",
        "# True se iguais\n",
        "4 == 5"
      ],
      "execution_count": null,
      "outputs": [
        {
          "output_type": "execute_result",
          "data": {
            "text/plain": [
              "False"
            ]
          },
          "metadata": {
            "tags": []
          },
          "execution_count": 13
        }
      ]
    },
    {
      "cell_type": "code",
      "metadata": {
        "id": "E8fg7aq-NTwj",
        "outputId": "7262041f-cad9-4c04-a299-8378e1ea5718",
        "colab": {
          "base_uri": "https://localhost:8080/"
        }
      },
      "source": [
        "# Desigualdade\n",
        "# True se diferentes\n",
        "4 != 5"
      ],
      "execution_count": null,
      "outputs": [
        {
          "output_type": "execute_result",
          "data": {
            "text/plain": [
              "True"
            ]
          },
          "metadata": {
            "tags": []
          },
          "execution_count": 14
        }
      ]
    },
    {
      "cell_type": "code",
      "metadata": {
        "id": "kbkuofu0NeGa",
        "outputId": "19d2fc92-b1c8-49cc-826f-5daa3771a8b6",
        "colab": {
          "base_uri": "https://localhost:8080/"
        }
      },
      "source": [
        "# Maior que\n",
        "4 > 5"
      ],
      "execution_count": null,
      "outputs": [
        {
          "output_type": "execute_result",
          "data": {
            "text/plain": [
              "False"
            ]
          },
          "metadata": {
            "tags": []
          },
          "execution_count": 15
        }
      ]
    },
    {
      "cell_type": "code",
      "metadata": {
        "id": "UAIvCTuVNkyN"
      },
      "source": [
        "# Maior igual a \n",
        "4 >= 5"
      ],
      "execution_count": null,
      "outputs": []
    },
    {
      "cell_type": "code",
      "metadata": {
        "id": "75mmz8FuNeJ0",
        "outputId": "5eaa7b35-7297-4100-92d3-8296c985b172",
        "colab": {
          "base_uri": "https://localhost:8080/"
        }
      },
      "source": [
        "# Maior igual a \n",
        "4 < 5"
      ],
      "execution_count": null,
      "outputs": [
        {
          "output_type": "execute_result",
          "data": {
            "text/plain": [
              "True"
            ]
          },
          "metadata": {
            "tags": []
          },
          "execution_count": 16
        }
      ]
    },
    {
      "cell_type": "code",
      "metadata": {
        "id": "p2wNILBzNeOS",
        "outputId": "5267489b-c738-46ad-e88f-4d765360368a",
        "colab": {
          "base_uri": "https://localhost:8080/"
        }
      },
      "source": [
        "# Maior igual a \n",
        "4 <= 5"
      ],
      "execution_count": null,
      "outputs": [
        {
          "output_type": "execute_result",
          "data": {
            "text/plain": [
              "True"
            ]
          },
          "metadata": {
            "tags": []
          },
          "execution_count": 17
        }
      ]
    },
    {
      "cell_type": "code",
      "metadata": {
        "id": "rKglVRgHUAfC",
        "outputId": "e7c2bc6a-4e99-45fe-e48d-6be468e866e5",
        "colab": {
          "base_uri": "https://localhost:8080/"
        }
      },
      "source": [
        "type(\"string\") == str"
      ],
      "execution_count": null,
      "outputs": [
        {
          "output_type": "execute_result",
          "data": {
            "text/plain": [
              "True"
            ]
          },
          "metadata": {
            "tags": []
          },
          "execution_count": 26
        }
      ]
    },
    {
      "cell_type": "markdown",
      "metadata": {
        "id": "H_QsfktENve5"
      },
      "source": [
        "**Operadores de atribuição**"
      ]
    },
    {
      "cell_type": "code",
      "metadata": {
        "id": "fE54TOu4NeUd"
      },
      "source": [
        "# Operador de atribuição\n",
        "x = 5"
      ],
      "execution_count": null,
      "outputs": []
    },
    {
      "cell_type": "code",
      "metadata": {
        "id": "cTtaHWpeN3lT",
        "outputId": "1d7bda71-cc33-49fe-f4e3-c2166ff56fdc",
        "colab": {
          "base_uri": "https://localhost:8080/"
        }
      },
      "source": [
        "# x = x + valor\n",
        "x = 3\n",
        "x += 5\n",
        "x"
      ],
      "execution_count": null,
      "outputs": [
        {
          "output_type": "execute_result",
          "data": {
            "text/plain": [
              "8"
            ]
          },
          "metadata": {
            "tags": []
          },
          "execution_count": 23
        }
      ]
    },
    {
      "cell_type": "code",
      "metadata": {
        "id": "7DOIvI9ZN8V0",
        "outputId": "c1d9a5ee-0647-42ba-835f-08448b8ca932",
        "colab": {
          "base_uri": "https://localhost:8080/"
        }
      },
      "source": [
        "x = 3\n",
        "x -= 5\n",
        "x"
      ],
      "execution_count": null,
      "outputs": [
        {
          "output_type": "execute_result",
          "data": {
            "text/plain": [
              "-2"
            ]
          },
          "metadata": {
            "tags": []
          },
          "execution_count": 24
        }
      ]
    },
    {
      "cell_type": "code",
      "metadata": {
        "id": "Dqz3YQuCOLp6",
        "outputId": "39262ec0-7b61-4fdd-ee43-b6e6db35269a",
        "colab": {
          "base_uri": "https://localhost:8080/"
        }
      },
      "source": [
        "# /=, //=, %=, *=: funcionam da mesma forma que o += e -=\n",
        "x = 3\n",
        "x *= 5\n",
        "x"
      ],
      "execution_count": null,
      "outputs": [
        {
          "output_type": "execute_result",
          "data": {
            "text/plain": [
              "15"
            ]
          },
          "metadata": {
            "tags": []
          },
          "execution_count": 25
        }
      ]
    },
    {
      "cell_type": "markdown",
      "metadata": {
        "id": "hB88ARokeifg"
      },
      "source": [
        "## 2 Controle de fluxo | Estruturas de controle"
      ]
    },
    {
      "cell_type": "code",
      "metadata": {
        "id": "rBvEJovarV7D",
        "outputId": "8f86eb2e-d863-48d3-db74-5e50d22abc74",
        "colab": {
          "base_uri": "https://localhost:8080/"
        }
      },
      "source": [
        "# Esse é um iterador\n",
        "range(4)"
      ],
      "execution_count": null,
      "outputs": [
        {
          "output_type": "execute_result",
          "data": {
            "text/plain": [
              "range(0, 4)"
            ]
          },
          "metadata": {
            "tags": []
          },
          "execution_count": 2
        }
      ]
    },
    {
      "cell_type": "code",
      "metadata": {
        "id": "Kw-bfURprtKK",
        "outputId": "4453fa9b-344e-4c40-f3d3-d3245dc83342",
        "colab": {
          "base_uri": "https://localhost:8080/"
        }
      },
      "source": [
        "'''\n",
        "para valor em iterador/lista/string\n",
        "'''\n",
        "for i in range(6):\n",
        "    print(i)"
      ],
      "execution_count": null,
      "outputs": [
        {
          "output_type": "stream",
          "text": [
            "0\n",
            "1\n",
            "2\n",
            "3\n",
            "4\n",
            "5\n"
          ],
          "name": "stdout"
        }
      ]
    },
    {
      "cell_type": "code",
      "metadata": {
        "id": "mOK4Dp9yXaps",
        "outputId": "1c15d17c-6385-40c8-fb71-a8fc7d418c4d",
        "colab": {
          "base_uri": "https://localhost:8080/"
        }
      },
      "source": [
        "# range( [start], stop[, step] )\n",
        "for i in range(6,21,2):\n",
        "    print(i)"
      ],
      "execution_count": null,
      "outputs": [
        {
          "output_type": "stream",
          "text": [
            "6\n",
            "8\n",
            "10\n",
            "12\n",
            "14\n",
            "16\n",
            "18\n",
            "20\n"
          ],
          "name": "stdout"
        }
      ]
    },
    {
      "cell_type": "code",
      "metadata": {
        "id": "As3K2YZ-f1E5",
        "outputId": "bed2837d-eb81-4780-fc7e-46fff316426c",
        "colab": {
          "base_uri": "https://localhost:8080/"
        }
      },
      "source": [
        "lista = ['banana','acabate','melancia','abacaxi']\n",
        "for elemento in lista:\n",
        "    print(elemento)"
      ],
      "execution_count": null,
      "outputs": [
        {
          "output_type": "stream",
          "text": [
            "banana\n",
            "acabate\n",
            "melancia\n",
            "abacaxi\n"
          ],
          "name": "stdout"
        }
      ]
    },
    {
      "cell_type": "code",
      "metadata": {
        "id": "boslPm6igARE",
        "outputId": "d9de6da8-5223-498b-e163-56a5c9c72107",
        "colab": {
          "base_uri": "https://localhost:8080/"
        }
      },
      "source": [
        "string = 'Beautiful is better than ugly.'\n",
        "for caractere in string:\n",
        "    print(caractere)"
      ],
      "execution_count": null,
      "outputs": [
        {
          "output_type": "stream",
          "text": [
            "B\n",
            "e\n",
            "a\n",
            "u\n",
            "t\n",
            "i\n",
            "f\n",
            "u\n",
            "l\n",
            " \n",
            "i\n",
            "s\n",
            " \n",
            "b\n",
            "e\n",
            "t\n",
            "t\n",
            "e\n",
            "r\n",
            " \n",
            "t\n",
            "h\n",
            "a\n",
            "n\n",
            " \n",
            "u\n",
            "g\n",
            "l\n",
            "y\n",
            ".\n"
          ],
          "name": "stdout"
        }
      ]
    },
    {
      "cell_type": "code",
      "metadata": {
        "id": "V_MrtldoggxH",
        "outputId": "1e06ae63-5be1-4134-b5ad-4cecbc9cae75",
        "colab": {
          "base_uri": "https://localhost:8080/"
        }
      },
      "source": [
        "'''\n",
        "if expressao == True:\n",
        "    faça x\n",
        "else:\n",
        "    faça y\n",
        "'''\n",
        "\n",
        "n = -6\n",
        "abs(n) if n < 0 else n"
      ],
      "execution_count": null,
      "outputs": [
        {
          "output_type": "execute_result",
          "data": {
            "text/plain": [
              "6"
            ]
          },
          "metadata": {
            "tags": []
          },
          "execution_count": 4
        }
      ]
    },
    {
      "cell_type": "code",
      "metadata": {
        "id": "yolk-bTPgp0k",
        "outputId": "493bc851-7cf3-46b4-b64c-b02bc0d4fd1b",
        "colab": {
          "base_uri": "https://localhost:8080/"
        }
      },
      "source": [
        "# Exatamente a mesma coisa de cima\n",
        "if n < 0:\n",
        "    print(abs(n))\n",
        "else: \n",
        "    print(n)"
      ],
      "execution_count": null,
      "outputs": [
        {
          "output_type": "stream",
          "text": [
            "6\n"
          ],
          "name": "stdout"
        }
      ]
    },
    {
      "cell_type": "code",
      "metadata": {
        "id": "l9CRuNjFUzVa",
        "outputId": "cbd84a6a-0096-4b71-88d4-ede6721b9b71",
        "colab": {
          "base_uri": "https://localhost:8080/"
        }
      },
      "source": [
        "resp = int(input(\"Digite um número inteiro de 1 a 10: \"))\n",
        "if resp > 5:\n",
        "    print(\"Sua resposta é maior que 5\")\n",
        "elif resp < 5:\n",
        "    print(\"Sua resposta é maior que 5\")\n",
        "else:\n",
        "    print(\"Sua resposta é 5\")"
      ],
      "execution_count": null,
      "outputs": [
        {
          "output_type": "stream",
          "text": [
            "Digite um número inteiro de 1 a 10: 10\n",
            "Sua resposta é maior que 5\n"
          ],
          "name": "stdout"
        }
      ]
    },
    {
      "cell_type": "code",
      "metadata": {
        "id": "pe9qhEWBVYbq",
        "outputId": "8f2759f3-63ce-4483-99ee-5de3fbdc9715",
        "colab": {
          "base_uri": "https://localhost:8080/"
        }
      },
      "source": [
        "'''\n",
        "faça algo enquanto a expressão for verdadeira\n",
        "'''\n",
        "\n",
        "i = 0\n",
        "while i < 10:\n",
        "    print(i)\n",
        "    i += 1"
      ],
      "execution_count": null,
      "outputs": [
        {
          "output_type": "stream",
          "text": [
            "0\n",
            "1\n",
            "2\n",
            "3\n",
            "4\n",
            "5\n",
            "6\n",
            "7\n",
            "8\n",
            "9\n"
          ],
          "name": "stdout"
        }
      ]
    },
    {
      "cell_type": "markdown",
      "metadata": {
        "id": "njIib18hqWUl"
      },
      "source": [
        "## 3 Comprehensions"
      ]
    },
    {
      "cell_type": "code",
      "metadata": {
        "id": "57bZhaEYrWZq",
        "outputId": "e24d48ab-a440-4eb1-a13f-ba180d766c49",
        "colab": {
          "base_uri": "https://localhost:8080/"
        }
      },
      "source": [
        "'''\n",
        "Para cada x, no range de 1 a 10\n",
        "Eleve x por x\n",
        "'''\n",
        "\n",
        "list_comp = [ x**x for x in range(1,11) ]\n",
        "list_comp"
      ],
      "execution_count": null,
      "outputs": [
        {
          "output_type": "execute_result",
          "data": {
            "text/plain": [
              "[1, 4, 27, 256, 3125, 46656, 823543, 16777216, 387420489, 10000000000]"
            ]
          },
          "metadata": {
            "tags": []
          },
          "execution_count": 8
        }
      ]
    },
    {
      "cell_type": "code",
      "metadata": {
        "id": "Y2t9YRBMg_I-",
        "outputId": "7913414b-745e-4ade-cac4-4c7ffd8a0eea",
        "colab": {
          "base_uri": "https://localhost:8080/"
        }
      },
      "source": [
        "'''\n",
        "Para cada x, no range de 1 a 10\n",
        "Eleve x por x, APENAS SE número é impar (divisão por 2 dá resto diferente de zero)\n",
        "'''\n",
        "\n",
        "list_comp = [ x**x for x in range(1,11) if x%2 !=0 ]\n",
        "list_comp"
      ],
      "execution_count": null,
      "outputs": [
        {
          "output_type": "execute_result",
          "data": {
            "text/plain": [
              "[1, 27, 3125, 823543, 387420489]"
            ]
          },
          "metadata": {
            "tags": []
          },
          "execution_count": 10
        }
      ]
    },
    {
      "cell_type": "code",
      "metadata": {
        "id": "082vN8KlHy8N",
        "outputId": "9597222a-e3c5-4153-f88a-daf96b016cf5",
        "colab": {
          "base_uri": "https://localhost:8080/"
        }
      },
      "source": [
        "'''\n",
        "Para cada string, chamada de x, na lista de strings, pegue o tamanho\n",
        "Set não repete número, por isso o 3 aparece apenas uma vez\n",
        "'''\n",
        "\n",
        "strings = ['a', 'bat', 'cat', 'car', 'pinguim', 'python']\n",
        "\n",
        "set_comp = { len(x) for x in strings }\n",
        "set_comp"
      ],
      "execution_count": null,
      "outputs": [
        {
          "output_type": "execute_result",
          "data": {
            "text/plain": [
              "{1, 3, 6, 7}"
            ]
          },
          "metadata": {
            "tags": []
          },
          "execution_count": 1
        }
      ]
    },
    {
      "cell_type": "code",
      "metadata": {
        "id": "eLRj0JtkIqHm",
        "outputId": "d8bd2d3d-5103-4643-adb5-10a6eee5f989",
        "colab": {
          "base_uri": "https://localhost:8080/"
        }
      },
      "source": [
        "'''\n",
        "Para cada string, chamada de x, na lista de strings, pegue o tamanho\n",
        "No dicionário x será a chave, e len(x) o valor\n",
        "'''\n",
        "\n",
        "dict_comp = { x:len(x) for x in strings }\n",
        "dict_comp"
      ],
      "execution_count": null,
      "outputs": [
        {
          "output_type": "execute_result",
          "data": {
            "text/plain": [
              "{'a': 1, 'bat': 3, 'car': 3, 'cat': 3, 'pinguim': 7, 'python': 6}"
            ]
          },
          "metadata": {
            "tags": []
          },
          "execution_count": 3
        }
      ]
    },
    {
      "cell_type": "code",
      "metadata": {
        "id": "qG_5lpE7JG6o",
        "outputId": "8b9260f3-7fcc-4d97-91a4-0ba5641caccc",
        "colab": {
          "base_uri": "https://localhost:8080/"
        }
      },
      "source": [
        "# Comprehension para listas/tuplas aninhadas\n",
        "lista_tuplas = [(1,2,3),(4,5,6),(7,8,9)]\n",
        "\n",
        "[ x for tupla in lista_tuplas for x in tupla ]"
      ],
      "execution_count": null,
      "outputs": [
        {
          "output_type": "execute_result",
          "data": {
            "text/plain": [
              "[1, 2, 3, 4, 5, 6, 7, 8, 9]"
            ]
          },
          "metadata": {
            "tags": []
          },
          "execution_count": 4
        }
      ]
    },
    {
      "cell_type": "markdown",
      "metadata": {
        "id": "hW9DY_xPqkWA"
      },
      "source": [
        "## 4 Tratamento de exceções\n",
        "\n",
        "Podemos encontrar erros de, por exemplo, sintaxe e erros de lógica, ao programar em python."
      ]
    },
    {
      "cell_type": "code",
      "metadata": {
        "id": "kTqlURruavb5"
      },
      "source": [
        "import math"
      ],
      "execution_count": null,
      "outputs": []
    },
    {
      "cell_type": "code",
      "metadata": {
        "id": "d6JHPyM8hww0",
        "outputId": "492fcdfb-11ab-40cb-e677-741ee0052fc9",
        "colab": {
          "base_uri": "https://localhost:8080/",
          "height": 167
        }
      },
      "source": [
        "math.sqrt(-5)"
      ],
      "execution_count": null,
      "outputs": [
        {
          "output_type": "error",
          "ename": "ValueError",
          "evalue": "ignored",
          "traceback": [
            "\u001b[0;31m---------------------------------------------------------------------------\u001b[0m",
            "\u001b[0;31mValueError\u001b[0m                                Traceback (most recent call last)",
            "\u001b[0;32m<ipython-input-12-e4b6d02adcc7>\u001b[0m in \u001b[0;36m<module>\u001b[0;34m()\u001b[0m\n\u001b[0;32m----> 1\u001b[0;31m \u001b[0mmath\u001b[0m\u001b[0;34m.\u001b[0m\u001b[0msqrt\u001b[0m\u001b[0;34m(\u001b[0m\u001b[0;34m-\u001b[0m\u001b[0;36m5\u001b[0m\u001b[0;34m)\u001b[0m\u001b[0;34m\u001b[0m\u001b[0;34m\u001b[0m\u001b[0m\n\u001b[0m",
            "\u001b[0;31mValueError\u001b[0m: math domain error"
          ]
        }
      ]
    },
    {
      "cell_type": "code",
      "metadata": {
        "id": "LI6s8POvh1O1",
        "outputId": "17cc745d-88ac-43b9-a45c-7401c384aac9",
        "colab": {
          "base_uri": "https://localhost:8080/"
        }
      },
      "source": [
        "# O except roda se ocorre algum erro na área do try\n",
        "\n",
        "x = -25\n",
        "\n",
        "try:\n",
        "    print(math.sqrt(x))\n",
        "except:\n",
        "    print('Não é possível tirar raiz de números negativos, o resultado da raiz do módulo do valor é:')\n",
        "    print(math.sqrt(abs(x)))\n"
      ],
      "execution_count": null,
      "outputs": [
        {
          "output_type": "stream",
          "text": [
            "Não é possível tirar raiz de números negativos, o resultado da raiz do módulo do valor é:\n",
            "5.0\n"
          ],
          "name": "stdout"
        }
      ]
    },
    {
      "cell_type": "code",
      "metadata": {
        "id": "f4LDEtDeiQbH",
        "outputId": "728b747d-1b79-46b0-ecec-9ac11682781c",
        "colab": {
          "base_uri": "https://localhost:8080/"
        }
      },
      "source": [
        "# Podemos explicitar os tipos de erros no except \n",
        "\n",
        "x = -25\n",
        "\n",
        "try:\n",
        "    print(math.sqrt(x))\n",
        "except ValueError:\n",
        "    print('Não é possível tirar raiz de números negativos, o resultado da raiz do módulo do valor é:')\n",
        "    print(math.sqrt(abs(x)))"
      ],
      "execution_count": null,
      "outputs": [
        {
          "output_type": "stream",
          "text": [
            "Não é possível tirar raiz de números negativos, o resultado da raiz do módulo do valor é:\n",
            "5.0\n"
          ],
          "name": "stdout"
        }
      ]
    },
    {
      "cell_type": "code",
      "metadata": {
        "id": "B2aX9_MvisAy",
        "outputId": "9dd5a2ef-39f7-4c03-fcb4-d27447f31b6c",
        "colab": {
          "base_uri": "https://localhost:8080/",
          "height": 254
        }
      },
      "source": [
        "x = -100\n",
        "y = 0\n",
        "\n",
        "try:\n",
        "    print(x/y)\n",
        "except ValueError:\n",
        "    print('Erro!')"
      ],
      "execution_count": null,
      "outputs": [
        {
          "output_type": "error",
          "ename": "ZeroDivisionError",
          "evalue": "ignored",
          "traceback": [
            "\u001b[0;31m---------------------------------------------------------------------------\u001b[0m",
            "\u001b[0;31mZeroDivisionError\u001b[0m                         Traceback (most recent call last)",
            "\u001b[0;32m<ipython-input-17-ba419c0a8b86>\u001b[0m in \u001b[0;36m<module>\u001b[0;34m()\u001b[0m\n\u001b[1;32m      3\u001b[0m \u001b[0;34m\u001b[0m\u001b[0m\n\u001b[1;32m      4\u001b[0m \u001b[0;32mtry\u001b[0m\u001b[0;34m:\u001b[0m\u001b[0;34m\u001b[0m\u001b[0;34m\u001b[0m\u001b[0m\n\u001b[0;32m----> 5\u001b[0;31m     \u001b[0mprint\u001b[0m\u001b[0;34m(\u001b[0m\u001b[0mx\u001b[0m\u001b[0;34m/\u001b[0m\u001b[0my\u001b[0m\u001b[0;34m)\u001b[0m\u001b[0;34m\u001b[0m\u001b[0;34m\u001b[0m\u001b[0m\n\u001b[0m\u001b[1;32m      6\u001b[0m \u001b[0;32mexcept\u001b[0m \u001b[0mValueError\u001b[0m\u001b[0;34m:\u001b[0m\u001b[0;34m\u001b[0m\u001b[0;34m\u001b[0m\u001b[0m\n\u001b[1;32m      7\u001b[0m     \u001b[0mprint\u001b[0m\u001b[0;34m(\u001b[0m\u001b[0;34m'Não é possível tirar raiz de números negativos, o resultado da raiz do módulo do valor é:'\u001b[0m\u001b[0;34m)\u001b[0m\u001b[0;34m\u001b[0m\u001b[0;34m\u001b[0m\u001b[0m\n",
            "\u001b[0;31mZeroDivisionError\u001b[0m: division by zero"
          ]
        }
      ]
    },
    {
      "cell_type": "code",
      "metadata": {
        "id": "_nHigY-Yi0EL",
        "outputId": "394e6e44-8a14-42a3-fe3e-0dd0c269e975",
        "colab": {
          "base_uri": "https://localhost:8080/"
        }
      },
      "source": [
        "'''\n",
        "Só aparece a mensagem da divisão por zero pois assim que ele começa a rodar o try, \n",
        "já encontra esse erro, e nem roda o restante do try\n",
        "'''\n",
        "\n",
        "x = -100\n",
        "y = 0\n",
        "\n",
        "try:\n",
        "    print(x/y)\n",
        "    print(sqrt(x))\n",
        "except ValueError:\n",
        "    print('Não pode tirar raiz de número negativo!')\n",
        "except ZeroDivisionError:\n",
        "    print('Não pode dividir por zero!')"
      ],
      "execution_count": null,
      "outputs": [
        {
          "output_type": "stream",
          "text": [
            "Não pode dividir por zero!\n"
          ],
          "name": "stdout"
        }
      ]
    },
    {
      "cell_type": "code",
      "metadata": {
        "id": "2dSNPnQ-jK6z"
      },
      "source": [
        ""
      ],
      "execution_count": null,
      "outputs": []
    }
  ]
}