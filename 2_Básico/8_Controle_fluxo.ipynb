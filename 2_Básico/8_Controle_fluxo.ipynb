{
  "nbformat": 4,
  "nbformat_minor": 0,
  "metadata": {
    "colab": {
      "name": "Copy of 7_Operadores.ipynb",
      "provenance": [],
      "collapsed_sections": [],
      "toc_visible": true
    },
    "kernelspec": {
      "name": "python3",
      "display_name": "Python 3"
    }
  },
  "cells": [
    {
      "cell_type": "markdown",
      "metadata": {
        "id": "SJqijlfHeN9M"
      },
      "source": [
        "# Curso básico de Python - Controle de fluxo e Comprehensions\n",
        "\n",
        "*Esse material pertence às Pyladies-BH*"
      ]
    },
    {
      "cell_type": "code",
      "metadata": {
        "id": "9uMO_eBQp_vR"
      },
      "source": [
        "__author__ = 'Naiara Cerqueira e Juliana Guamá'"
      ],
      "execution_count": null,
      "outputs": []
    },
    {
      "cell_type": "markdown",
      "metadata": {
        "id": "hB88ARokeifg"
      },
      "source": [
        "# Controle de fluxo\n",
        "Leia mais sobre controle de fluxo neste [link](https://docs.python.org/3/tutorial/controlflow.html)."
      ]
    },
    {
      "cell_type": "markdown",
      "metadata": {
        "id": "-UtENIb9aP82"
      },
      "source": [
        "## if - else\n",
        "\n",
        "Documentação neste [link](https://docs.python.org/3/tutorial/controlflow.html#if-statements)\n",
        "\n",
        "A estrutura do `if` é:\n",
        "```\n",
        "if(condition):\n",
        "  action\n",
        "elif(condition):\n",
        "  action\n",
        "else:\n",
        "  action\n",
        "```"
      ]
    },
    {
      "cell_type": "code",
      "metadata": {
        "id": "ZJEOd2s3aUqT",
        "outputId": "427297a5-7f5e-46fa-9f1d-80896743cfee",
        "colab": {
          "base_uri": "https://localhost:8080/"
        }
      },
      "source": [
        "# neste caso vai realizar o print\n",
        "if(True):\n",
        "  print(\"Olá Mundo!\")"
      ],
      "execution_count": 1,
      "outputs": [
        {
          "output_type": "stream",
          "text": [
            "Olá Mundo!\n"
          ],
          "name": "stdout"
        }
      ]
    },
    {
      "cell_type": "code",
      "metadata": {
        "id": "9lrMkpxkabWb"
      },
      "source": [
        "# neste caso não vai realizar o print\n",
        "if(False):\n",
        "  print(\"Olá Mundo!\")"
      ],
      "execution_count": 2,
      "outputs": []
    },
    {
      "cell_type": "code",
      "metadata": {
        "id": "eov9SkyzbJNC",
        "outputId": "41b4d2a5-2885-41a3-9f8d-be3c9dd204a6",
        "colab": {
          "base_uri": "https://localhost:8080/"
        }
      },
      "source": [
        "a = 3\n",
        "\n",
        "if(a > 0):\n",
        "  print(\"a > 0\")\n",
        "elif(a==3):\n",
        "  print(\"a==3\")\n",
        "else:\n",
        "  print(\"N.D.A.\")"
      ],
      "execution_count": 8,
      "outputs": [
        {
          "output_type": "stream",
          "text": [
            "a > 0\n"
          ],
          "name": "stdout"
        }
      ]
    },
    {
      "cell_type": "code",
      "metadata": {
        "id": "_9OUPln-a38z",
        "outputId": "0d3ca29a-82ba-4434-9419-c706a199ffbb",
        "colab": {
          "base_uri": "https://localhost:8080/"
        }
      },
      "source": [
        "a = list(range(10))\n",
        "\n",
        "if(3 in a):\n",
        "  print(f\"3 está em {a}\")\n",
        "else:\n",
        "  print(\"falso\")"
      ],
      "execution_count": 3,
      "outputs": [
        {
          "output_type": "stream",
          "text": [
            "3 está em [0, 1, 2, 3, 4, 5, 6, 7, 8, 9]\n"
          ],
          "name": "stdout"
        }
      ]
    },
    {
      "cell_type": "code",
      "metadata": {
        "id": "i-6EvdrGc3cH",
        "outputId": "892122f2-c6dd-466e-e708-eb9a38dda458",
        "colab": {
          "base_uri": "https://localhost:8080/"
        }
      },
      "source": [
        "# inline if-else\n",
        "a if a<10 else b"
      ],
      "execution_count": 9,
      "outputs": [
        {
          "output_type": "execute_result",
          "data": {
            "text/plain": [
              "3"
            ]
          },
          "metadata": {
            "tags": []
          },
          "execution_count": 9
        }
      ]
    },
    {
      "cell_type": "markdown",
      "metadata": {
        "id": "v_gRiv5qbZXk"
      },
      "source": [
        "## Loops\n",
        "\n",
        "Documentação neste [link](https://docs.python.org/3/tutorial/controlflow.html#for-statements)\n",
        "\n",
        "Os seguintes tipos de loops existem em python:\n",
        "* for\n",
        "* while\n",
        "\n",
        "A estrutura de ambos é:\n",
        "* `for`: for(something in expression) - do something\n",
        "* `while`: while(condition) - do something"
      ]
    },
    {
      "cell_type": "code",
      "metadata": {
        "id": "Kw-bfURprtKK",
        "outputId": "ede9f4c1-d888-4789-f20e-ae5cee7926e3",
        "colab": {
          "base_uri": "https://localhost:8080/"
        }
      },
      "source": [
        "for i in range(10):\n",
        "    print(i)"
      ],
      "execution_count": 5,
      "outputs": [
        {
          "output_type": "stream",
          "text": [
            "0\n",
            "1\n",
            "2\n",
            "3\n",
            "4\n",
            "5\n",
            "6\n",
            "7\n",
            "8\n",
            "9\n"
          ],
          "name": "stdout"
        }
      ]
    },
    {
      "cell_type": "code",
      "metadata": {
        "id": "As3K2YZ-f1E5",
        "outputId": "bed2837d-eb81-4780-fc7e-46fff316426c",
        "colab": {
          "base_uri": "https://localhost:8080/"
        }
      },
      "source": [
        "lista = ['banana','acabate','melancia','abacaxi']\n",
        "for elemento in lista:\n",
        "    print(elemento)"
      ],
      "execution_count": null,
      "outputs": [
        {
          "output_type": "stream",
          "text": [
            "banana\n",
            "acabate\n",
            "melancia\n",
            "abacaxi\n"
          ],
          "name": "stdout"
        }
      ]
    },
    {
      "cell_type": "code",
      "metadata": {
        "id": "boslPm6igARE",
        "outputId": "4022057b-203d-47e6-bf67-a87895ae6b3d",
        "colab": {
          "base_uri": "https://localhost:8080/"
        }
      },
      "source": [
        "a, b = 0, 10\n",
        "while(a < b):\n",
        "  a += 1\n",
        "  print(a)"
      ],
      "execution_count": 6,
      "outputs": [
        {
          "output_type": "stream",
          "text": [
            "1\n",
            "2\n",
            "3\n",
            "4\n",
            "5\n",
            "6\n",
            "7\n",
            "8\n",
            "9\n",
            "10\n"
          ],
          "name": "stdout"
        }
      ]
    },
    {
      "cell_type": "code",
      "metadata": {
        "id": "EcYQYDTpdInA",
        "outputId": "fc44a7cc-025f-4d29-e9a4-581582838151",
        "colab": {
          "base_uri": "https://localhost:8080/"
        }
      },
      "source": [
        "\"\"\"Fibonacci até 100.\"\"\"\n",
        "a, b = 0, 1\n",
        "while a < 100:\n",
        "  print(a, end=' ')\n",
        "  a, b = b, a+b\n",
        "\n",
        "print(f\"{a} {b}\")\n"
      ],
      "execution_count": 11,
      "outputs": [
        {
          "output_type": "stream",
          "text": [
            "0 1 1 2 3 5 8 13 21 34 55 89 144 233\n"
          ],
          "name": "stdout"
        }
      ]
    },
    {
      "cell_type": "markdown",
      "metadata": {
        "id": "IryO8KVYdyGQ"
      },
      "source": [
        "### break, pass, continue\n",
        "\n",
        "* `break` - para a execução\n",
        "* `pass` - faz nada\n",
        "* `continue` - pula próxima execução"
      ]
    },
    {
      "cell_type": "code",
      "metadata": {
        "id": "StLOq5JFeCdz",
        "outputId": "2d5c5fb5-b3b4-41f1-913f-74fd716e90a6",
        "colab": {
          "base_uri": "https://localhost:8080/"
        }
      },
      "source": [
        "# break\n",
        "\n",
        "for i in range(10):\n",
        "  print(i)\n",
        "  if i is 3:\n",
        "    print(\"break\")\n",
        "    break\n",
        "    print(\"depois do break\")"
      ],
      "execution_count": 16,
      "outputs": [
        {
          "output_type": "stream",
          "text": [
            "0\n",
            "1\n",
            "2\n",
            "3\n",
            "break\n"
          ],
          "name": "stdout"
        }
      ]
    },
    {
      "cell_type": "code",
      "metadata": {
        "id": "1g4BUKAMeC7-",
        "outputId": "95fa05c5-1b83-4a71-b3f2-a15f7fd53388",
        "colab": {
          "base_uri": "https://localhost:8080/"
        }
      },
      "source": [
        "# pass\n",
        "\n",
        "for i in range(10):\n",
        "  print(i)\n",
        "  if i is 3:\n",
        "    print(\"pass\")\n",
        "    pass\n",
        "    print(\"depois do pass\")"
      ],
      "execution_count": 17,
      "outputs": [
        {
          "output_type": "stream",
          "text": [
            "0\n",
            "1\n",
            "2\n",
            "3\n",
            "pass\n",
            "depois do pass\n",
            "4\n",
            "5\n",
            "6\n",
            "7\n",
            "8\n",
            "9\n"
          ],
          "name": "stdout"
        }
      ]
    },
    {
      "cell_type": "code",
      "metadata": {
        "id": "oDHj07mmeCyV",
        "outputId": "1c30d69c-81e4-402e-c8b3-e75eede16384",
        "colab": {
          "base_uri": "https://localhost:8080/"
        }
      },
      "source": [
        "# continue\n",
        "\n",
        "for i in range(10):\n",
        "  print(i)\n",
        "  if i is 3:\n",
        "    print(\"continue\")\n",
        "    continue\n",
        "    print(\"depois do continue\")"
      ],
      "execution_count": 18,
      "outputs": [
        {
          "output_type": "stream",
          "text": [
            "0\n",
            "1\n",
            "2\n",
            "3\n",
            "continue\n",
            "4\n",
            "5\n",
            "6\n",
            "7\n",
            "8\n",
            "9\n"
          ],
          "name": "stdout"
        }
      ]
    },
    {
      "cell_type": "markdown",
      "metadata": {
        "id": "njIib18hqWUl"
      },
      "source": [
        "## Comprehensions\n",
        "\n",
        "É uma forma mais simplificada de serem criados alguns tipos. Existem comprehensions para:\n",
        "* list - [PEP 202](https://www.python.org/dev/peps/pep-0202/)\n",
        "* dict - [PEP 274](https://www.python.org/dev/peps/pep-0274/)\n",
        "* set - [PEP 530](https://www.python.org/dev/peps/pep-0530/)\n",
        "\n"
      ]
    },
    {
      "cell_type": "code",
      "metadata": {
        "id": "57bZhaEYrWZq",
        "outputId": "edcdbc9b-1c28-4df9-91b0-0584cab28631",
        "colab": {
          "base_uri": "https://localhost:8080/"
        }
      },
      "source": [
        "\"\"\"\n",
        "Para cada x, no range de 1 a 10\n",
        "Eleve x por x\n",
        "\"\"\"\n",
        "\n",
        "[ x**x for x in range(1,11) ]"
      ],
      "execution_count": 19,
      "outputs": [
        {
          "output_type": "execute_result",
          "data": {
            "text/plain": [
              "[1, 4, 27, 256, 3125, 46656, 823543, 16777216, 387420489, 10000000000]"
            ]
          },
          "metadata": {
            "tags": []
          },
          "execution_count": 19
        }
      ]
    },
    {
      "cell_type": "code",
      "metadata": {
        "id": "Y2t9YRBMg_I-",
        "outputId": "f67c4949-6f91-472e-a9dc-225fad9bd268",
        "colab": {
          "base_uri": "https://localhost:8080/"
        }
      },
      "source": [
        "\"\"\"\n",
        "Para cada x, no range de 1 a 10\n",
        "Eleve x por x, APENAS SE número é impar (divisão por 2 dá resto diferente de zero)\n",
        "\"\"\"\n",
        "\n",
        "[ x**x for x in range(1,11) if x%2 !=0 ]"
      ],
      "execution_count": 20,
      "outputs": [
        {
          "output_type": "execute_result",
          "data": {
            "text/plain": [
              "[1, 27, 3125, 823543, 387420489]"
            ]
          },
          "metadata": {
            "tags": []
          },
          "execution_count": 20
        }
      ]
    },
    {
      "cell_type": "code",
      "metadata": {
        "id": "LscwMtBbfPRg",
        "outputId": "dfacb33c-2cc3-4a0c-bb07-0447dd8affea",
        "colab": {
          "base_uri": "https://localhost:8080/"
        }
      },
      "source": [
        "# set comprehensions\n",
        "comp = {x for x in range(1,11) }\n",
        "print(comp)\n",
        "type(comp)"
      ],
      "execution_count": 24,
      "outputs": [
        {
          "output_type": "stream",
          "text": [
            "{1, 2, 3, 4, 5, 6, 7, 8, 9, 10}\n"
          ],
          "name": "stdout"
        },
        {
          "output_type": "execute_result",
          "data": {
            "text/plain": [
              "set"
            ]
          },
          "metadata": {
            "tags": []
          },
          "execution_count": 24
        }
      ]
    },
    {
      "cell_type": "code",
      "metadata": {
        "id": "ByaGiDpGf_8f",
        "outputId": "c670707e-690b-4fb4-9907-563581616b87",
        "colab": {
          "base_uri": "https://localhost:8080/"
        }
      },
      "source": [
        "# dict comprehensions\n",
        "comp = {x: x**x for x in range(1,11)}\n",
        "print(comp)\n",
        "type(comp)"
      ],
      "execution_count": 25,
      "outputs": [
        {
          "output_type": "stream",
          "text": [
            "{1: 1, 2: 4, 3: 27, 4: 256, 5: 3125, 6: 46656, 7: 823543, 8: 16777216, 9: 387420489, 10: 10000000000}\n"
          ],
          "name": "stdout"
        },
        {
          "output_type": "execute_result",
          "data": {
            "text/plain": [
              "dict"
            ]
          },
          "metadata": {
            "tags": []
          },
          "execution_count": 25
        }
      ]
    },
    {
      "cell_type": "markdown",
      "metadata": {
        "id": "Jzdt8lTwg-l0"
      },
      "source": [
        "# Considerações"
      ]
    },
    {
      "cell_type": "code",
      "metadata": {
        "id": "MeWILxoYhC29",
        "outputId": "738d34e6-90c5-4fcb-eba8-6b7dfb72a52a",
        "colab": {
          "base_uri": "https://localhost:8080/"
        }
      },
      "source": [
        "import this"
      ],
      "execution_count": 26,
      "outputs": [
        {
          "output_type": "stream",
          "text": [
            "The Zen of Python, by Tim Peters\n",
            "\n",
            "Beautiful is better than ugly.\n",
            "Explicit is better than implicit.\n",
            "Simple is better than complex.\n",
            "Complex is better than complicated.\n",
            "Flat is better than nested.\n",
            "Sparse is better than dense.\n",
            "Readability counts.\n",
            "Special cases aren't special enough to break the rules.\n",
            "Although practicality beats purity.\n",
            "Errors should never pass silently.\n",
            "Unless explicitly silenced.\n",
            "In the face of ambiguity, refuse the temptation to guess.\n",
            "There should be one-- and preferably only one --obvious way to do it.\n",
            "Although that way may not be obvious at first unless you're Dutch.\n",
            "Now is better than never.\n",
            "Although never is often better than *right* now.\n",
            "If the implementation is hard to explain, it's a bad idea.\n",
            "If the implementation is easy to explain, it may be a good idea.\n",
            "Namespaces are one honking great idea -- let's do more of those!\n"
          ],
          "name": "stdout"
        }
      ]
    }
  ]
}