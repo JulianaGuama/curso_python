{
  "nbformat": 4,
  "nbformat_minor": 0,
  "metadata": {
    "colab": {
      "name": "Copy of Copy of 7_Operadores.ipynb",
      "provenance": [],
      "collapsed_sections": [],
      "toc_visible": true
    },
    "kernelspec": {
      "name": "python3",
      "display_name": "Python 3"
    }
  },
  "cells": [
    {
      "cell_type": "markdown",
      "metadata": {
        "id": "SJqijlfHeN9M"
      },
      "source": [
        "# Curso básico de Python - Tratamento exceções\n",
        "\n",
        "*Esse material pertence às Pyladies-BH*"
      ]
    },
    {
      "cell_type": "code",
      "metadata": {
        "id": "9uMO_eBQp_vR"
      },
      "source": [
        "__author__ = 'Naiara Cerqueira e Juliana Guamá'"
      ],
      "execution_count": null,
      "outputs": []
    },
    {
      "cell_type": "markdown",
      "metadata": {
        "id": "hW9DY_xPqkWA"
      },
      "source": [
        "# Tratamento de exceções\n",
        "\n",
        "Podemos encontrar erros de, por exemplo, sintaxe e erros de lógica, ao programar em python."
      ]
    },
    {
      "cell_type": "code",
      "metadata": {
        "id": "kTqlURruavb5"
      },
      "source": [
        "import math"
      ],
      "execution_count": 6,
      "outputs": []
    },
    {
      "cell_type": "code",
      "metadata": {
        "id": "d6JHPyM8hww0",
        "outputId": "d1760467-ab7c-4c73-bb15-5fa092168d02",
        "colab": {
          "base_uri": "https://localhost:8080/",
          "height": 162
        }
      },
      "source": [
        "math.sqrt(-5)"
      ],
      "execution_count": 5,
      "outputs": [
        {
          "output_type": "error",
          "ename": "ValueError",
          "evalue": "ignored",
          "traceback": [
            "\u001b[0;31m---------------------------------------------------------------------------\u001b[0m",
            "\u001b[0;31mValueError\u001b[0m                                Traceback (most recent call last)",
            "\u001b[0;32m<ipython-input-5-e4b6d02adcc7>\u001b[0m in \u001b[0;36m<module>\u001b[0;34m()\u001b[0m\n\u001b[0;32m----> 1\u001b[0;31m \u001b[0mmath\u001b[0m\u001b[0;34m.\u001b[0m\u001b[0msqrt\u001b[0m\u001b[0;34m(\u001b[0m\u001b[0;34m-\u001b[0m\u001b[0;36m5\u001b[0m\u001b[0;34m)\u001b[0m\u001b[0;34m\u001b[0m\u001b[0;34m\u001b[0m\u001b[0m\n\u001b[0m",
            "\u001b[0;31mValueError\u001b[0m: math domain error"
          ]
        }
      ]
    },
    {
      "cell_type": "code",
      "metadata": {
        "id": "LI6s8POvh1O1",
        "outputId": "f79c01d4-5495-4bd8-8f09-e8d319e2365f",
        "colab": {
          "base_uri": "https://localhost:8080/"
        }
      },
      "source": [
        "# O except roda se ocorre algum erro na área do try\n",
        "\n",
        "x = -25\n",
        "\n",
        "try:\n",
        "    print(math.sqrt(x))\n",
        "except:\n",
        "    print('Não é possível tirar raiz de números negativos')\n"
      ],
      "execution_count": 7,
      "outputs": [
        {
          "output_type": "stream",
          "text": [
            "Não é possível tirar raiz de números negativos\n"
          ],
          "name": "stdout"
        }
      ]
    },
    {
      "cell_type": "markdown",
      "metadata": {
        "id": "lktswK5thmZ2"
      },
      "source": [
        "O tratamento de exceções em Python dá-se por blocos `try-except`. Muitas linguagens usam `try-catch`, que é menos parecido com a forma normal como falamos.\n",
        "Ex:\n",
        "* `try-catch`: \"tente\" pular, \"pegue\" erro de pulo -> não natural\n",
        "* `try-except`: \"tente\" pular, \"exceto\" se der erro de pulo"
      ]
    },
    {
      "cell_type": "code",
      "metadata": {
        "id": "f4LDEtDeiQbH",
        "outputId": "29ac5bd1-d6c0-41d8-bdcf-433f82c571ac",
        "colab": {
          "base_uri": "https://localhost:8080/"
        }
      },
      "source": [
        "# Podemos explicitar os tipos de erros no except \n",
        "\n",
        "x = -25\n",
        "\n",
        "try:\n",
        "    print(math.sqrt(x))\n",
        "except ValueError:\n",
        "    print('Não é possível tirar raiz de números negativos')"
      ],
      "execution_count": 8,
      "outputs": [
        {
          "output_type": "stream",
          "text": [
            "Não é possível tirar raiz de números negativos\n"
          ],
          "name": "stdout"
        }
      ]
    },
    {
      "cell_type": "markdown",
      "metadata": {
        "id": "bPQ1Ox_1iikt"
      },
      "source": [
        "## Built-in exceptions\n",
        "\n",
        "Documentação neste [link](https://docs.python.org/3/library/exceptions.html)\n",
        "\n",
        "* ArithmeticError\n",
        "* BufferError\n",
        "* LookupError\n",
        "* AssertionError\n",
        "* AttributeError\n",
        "* EOFError\n",
        "* FloatingPointError\n",
        "* GeneratorExit\n",
        "* ImportError\n",
        "* ModuleNotFoundError\n",
        "* IndexError\n",
        "* KeyError\n",
        "* KeyboardInterrupt\n",
        "* MemoryError\n",
        "* NameError\n",
        "* NotImplementedError\n",
        "* OSError\n",
        "\n",
        "[etc]..."
      ]
    },
    {
      "cell_type": "code",
      "metadata": {
        "id": "B2aX9_MvisAy",
        "outputId": "1003f799-a962-4ae1-9d91-f06229854839",
        "colab": {
          "base_uri": "https://localhost:8080/",
          "height": 229
        }
      },
      "source": [
        "x = -100\n",
        "y = 0\n",
        "\n",
        "try:\n",
        "    print(x/y)\n",
        "except ValueError:\n",
        "    print('Erro!')"
      ],
      "execution_count": 9,
      "outputs": [
        {
          "output_type": "error",
          "ename": "ZeroDivisionError",
          "evalue": "ignored",
          "traceback": [
            "\u001b[0;31m---------------------------------------------------------------------------\u001b[0m",
            "\u001b[0;31mZeroDivisionError\u001b[0m                         Traceback (most recent call last)",
            "\u001b[0;32m<ipython-input-9-cffadeb55bc9>\u001b[0m in \u001b[0;36m<module>\u001b[0;34m()\u001b[0m\n\u001b[1;32m      3\u001b[0m \u001b[0;34m\u001b[0m\u001b[0m\n\u001b[1;32m      4\u001b[0m \u001b[0;32mtry\u001b[0m\u001b[0;34m:\u001b[0m\u001b[0;34m\u001b[0m\u001b[0;34m\u001b[0m\u001b[0m\n\u001b[0;32m----> 5\u001b[0;31m     \u001b[0mprint\u001b[0m\u001b[0;34m(\u001b[0m\u001b[0mx\u001b[0m\u001b[0;34m/\u001b[0m\u001b[0my\u001b[0m\u001b[0;34m)\u001b[0m\u001b[0;34m\u001b[0m\u001b[0;34m\u001b[0m\u001b[0m\n\u001b[0m\u001b[1;32m      6\u001b[0m \u001b[0;32mexcept\u001b[0m \u001b[0mValueError\u001b[0m\u001b[0;34m:\u001b[0m\u001b[0;34m\u001b[0m\u001b[0;34m\u001b[0m\u001b[0m\n\u001b[1;32m      7\u001b[0m     \u001b[0mprint\u001b[0m\u001b[0;34m(\u001b[0m\u001b[0;34m'Erro!'\u001b[0m\u001b[0;34m)\u001b[0m\u001b[0;34m\u001b[0m\u001b[0;34m\u001b[0m\u001b[0m\n",
            "\u001b[0;31mZeroDivisionError\u001b[0m: division by zero"
          ]
        }
      ]
    },
    {
      "cell_type": "code",
      "metadata": {
        "id": "_nHigY-Yi0EL",
        "outputId": "394e6e44-8a14-42a3-fe3e-0dd0c269e975",
        "colab": {
          "base_uri": "https://localhost:8080/"
        }
      },
      "source": [
        "\"\"\"\n",
        "Só aparece a mensagem da divisão por zero pois assim que ele começa a rodar o try, \n",
        "já encontra esse erro, e nem roda o restante do try\n",
        "\"\"\"\n",
        "\n",
        "x = -100\n",
        "y = 0\n",
        "\n",
        "try:\n",
        "    print(x/y)\n",
        "    print(sqrt(x))\n",
        "except ValueError:\n",
        "    print('Não pode tirar raiz de número negativo!')\n",
        "except ZeroDivisionError:\n",
        "    print('Não pode dividir por zero!')"
      ],
      "execution_count": null,
      "outputs": [
        {
          "output_type": "stream",
          "text": [
            "Não pode dividir por zero!\n"
          ],
          "name": "stdout"
        }
      ]
    },
    {
      "cell_type": "code",
      "metadata": {
        "id": "2dSNPnQ-jK6z",
        "outputId": "315bea47-0524-479e-845e-9ed51b9de338",
        "colab": {
          "base_uri": "https://localhost:8080/"
        }
      },
      "source": [
        "\"\"\"\n",
        "Também podemos pegar erros e tratá-los sem saber do que se tratam.\n",
        "\"\"\"\n",
        "\n",
        "x = -100\n",
        "y = 0\n",
        "\n",
        "try:\n",
        "    print(x/y)\n",
        "    print(sqrt(x))\n",
        "except ValueError:\n",
        "    print('Não pode tirar raiz de número negativo!')\n",
        "except ImportError:\n",
        "    print('Não pode dividir por zero!')\n",
        "except Exception as e: # recebe a exceção e salva na variável \"e\"\n",
        "    print(f\"ERRO: {e}\")"
      ],
      "execution_count": 11,
      "outputs": [
        {
          "output_type": "stream",
          "text": [
            "ERRO: division by zero\n"
          ],
          "name": "stdout"
        }
      ]
    }
  ]
}