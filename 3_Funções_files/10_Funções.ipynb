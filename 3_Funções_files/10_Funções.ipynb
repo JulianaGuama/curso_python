{
  "nbformat": 4,
  "nbformat_minor": 0,
  "metadata": {
    "colab": {
      "name": "Copy of Notebook 4.ipynb",
      "provenance": [],
      "collapsed_sections": [],
      "toc_visible": true
    },
    "kernelspec": {
      "name": "python3",
      "display_name": "Python 3"
    }
  },
  "cells": [
    {
      "cell_type": "markdown",
      "metadata": {
        "id": "SJqijlfHeN9M"
      },
      "source": [
        "# Curso básico de Python - Funções\n",
        "\n",
        "*Esse material pertence às Pyladies-BH*"
      ]
    },
    {
      "cell_type": "code",
      "metadata": {
        "id": "9uMO_eBQp_vR"
      },
      "source": [
        "__author__ = 'Naiara Cerqueira e Juliana Guamá'"
      ],
      "execution_count": null,
      "outputs": []
    },
    {
      "cell_type": "markdown",
      "metadata": {
        "id": "L9CA0lYWeZfg"
      },
      "source": [
        "É um método importante para organização de código e reutilização em python.\n",
        "\n",
        "PEPs que estão relacionadas:\n",
        "* [PEP8](https://www.python.org/dev/peps/pep-0008/) - Style Guide\n",
        "* [PEP257](https://www.python.org/dev/peps/pep-0257/) - Docstrings\n",
        "* [PEP484](https://www.python.org/dev/peps/pep-0484/) - Type Hints\n",
        "\n",
        "## Convenção de nomenclaturas [PEP8](https://www.python.org/dev/peps/pep-0008/#naming-conventions)\n",
        "\n",
        "Nomes de ~~variáveis~~ funções deverão ser em minúsculo, podendo ser separadas por underscore.\n",
        "\n",
        "```\n",
        "# exemplo 1\n",
        "def Fun(): pass # por convenção está errado\n",
        "def fun(): pass # por convenção está certo\n",
        "\n",
        "\n",
        "# exemplo 2\n",
        "def Fun_1(): pass  # por convenção está errado\n",
        "def fun_1(): pass # por convenção está certo\n",
        "\n",
        "# exemplo 3\n",
        "def Fun1(): pass # por convenção está errado\n",
        "def fun1(): pass # por convenção está certo\n",
        "```\n",
        "Sim, variáveis e funções seguem as mesmas regras de nomenclatura. :)\n"
      ]
    },
    {
      "cell_type": "markdown",
      "metadata": {
        "id": "OoctfvV7otxs"
      },
      "source": [
        "## Convenção de documentação [PEP257](https://www.python.org/dev/peps/pep-0257/)\n",
        "\n",
        "* usa-se 3 aspas duplas, mesmo que o texto a ser documentado tenha pouco conteúdo\n",
        "* começa a documentação com um verbo no infinitivo afirmativo, 3ª pessoa do singular\n",
        "* o conteúdo a documentar não deve repetir o que já foi dito na declaração da função\n",
        "* use type hints"
      ]
    },
    {
      "cell_type": "markdown",
      "metadata": {
        "id": "J235CoaWotma"
      },
      "source": [
        "\n",
        "## Sintaxe de funções\n",
        "\n",
        "```\n",
        "def nome_da_funcao(parametros):\n",
        "    manipulacao\n",
        "    return resultado\n",
        "```"
      ]
    },
    {
      "cell_type": "code",
      "metadata": {
        "id": "4n4sNtyikcXQ"
      },
      "source": [
        "def soma_numeros(a,b,c):\n",
        "    return a+b+c"
      ],
      "execution_count": 1,
      "outputs": []
    },
    {
      "cell_type": "code",
      "metadata": {
        "id": "zxHfBWpukq-X",
        "outputId": "de639f36-fb4c-4ef9-c1f2-a77dd96a9378",
        "colab": {
          "base_uri": "https://localhost:8080/"
        }
      },
      "source": [
        "result = soma_numeros(131240,150504,124981)\n",
        "result"
      ],
      "execution_count": 2,
      "outputs": [
        {
          "output_type": "execute_result",
          "data": {
            "text/plain": [
              "406725"
            ]
          },
          "metadata": {
            "tags": []
          },
          "execution_count": 2
        }
      ]
    },
    {
      "cell_type": "code",
      "metadata": {
        "id": "29aLptIbpAgU",
        "outputId": "0297d754-b9bf-4066-94cd-d18de1f08752",
        "colab": {
          "base_uri": "https://localhost:8080/"
        }
      },
      "source": [
        "# usando type hints\n",
        "def soma_numeros(a: int, b: int, c: int):\n",
        "    return a+b+c\n",
        "\n",
        "soma_numeros(131240,150504,124981)"
      ],
      "execution_count": 11,
      "outputs": [
        {
          "output_type": "execute_result",
          "data": {
            "text/plain": [
              "406725"
            ]
          },
          "metadata": {
            "tags": []
          },
          "execution_count": 11
        }
      ]
    },
    {
      "cell_type": "code",
      "metadata": {
        "id": "UeCIukPupoas"
      },
      "source": [
        "soma_numeros.__doc__"
      ],
      "execution_count": 12,
      "outputs": []
    },
    {
      "cell_type": "code",
      "metadata": {
        "id": "-lP92ORBpKsb",
        "outputId": "ca96752e-5195-4b32-e77a-e07c4602414d",
        "colab": {
          "base_uri": "https://localhost:8080/"
        }
      },
      "source": [
        "# usando type hints + docstrings\n",
        "def soma_numeros(a: int, b: int, c: int):\n",
        "    \"\"\"Soma números inteiros\"\"\"\n",
        "    return a+b+c\n",
        "\n",
        "soma_numeros(131240,150504,124981)"
      ],
      "execution_count": 13,
      "outputs": [
        {
          "output_type": "execute_result",
          "data": {
            "text/plain": [
              "406725"
            ]
          },
          "metadata": {
            "tags": []
          },
          "execution_count": 13
        }
      ]
    },
    {
      "cell_type": "code",
      "metadata": {
        "id": "scN2oE2cphDs",
        "outputId": "fc8df8d8-b231-497c-9b84-908865ac4e7a",
        "colab": {
          "base_uri": "https://localhost:8080/",
          "height": 35
        }
      },
      "source": [
        "soma_numeros.__doc__"
      ],
      "execution_count": 14,
      "outputs": [
        {
          "output_type": "execute_result",
          "data": {
            "application/vnd.google.colaboratory.intrinsic+json": {
              "type": "string"
            },
            "text/plain": [
              "'Soma números inteiros'"
            ]
          },
          "metadata": {
            "tags": []
          },
          "execution_count": 14
        }
      ]
    },
    {
      "cell_type": "code",
      "metadata": {
        "id": "hEoZXhw9KJ_C"
      },
      "source": [
        "def verifica_par(x):\n",
        "    if x % 2 == 0:\n",
        "        print(\"é par!\")\n",
        "    else:\n",
        "        print(\"é impar!\")"
      ],
      "execution_count": null,
      "outputs": []
    },
    {
      "cell_type": "code",
      "metadata": {
        "id": "4tjiv9V4KXa-",
        "outputId": "974d5f20-c8a3-450f-b70c-df2df5a346a5",
        "colab": {
          "base_uri": "https://localhost:8080/"
        }
      },
      "source": [
        "verifica_par(3812904810982)"
      ],
      "execution_count": null,
      "outputs": [
        {
          "output_type": "stream",
          "text": [
            "é par!\n"
          ],
          "name": "stdout"
        }
      ]
    },
    {
      "cell_type": "markdown",
      "metadata": {
        "id": "aSl7pUYtqnTA"
      },
      "source": [
        "A função só tem conhecimento do que está dentro do escopo de conhecimento dela. Ou seja, se houver variável global ou interna, a função irá entender, fora isso a função não irá reconhecer.\n"
      ]
    },
    {
      "cell_type": "code",
      "metadata": {
        "id": "xHuONkVfqeDh",
        "outputId": "61c85fd7-2ce0-492c-ec0e-649c61a2c91d",
        "colab": {
          "base_uri": "https://localhost:8080/"
        }
      },
      "source": [
        "mensagem = \"Variável externa\"\n",
        "def imprimir_nivel1():\n",
        "  #print(f\"entrada nivel 1: {mensagem}\")\n",
        "  mensagem = \"Variável nível 1\"\n",
        "  \n",
        "  def imprimir_nivel2():\n",
        "    #print(f\"entrada nivel 2: {mensagem}\")\n",
        "    mensagem = \"Variável nível 2\"\n",
        "    print(f\"saida nivel 2: {mensagem}\")\n",
        "  \n",
        "  imprimir_nivel2()\n",
        "  print(f\"saida nivel 1: {mensagem}\")\n",
        "\n",
        "\n",
        "# agoras sim, vamos imprimir\n",
        "imprimir_nivel1()"
      ],
      "execution_count": 25,
      "outputs": [
        {
          "output_type": "stream",
          "text": [
            "saida nivel 2: Variável nível 2\n",
            "saida nivel 1: Variável nível 1\n"
          ],
          "name": "stdout"
        }
      ]
    },
    {
      "cell_type": "markdown",
      "metadata": {
        "id": "YM4MYeyCLtCQ"
      },
      "source": [
        "# Funções lambda\n",
        "\n",
        "Também chamadas de anônimas, são funções constituídas de uma única instrução e cujo resultado é o valor de retorno"
      ]
    },
    {
      "cell_type": "code",
      "metadata": {
        "id": "thUyrMUWLwB9"
      },
      "source": [
        "def funcao_curta(x):\n",
        "    return x ** 2"
      ],
      "execution_count": null,
      "outputs": []
    },
    {
      "cell_type": "code",
      "metadata": {
        "id": "z5rOEt9WL-yo"
      },
      "source": [
        "# Pode ser escrita como lambda:\n",
        "funcao = lambda x: x ** 2"
      ],
      "execution_count": null,
      "outputs": []
    },
    {
      "cell_type": "code",
      "metadata": {
        "id": "mtB-2hrlMeUz",
        "outputId": "9c7fb946-ef06-4648-c065-705174a080a3",
        "colab": {
          "base_uri": "https://localhost:8080/"
        }
      },
      "source": [
        "lista = [1,2,3,4,5]\n",
        "\n",
        "for x in lista:\n",
        "    print(funcao(x))"
      ],
      "execution_count": null,
      "outputs": [
        {
          "output_type": "stream",
          "text": [
            "1\n",
            "4\n",
            "9\n",
            "16\n",
            "25\n"
          ],
          "name": "stdout"
        }
      ]
    },
    {
      "cell_type": "markdown",
      "metadata": {
        "id": "V7Xt9Q3sp_Dx"
      },
      "source": [
        "Observação importante!!!"
      ]
    },
    {
      "cell_type": "code",
      "metadata": {
        "id": "9NwKC0qUp6N9",
        "outputId": "8b187ef1-5388-4dbd-eec1-93d3d89eb4d9",
        "colab": {
          "base_uri": "https://localhost:8080/"
        }
      },
      "source": [
        "import this"
      ],
      "execution_count": 15,
      "outputs": [
        {
          "output_type": "stream",
          "text": [
            "The Zen of Python, by Tim Peters\n",
            "\n",
            "Beautiful is better than ugly.\n",
            "Explicit is better than implicit.\n",
            "Simple is better than complex.\n",
            "Complex is better than complicated.\n",
            "Flat is better than nested.\n",
            "Sparse is better than dense.\n",
            "Readability counts.\n",
            "Special cases aren't special enough to break the rules.\n",
            "Although practicality beats purity.\n",
            "Errors should never pass silently.\n",
            "Unless explicitly silenced.\n",
            "In the face of ambiguity, refuse the temptation to guess.\n",
            "There should be one-- and preferably only one --obvious way to do it.\n",
            "Although that way may not be obvious at first unless you're Dutch.\n",
            "Now is better than never.\n",
            "Although never is often better than *right* now.\n",
            "If the implementation is hard to explain, it's a bad idea.\n",
            "If the implementation is easy to explain, it may be a good idea.\n",
            "Namespaces are one honking great idea -- let's do more of those!\n"
          ],
          "name": "stdout"
        }
      ]
    }
  ]
}