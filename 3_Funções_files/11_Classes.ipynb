{
  "nbformat": 4,
  "nbformat_minor": 0,
  "metadata": {
    "colab": {
      "name": "Copy of Notebook 4.ipynb",
      "provenance": [],
      "collapsed_sections": [],
      "toc_visible": true
    },
    "kernelspec": {
      "name": "python3",
      "display_name": "Python 3"
    }
  },
  "cells": [
    {
      "cell_type": "markdown",
      "metadata": {
        "id": "SJqijlfHeN9M"
      },
      "source": [
        "# Curso básico de Python - Classes\n",
        "\n",
        "*Esse material pertence às Pyladies-BH*"
      ]
    },
    {
      "cell_type": "code",
      "metadata": {
        "id": "9uMO_eBQp_vR"
      },
      "source": [
        "__author__ = 'Naiara Cerqueira e Juliana Guamá'"
      ],
      "execution_count": null,
      "outputs": []
    },
    {
      "cell_type": "markdown",
      "metadata": {
        "id": "QpslOJmRkDiD"
      },
      "source": [
        "## Classes\n",
        "\n",
        "Também é método importante para organização de código e reutilização em python. Auxilia a usar o paradigma de Orientação à Objetos em Python.\n",
        "\n",
        "PEPs que estão relacionadas:\n",
        "* [PEP8](https://www.python.org/dev/peps/pep-0008/) - Style Guide\n",
        "* [PEP257](https://www.python.org/dev/peps/pep-0257/) - Docstrings\n",
        "* [PEP484](https://www.python.org/dev/peps/pep-0484/) - Type Hints\n",
        "\n",
        "## Convenção de nomenclaturas [PEP8](https://www.python.org/dev/peps/pep-0008/#naming-conventions)\n",
        "\n",
        "Nomes de classes deverão ser ter a primeira letra de cada nome em maiúsculo e não se usa separação.\n",
        "\n",
        "```\n",
        "# exemplo 1\n",
        "class Fun(): pass # por convenção está certo\n",
        "class fun(): pass # por convenção está errado\n",
        "\n",
        "\n",
        "# exemplo 2\n",
        "class Fun_1(): pass  # por convenção está errado\n",
        "class fun_1(): pass # por convenção está errado\n",
        "\n",
        "# exemplo 3\n",
        "class Fun1(): pass # por convenção está certo\n",
        "class fun1(): pass # por convenção está errado\n",
        "```"
      ]
    },
    {
      "cell_type": "markdown",
      "metadata": {
        "id": "EUkdTFN0tdpj"
      },
      "source": [
        "## Convenção de documentação [PEP257](https://www.python.org/dev/peps/pep-0257/)\n",
        "\n",
        "* usa-se 3 aspas duplas, mesmo que o texto a ser documentado tenha pouco conteúdo\n",
        "* é a primeira informação logo em seguida à declaração da classe\n",
        "* começa a documentação com um verbo no infinitivo afirmativo, 3ª pessoa do singular\n",
        "* o conteúdo a documentar não deve repetir o que já foi dito na declaração da classe\n",
        "* use type hints nos métodos da classe\n",
        "* use docstrings (documentação) nos métodos da classe"
      ]
    },
    {
      "cell_type": "code",
      "metadata": {
        "id": "BdGZatoWj9EY"
      },
      "source": [
        "# Criando uma classe muito muito simples\n",
        "class MyClass:\n",
        "  x = 5"
      ],
      "execution_count": null,
      "outputs": []
    },
    {
      "cell_type": "code",
      "metadata": {
        "id": "HACEvvezQ81h",
        "outputId": "d1d6b2c4-78ef-4f2d-c65d-fc07e57978b9",
        "colab": {
          "base_uri": "https://localhost:8080/"
        }
      },
      "source": [
        "MyClass.x"
      ],
      "execution_count": null,
      "outputs": [
        {
          "output_type": "execute_result",
          "data": {
            "text/plain": [
              "5"
            ]
          },
          "metadata": {
            "tags": []
          },
          "execution_count": 18
        }
      ]
    },
    {
      "cell_type": "code",
      "metadata": {
        "id": "ctLggXzcQ-my",
        "outputId": "b986615f-b6e8-4aa6-cb7c-81b313b14b44",
        "colab": {
          "base_uri": "https://localhost:8080/"
        }
      },
      "source": [
        "# Ou cria objeto\n",
        "numero = MyClass()\n",
        "\n",
        "numero.x"
      ],
      "execution_count": null,
      "outputs": [
        {
          "output_type": "execute_result",
          "data": {
            "text/plain": [
              "5"
            ]
          },
          "metadata": {
            "tags": []
          },
          "execution_count": 19
        }
      ]
    },
    {
      "cell_type": "code",
      "metadata": {
        "id": "6UT5MvWfRLZ0"
      },
      "source": [
        "class Person:\n",
        "    def __init__(self, name: str, sobrenome: str):\n",
        "        self.name = name\n",
        "        self.sobrenome = sobrenome"
      ],
      "execution_count": 18,
      "outputs": []
    },
    {
      "cell_type": "code",
      "metadata": {
        "id": "N4DfBVgnRRZZ"
      },
      "source": [
        "p1 = Person(\"Juliana\", \"Guamá\")\n",
        "p2 = Person(\"Naiara\", \"Cerqueira\")"
      ],
      "execution_count": 19,
      "outputs": []
    },
    {
      "cell_type": "code",
      "metadata": {
        "id": "ddbQA0IMRXL1",
        "outputId": "28e60337-edc5-4527-8031-95f59b217f66",
        "colab": {
          "base_uri": "https://localhost:8080/"
        }
      },
      "source": [
        "print(p1.name)\n",
        "print(p1.sobrenome)"
      ],
      "execution_count": 20,
      "outputs": [
        {
          "output_type": "stream",
          "text": [
            "Juliana\n",
            "Guamá\n"
          ],
          "name": "stdout"
        }
      ]
    },
    {
      "cell_type": "code",
      "metadata": {
        "id": "MUgZOSDyRY1W",
        "outputId": "1b174160-1595-4a72-8c1d-a32faf14f4a1",
        "colab": {
          "base_uri": "https://localhost:8080/"
        }
      },
      "source": [
        "print(p2.name)\n",
        "print(p2.sobrenome)"
      ],
      "execution_count": 21,
      "outputs": [
        {
          "output_type": "stream",
          "text": [
            "Naiara\n",
            "Cerqueira\n"
          ],
          "name": "stdout"
        }
      ]
    },
    {
      "cell_type": "code",
      "metadata": {
        "id": "X6g4N4ZhZyKN"
      },
      "source": [
        "# Uma classe com método\n",
        "class Person:\n",
        "  def __init__(self, name: str, sobrenome: str):\n",
        "    self.name = name\n",
        "    self.sobrenome = sobrenome\n",
        "\n",
        "  def myfunc(self):\n",
        "    print(\"Boa noite, meu nome é \" + self.name)"
      ],
      "execution_count": 22,
      "outputs": []
    },
    {
      "cell_type": "code",
      "metadata": {
        "id": "2Hxhk5swaDWf",
        "outputId": "e5183bcd-f5ba-4bac-8d77-1898acfa9b1c",
        "colab": {
          "base_uri": "https://localhost:8080/"
        }
      },
      "source": [
        "p1 = Person(\"Naiara\", \"Cerqueira\")\n",
        "p1.myfunc()"
      ],
      "execution_count": 23,
      "outputs": [
        {
          "output_type": "stream",
          "text": [
            "Boa noite, meu nome é Naiara\n"
          ],
          "name": "stdout"
        }
      ]
    },
    {
      "cell_type": "markdown",
      "metadata": {
        "id": "wAqs-otSuFMA"
      },
      "source": [
        "## Decorators\n",
        "\n",
        "Podemos usar decoradores nos métodos das classes para mudar o comportamento. Veja mais na [PEP 318](https://www.python.org/dev/peps/pep-0318/)\n"
      ]
    },
    {
      "cell_type": "markdown",
      "metadata": {
        "id": "d8ZbOibZviHt"
      },
      "source": [
        "### @classmethod"
      ]
    },
    {
      "cell_type": "code",
      "metadata": {
        "id": "tnvUIseNubqr"
      },
      "source": [
        "class Person:\n",
        "  def __init__(self, name: str, sobrenome: str):\n",
        "    self.name = name\n",
        "    self.sobrenome = sobrenome\n",
        "\n",
        "  def myfunc(self):\n",
        "    print(\"Boa noite, meu nome é \" + self.name)"
      ],
      "execution_count": 24,
      "outputs": []
    },
    {
      "cell_type": "code",
      "metadata": {
        "id": "60UlyvkquimW",
        "outputId": "d5b993d2-c9c3-4dde-efd1-5484b2e10f00",
        "colab": {
          "base_uri": "https://localhost:8080/",
          "height": 162
        }
      },
      "source": [
        "Person.myfunc()"
      ],
      "execution_count": 25,
      "outputs": [
        {
          "output_type": "error",
          "ename": "TypeError",
          "evalue": "ignored",
          "traceback": [
            "\u001b[0;31m---------------------------------------------------------------------------\u001b[0m",
            "\u001b[0;31mTypeError\u001b[0m                                 Traceback (most recent call last)",
            "\u001b[0;32m<ipython-input-25-5a2048746c2b>\u001b[0m in \u001b[0;36m<module>\u001b[0;34m()\u001b[0m\n\u001b[0;32m----> 1\u001b[0;31m \u001b[0mPerson\u001b[0m\u001b[0;34m.\u001b[0m\u001b[0mmyfunc\u001b[0m\u001b[0;34m(\u001b[0m\u001b[0;34m)\u001b[0m\u001b[0;34m\u001b[0m\u001b[0;34m\u001b[0m\u001b[0m\n\u001b[0m",
            "\u001b[0;31mTypeError\u001b[0m: myfunc() missing 1 required positional argument: 'self'"
          ]
        }
      ]
    },
    {
      "cell_type": "code",
      "metadata": {
        "id": "GEla7v0Suxi_"
      },
      "source": [
        "class Person:\n",
        "  def __init__(self, name: str, sobrenome: str):\n",
        "    self.name = name\n",
        "    self.sobrenome = sobrenome\n",
        "\n",
        "  @classmethod\n",
        "  def myfunc(cls):\n",
        "    print(\"Boa noite, meu nome é \" + cls.name)"
      ],
      "execution_count": 26,
      "outputs": []
    },
    {
      "cell_type": "code",
      "metadata": {
        "id": "Q2NENNq-vB6m",
        "outputId": "a96fb516-bcbf-47d5-cdb6-5f9475578efe",
        "colab": {
          "base_uri": "https://localhost:8080/",
          "height": 246
        }
      },
      "source": [
        "Person.myfunc()"
      ],
      "execution_count": 27,
      "outputs": [
        {
          "output_type": "error",
          "ename": "AttributeError",
          "evalue": "ignored",
          "traceback": [
            "\u001b[0;31m---------------------------------------------------------------------------\u001b[0m",
            "\u001b[0;31mAttributeError\u001b[0m                            Traceback (most recent call last)",
            "\u001b[0;32m<ipython-input-27-5a2048746c2b>\u001b[0m in \u001b[0;36m<module>\u001b[0;34m()\u001b[0m\n\u001b[0;32m----> 1\u001b[0;31m \u001b[0mPerson\u001b[0m\u001b[0;34m.\u001b[0m\u001b[0mmyfunc\u001b[0m\u001b[0;34m(\u001b[0m\u001b[0;34m)\u001b[0m\u001b[0;34m\u001b[0m\u001b[0;34m\u001b[0m\u001b[0m\n\u001b[0m",
            "\u001b[0;32m<ipython-input-26-a5f248f091a5>\u001b[0m in \u001b[0;36mmyfunc\u001b[0;34m(cls)\u001b[0m\n\u001b[1;32m      6\u001b[0m   \u001b[0;34m@\u001b[0m\u001b[0mclassmethod\u001b[0m\u001b[0;34m\u001b[0m\u001b[0;34m\u001b[0m\u001b[0m\n\u001b[1;32m      7\u001b[0m   \u001b[0;32mdef\u001b[0m \u001b[0mmyfunc\u001b[0m\u001b[0;34m(\u001b[0m\u001b[0mcls\u001b[0m\u001b[0;34m)\u001b[0m\u001b[0;34m:\u001b[0m\u001b[0;34m\u001b[0m\u001b[0;34m\u001b[0m\u001b[0m\n\u001b[0;32m----> 8\u001b[0;31m     \u001b[0mprint\u001b[0m\u001b[0;34m(\u001b[0m\u001b[0;34m\"Boa noite, meu nome é \"\u001b[0m \u001b[0;34m+\u001b[0m \u001b[0mcls\u001b[0m\u001b[0;34m.\u001b[0m\u001b[0mname\u001b[0m\u001b[0;34m)\u001b[0m\u001b[0;34m\u001b[0m\u001b[0;34m\u001b[0m\u001b[0m\n\u001b[0m",
            "\u001b[0;31mAttributeError\u001b[0m: type object 'Person' has no attribute 'name'"
          ]
        }
      ]
    },
    {
      "cell_type": "code",
      "metadata": {
        "id": "Ohvn0J05vJMF"
      },
      "source": [
        "class Person:\n",
        "  name = \"empty\"\n",
        "  age = \"nothing\"\n",
        "  def __init__(self, name: str, sobrenome: str):\n",
        "    self.name = name\n",
        "    self.sobrenome = sobrenome\n",
        "\n",
        "  @classmethod\n",
        "  def myfunc(cls):\n",
        "    print(\"Boa noite, meu nome é \" + cls.name)"
      ],
      "execution_count": 28,
      "outputs": []
    },
    {
      "cell_type": "code",
      "metadata": {
        "id": "ePgU8A4lvOSA",
        "outputId": "baaed11c-3a09-45d5-e804-063743dee35f",
        "colab": {
          "base_uri": "https://localhost:8080/"
        }
      },
      "source": [
        "Person.myfunc()"
      ],
      "execution_count": 29,
      "outputs": [
        {
          "output_type": "stream",
          "text": [
            "Boa noite, meu nome é empty\n"
          ],
          "name": "stdout"
        }
      ]
    },
    {
      "cell_type": "code",
      "metadata": {
        "id": "lKo0o0ZAvSDT",
        "outputId": "15ee7803-bfc6-423d-fbfe-f3e2c6258c6c",
        "colab": {
          "base_uri": "https://localhost:8080/"
        }
      },
      "source": [
        "p = Person(\"Juliana\", \"Guamá\")\n",
        "p.myfunc()"
      ],
      "execution_count": 31,
      "outputs": [
        {
          "output_type": "stream",
          "text": [
            "Boa noite, meu nome é empty\n"
          ],
          "name": "stdout"
        }
      ]
    },
    {
      "cell_type": "markdown",
      "metadata": {
        "id": "Yu6Lq1LPvlDC"
      },
      "source": [
        "### @staticmethod"
      ]
    },
    {
      "cell_type": "code",
      "metadata": {
        "id": "j5xw5v8WvmuR"
      },
      "source": [
        "class Person:\n",
        "  def __init__(self, name: str, sobrenome: str):\n",
        "    self.name = name\n",
        "    self.sobrenome = sobrenome\n",
        "\n",
        "  @staticmethod\n",
        "  def myfunc(name: str):\n",
        "    print(\"Boa noite, meu nome é \" + name)"
      ],
      "execution_count": 32,
      "outputs": []
    },
    {
      "cell_type": "code",
      "metadata": {
        "id": "FTqEWZ-CvuNG",
        "outputId": "3e837d0f-883a-45d1-a90f-3ced2b20acde",
        "colab": {
          "base_uri": "https://localhost:8080/",
          "height": 162
        }
      },
      "source": [
        "Person.myfunc()"
      ],
      "execution_count": 33,
      "outputs": [
        {
          "output_type": "error",
          "ename": "TypeError",
          "evalue": "ignored",
          "traceback": [
            "\u001b[0;31m---------------------------------------------------------------------------\u001b[0m",
            "\u001b[0;31mTypeError\u001b[0m                                 Traceback (most recent call last)",
            "\u001b[0;32m<ipython-input-33-5a2048746c2b>\u001b[0m in \u001b[0;36m<module>\u001b[0;34m()\u001b[0m\n\u001b[0;32m----> 1\u001b[0;31m \u001b[0mPerson\u001b[0m\u001b[0;34m.\u001b[0m\u001b[0mmyfunc\u001b[0m\u001b[0;34m(\u001b[0m\u001b[0;34m)\u001b[0m\u001b[0;34m\u001b[0m\u001b[0;34m\u001b[0m\u001b[0m\n\u001b[0m",
            "\u001b[0;31mTypeError\u001b[0m: myfunc() missing 1 required positional argument: 'name'"
          ]
        }
      ]
    },
    {
      "cell_type": "code",
      "metadata": {
        "id": "9rg3wS7TvvVO",
        "outputId": "d1032df3-e3fa-484d-ec7a-e52c16c9352c",
        "colab": {
          "base_uri": "https://localhost:8080/",
          "height": 162
        }
      },
      "source": [
        "Person(\"Naiara\", \"Cerqueira\").myfunc()"
      ],
      "execution_count": 35,
      "outputs": [
        {
          "output_type": "error",
          "ename": "TypeError",
          "evalue": "ignored",
          "traceback": [
            "\u001b[0;31m---------------------------------------------------------------------------\u001b[0m",
            "\u001b[0;31mTypeError\u001b[0m                                 Traceback (most recent call last)",
            "\u001b[0;32m<ipython-input-35-025381e45534>\u001b[0m in \u001b[0;36m<module>\u001b[0;34m()\u001b[0m\n\u001b[0;32m----> 1\u001b[0;31m \u001b[0mPerson\u001b[0m\u001b[0;34m(\u001b[0m\u001b[0;34m\"Naiara\"\u001b[0m\u001b[0;34m,\u001b[0m \u001b[0;34m\"Cerqueira\"\u001b[0m\u001b[0;34m)\u001b[0m\u001b[0;34m.\u001b[0m\u001b[0mmyfunc\u001b[0m\u001b[0;34m(\u001b[0m\u001b[0;34m)\u001b[0m\u001b[0;34m\u001b[0m\u001b[0;34m\u001b[0m\u001b[0m\n\u001b[0m",
            "\u001b[0;31mTypeError\u001b[0m: myfunc() missing 1 required positional argument: 'name'"
          ]
        }
      ]
    },
    {
      "cell_type": "code",
      "metadata": {
        "id": "UPLvdfglvzSY",
        "outputId": "53ba1cfe-d076-47cd-a130-dc87cacbb1d6",
        "colab": {
          "base_uri": "https://localhost:8080/"
        }
      },
      "source": [
        "Person.myfunc(\"Naiara\")"
      ],
      "execution_count": 36,
      "outputs": [
        {
          "output_type": "stream",
          "text": [
            "Boa noite, meu nome é Naiara\n"
          ],
          "name": "stdout"
        }
      ]
    },
    {
      "cell_type": "markdown",
      "metadata": {
        "id": "INrsDWh5v2kl"
      },
      "source": [
        "### @propriety\n",
        "\n",
        "É um função built-in que permite a criação de objetos do tipo propriedade. A sintaxe de propriety é:\n",
        "\n",
        "```\n",
        "property(fget=None, fset=None, fdel=None, doc=None)\n",
        "```\n",
        "\n",
        "Para:\n",
        "* `fget` é a função que faz get do atributo\n",
        "* `fset` é a função que faz set do atributo\n",
        "* `fdel` é a função que deleta o atributo\n",
        "* `doc` comentário"
      ]
    },
    {
      "cell_type": "code",
      "metadata": {
        "id": "9-3qA0aKwp-N"
      },
      "source": [
        "class Person:\n",
        "  def __init__(self, name: str, sobrenome: str):\n",
        "    self.name = name\n",
        "    self.sobrenome = sobrenome\n",
        "    self.completo = ' '.join([name, sobrenome])\n",
        "\n",
        "  @property  \n",
        "  def completo(self):\n",
        "    return ' '.join([self.name, self.sobrenome])\n",
        "  \n",
        "  @completo.setter\n",
        "  def completo(self, value):\n",
        "    self._completo = ' '.join([self.name, value])"
      ],
      "execution_count": 52,
      "outputs": []
    },
    {
      "cell_type": "code",
      "metadata": {
        "id": "M7bP0KUZyM-B"
      },
      "source": [
        "p = Person(\"Juliana\", \"Guamá\")"
      ],
      "execution_count": 53,
      "outputs": []
    },
    {
      "cell_type": "code",
      "metadata": {
        "id": "wNIuhD7qyRxh",
        "outputId": "85a8e1c1-84f2-4ded-bb89-43c8b504db43",
        "colab": {
          "base_uri": "https://localhost:8080/"
        }
      },
      "source": [
        "print(p.name)\n",
        "print(p.sobrenome)\n",
        "print(p.completo)"
      ],
      "execution_count": 55,
      "outputs": [
        {
          "output_type": "stream",
          "text": [
            "Juliana\n",
            "Guamá\n",
            "Juliana Guamá\n"
          ],
          "name": "stdout"
        }
      ]
    },
    {
      "cell_type": "code",
      "metadata": {
        "id": "BcJmMifVzWJ3",
        "outputId": "e5e50000-b2ca-40ea-d1d9-215b99395d78",
        "colab": {
          "base_uri": "https://localhost:8080/"
        }
      },
      "source": [
        "p.sobrenome = \"Cerqueira\"\n",
        "\n",
        "print(p.name)\n",
        "print(p.sobrenome)\n",
        "print(p.completo)"
      ],
      "execution_count": 56,
      "outputs": [
        {
          "output_type": "stream",
          "text": [
            "Juliana\n",
            "Cerqueira\n",
            "Juliana Cerqueira\n"
          ],
          "name": "stdout"
        }
      ]
    }
  ]
}