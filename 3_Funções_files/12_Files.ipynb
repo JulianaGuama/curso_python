{
  "nbformat": 4,
  "nbformat_minor": 0,
  "metadata": {
    "colab": {
      "name": "Copy of Copy of Notebook 4.ipynb",
      "provenance": [],
      "collapsed_sections": [],
      "toc_visible": true
    },
    "kernelspec": {
      "name": "python3",
      "display_name": "Python 3"
    }
  },
  "cells": [
    {
      "cell_type": "markdown",
      "metadata": {
        "id": "SJqijlfHeN9M"
      },
      "source": [
        "# Curso básico de Python - Manipulação de Arquivos4\n",
        "\n",
        "*Esse material pertence às Pyladies-BH*"
      ]
    },
    {
      "cell_type": "code",
      "metadata": {
        "id": "9uMO_eBQp_vR"
      },
      "source": [
        "__author__ = 'Naiara Cerqueira e Juliana Guamá'"
      ],
      "execution_count": null,
      "outputs": []
    },
    {
      "cell_type": "markdown",
      "metadata": {
        "id": "w-0HiPqQj-Kz"
      },
      "source": [
        "## Manipulação de arquivos\n",
        "\n",
        "Leia mais sobre manipulação de arquivos nas PEPS:\n",
        "* [PEP 3116](https://www.python.org/dev/peps/pep-3116/) - New I/O\n",
        "* [PEP 343](https://www.python.org/dev/peps/pep-0343/) - The \"with\" Statement\n",
        "\n",
        "A sintaxe da função `open` é:\n",
        "\n",
        "open(file, mode='r', buffering=-1, encoding=None, errors=None, newline=None, closefd=True, opener=None)\n",
        "\n",
        "Em que os `mode` possíveis são:\n",
        "* `r` - leitura\n",
        "* `w` - escrita (sobrescreve o file)\n",
        "* `x` - criação de arquivo (se o arquivo existir, gera exceção)\n",
        "* `a` - acrescentar no arquivo\n",
        "* `b` - modo binário\n",
        "* `t` - modo de texto\n",
        "* `+` - abre para update (leitura e escrita)\n",
        "\n",
        "Acesse a documentação completa da função `open` neste [link](https://docs.python.org/3/library/functions.html#open).\n",
        "\n"
      ]
    },
    {
      "cell_type": "code",
      "metadata": {
        "id": "3PLtIQwWkQp7",
        "outputId": "7755cb52-0576-4ec1-b7b9-a4245e866f56",
        "colab": {
          "base_uri": "https://localhost:8080/"
        }
      },
      "source": [
        "# Para manipular arquivos que estão em alguma pasta do drive, é preciso dar um mount:\n",
        "from google.colab import drive\n",
        "drive.mount('/content/drive')"
      ],
      "execution_count": 80,
      "outputs": [
        {
          "output_type": "stream",
          "text": [
            "Drive already mounted at /content/drive; to attempt to forcibly remount, call drive.mount(\"/content/drive\", force_remount=True).\n"
          ],
          "name": "stdout"
        }
      ]
    },
    {
      "cell_type": "code",
      "metadata": {
        "id": "1xGUvtyFHwH5",
        "outputId": "cdbafe1d-4909-4d34-8090-b9785db74a99",
        "colab": {
          "base_uri": "https://localhost:8080/"
        }
      },
      "source": [
        "!ls \"/content/drive/My Drive/curso_python\""
      ],
      "execution_count": 81,
      "outputs": [
        {
          "output_type": "stream",
          "text": [
            "zen_python  zen_python_append\n"
          ],
          "name": "stdout"
        }
      ]
    },
    {
      "cell_type": "code",
      "metadata": {
        "id": "RPVETbwdHKHY"
      },
      "source": [
        "# Abre no modo somente leitura, por padrão\n",
        "file_path = \"/content/drive/My Drive/curso_python/zen_python\"\n",
        "f = open(file_path)"
      ],
      "execution_count": 82,
      "outputs": []
    },
    {
      "cell_type": "code",
      "metadata": {
        "id": "GvIu-NFELBkA",
        "outputId": "3728e27d-3c4b-4d0c-dac9-1287d0447356",
        "colab": {
          "base_uri": "https://localhost:8080/"
        }
      },
      "source": [
        "# Repare: mode='r'\n",
        "f"
      ],
      "execution_count": 83,
      "outputs": [
        {
          "output_type": "execute_result",
          "data": {
            "text/plain": [
              "<_io.TextIOWrapper name='/content/drive/My Drive/curso_python/zen_python' mode='r' encoding='UTF-8'>"
            ]
          },
          "metadata": {
            "tags": []
          },
          "execution_count": 83
        }
      ]
    },
    {
      "cell_type": "code",
      "metadata": {
        "id": "ugmNn5XzL47-"
      },
      "source": [
        "# Abre no modo leitura e escrita (r+)\n",
        "# o modo 'w' sobrescreve o arquivo original\n",
        "f = open(file_path, 'r')"
      ],
      "execution_count": 87,
      "outputs": []
    },
    {
      "cell_type": "code",
      "metadata": {
        "id": "WJudu-l0J9j2",
        "outputId": "f45c4af6-9ec4-413e-b7da-9a71624efbab",
        "colab": {
          "base_uri": "https://localhost:8080/",
          "height": 136
        }
      },
      "source": [
        "f.read()"
      ],
      "execution_count": 88,
      "outputs": [
        {
          "output_type": "execute_result",
          "data": {
            "application/vnd.google.colaboratory.intrinsic+json": {
              "type": "string"
            },
            "text/plain": [
              "\"The Zen of Python, by Tim Peters\\n\\nBeautiful is better than ugly.\\nExplicit is better than implicit.\\nSimple is better than complex.\\nComplex is better than complicated.\\nFlat is better than nested.\\nSparse is better than dense.\\nReadability counts.\\nSpecial cases aren't special enough to break the rules.\\nAlthough practicality beats purity.\\nErrors should never pass silently.\\nUnless explicitly silenced.\\nIn the face of ambiguity, refuse the temptation to guess.\\nThere should be one-- and preferably only one --obvious way to do it.\\nAlthough that way may not be obvious at first unless you're Dutch.\\nNow is better than never.\\nAlthough never is often better than *right* now.\\nIf the implementation is hard to explain, it's a bad idea.\\nIf the implementation is easy to explain, it may be a good idea.\\nNamespaces are one honking great idea -- let's do more of those!\""
            ]
          },
          "metadata": {
            "tags": []
          },
          "execution_count": 88
        }
      ]
    },
    {
      "cell_type": "code",
      "metadata": {
        "id": "BWhGfma6M9Xb",
        "outputId": "f5faae66-5452-49a6-8124-8b0efbf09ea2",
        "colab": {
          "base_uri": "https://localhost:8080/",
          "height": 35
        }
      },
      "source": [
        "f.close()\n",
        "f = open(file_path, 'r')\n",
        "f.readline()"
      ],
      "execution_count": 89,
      "outputs": [
        {
          "output_type": "execute_result",
          "data": {
            "application/vnd.google.colaboratory.intrinsic+json": {
              "type": "string"
            },
            "text/plain": [
              "'The Zen of Python, by Tim Peters\\n'"
            ]
          },
          "metadata": {
            "tags": []
          },
          "execution_count": 89
        }
      ]
    },
    {
      "cell_type": "code",
      "metadata": {
        "id": "QOcyJYBA2Nwr",
        "outputId": "9bad6d08-55d8-4164-e43e-9013ab4377dc",
        "colab": {
          "base_uri": "https://localhost:8080/"
        }
      },
      "source": [
        "f.close()\n",
        "f = open(file_path, 'r')\n",
        "f.readlines()"
      ],
      "execution_count": 90,
      "outputs": [
        {
          "output_type": "execute_result",
          "data": {
            "text/plain": [
              "['The Zen of Python, by Tim Peters\\n',\n",
              " '\\n',\n",
              " 'Beautiful is better than ugly.\\n',\n",
              " 'Explicit is better than implicit.\\n',\n",
              " 'Simple is better than complex.\\n',\n",
              " 'Complex is better than complicated.\\n',\n",
              " 'Flat is better than nested.\\n',\n",
              " 'Sparse is better than dense.\\n',\n",
              " 'Readability counts.\\n',\n",
              " \"Special cases aren't special enough to break the rules.\\n\",\n",
              " 'Although practicality beats purity.\\n',\n",
              " 'Errors should never pass silently.\\n',\n",
              " 'Unless explicitly silenced.\\n',\n",
              " 'In the face of ambiguity, refuse the temptation to guess.\\n',\n",
              " 'There should be one-- and preferably only one --obvious way to do it.\\n',\n",
              " \"Although that way may not be obvious at first unless you're Dutch.\\n\",\n",
              " 'Now is better than never.\\n',\n",
              " 'Although never is often better than *right* now.\\n',\n",
              " \"If the implementation is hard to explain, it's a bad idea.\\n\",\n",
              " 'If the implementation is easy to explain, it may be a good idea.\\n',\n",
              " \"Namespaces are one honking great idea -- let's do more of those!\"]"
            ]
          },
          "metadata": {
            "tags": []
          },
          "execution_count": 90
        }
      ]
    },
    {
      "cell_type": "code",
      "metadata": {
        "id": "BJ-RBswoMxs2",
        "outputId": "36e52bbd-35f5-45ba-a006-3a6f61b322c1",
        "colab": {
          "base_uri": "https://localhost:8080/"
        }
      },
      "source": [
        "f.close()\n",
        "f = open(file_path, 'r')\n",
        "for line in f:\n",
        "    print(line)"
      ],
      "execution_count": 91,
      "outputs": [
        {
          "output_type": "stream",
          "text": [
            "The Zen of Python, by Tim Peters\n",
            "\n",
            "\n",
            "\n",
            "Beautiful is better than ugly.\n",
            "\n",
            "Explicit is better than implicit.\n",
            "\n",
            "Simple is better than complex.\n",
            "\n",
            "Complex is better than complicated.\n",
            "\n",
            "Flat is better than nested.\n",
            "\n",
            "Sparse is better than dense.\n",
            "\n",
            "Readability counts.\n",
            "\n",
            "Special cases aren't special enough to break the rules.\n",
            "\n",
            "Although practicality beats purity.\n",
            "\n",
            "Errors should never pass silently.\n",
            "\n",
            "Unless explicitly silenced.\n",
            "\n",
            "In the face of ambiguity, refuse the temptation to guess.\n",
            "\n",
            "There should be one-- and preferably only one --obvious way to do it.\n",
            "\n",
            "Although that way may not be obvious at first unless you're Dutch.\n",
            "\n",
            "Now is better than never.\n",
            "\n",
            "Although never is often better than *right* now.\n",
            "\n",
            "If the implementation is hard to explain, it's a bad idea.\n",
            "\n",
            "If the implementation is easy to explain, it may be a good idea.\n",
            "\n",
            "Namespaces are one honking great idea -- let's do more of those!\n"
          ],
          "name": "stdout"
        }
      ]
    },
    {
      "cell_type": "code",
      "metadata": {
        "id": "KNq-wEKCMYGU",
        "outputId": "a4beddf1-d57a-4e4b-bb7f-25a12cb4406c",
        "colab": {
          "base_uri": "https://localhost:8080/"
        }
      },
      "source": [
        "f.close()\n",
        "f = open(file_path+'_append', 'w+')\n",
        "f.write(\"..... The End\")"
      ],
      "execution_count": 94,
      "outputs": [
        {
          "output_type": "execute_result",
          "data": {
            "text/plain": [
              "13"
            ]
          },
          "metadata": {
            "tags": []
          },
          "execution_count": 94
        }
      ]
    },
    {
      "cell_type": "code",
      "metadata": {
        "id": "iSz-tL30McbQ",
        "outputId": "16c5075e-921f-4692-bced-5d97f35ab2ec",
        "colab": {
          "base_uri": "https://localhost:8080/"
        }
      },
      "source": [
        "f.close()\n",
        "f = open(file_path, 'r')\n",
        "f.readlines()"
      ],
      "execution_count": 95,
      "outputs": [
        {
          "output_type": "execute_result",
          "data": {
            "text/plain": [
              "['The Zen of Python, by Tim Peters\\n',\n",
              " '\\n',\n",
              " 'Beautiful is better than ugly.\\n',\n",
              " 'Explicit is better than implicit.\\n',\n",
              " 'Simple is better than complex.\\n',\n",
              " 'Complex is better than complicated.\\n',\n",
              " 'Flat is better than nested.\\n',\n",
              " 'Sparse is better than dense.\\n',\n",
              " 'Readability counts.\\n',\n",
              " \"Special cases aren't special enough to break the rules.\\n\",\n",
              " 'Although practicality beats purity.\\n',\n",
              " 'Errors should never pass silently.\\n',\n",
              " 'Unless explicitly silenced.\\n',\n",
              " 'In the face of ambiguity, refuse the temptation to guess.\\n',\n",
              " 'There should be one-- and preferably only one --obvious way to do it.\\n',\n",
              " \"Although that way may not be obvious at first unless you're Dutch.\\n\",\n",
              " 'Now is better than never.\\n',\n",
              " 'Although never is often better than *right* now.\\n',\n",
              " \"If the implementation is hard to explain, it's a bad idea.\\n\",\n",
              " 'If the implementation is easy to explain, it may be a good idea.\\n',\n",
              " \"Namespaces are one honking great idea -- let's do more of those!\"]"
            ]
          },
          "metadata": {
            "tags": []
          },
          "execution_count": 95
        }
      ]
    },
    {
      "cell_type": "markdown",
      "metadata": {
        "id": "6Oh6d9Xb42E2"
      },
      "source": [
        "## The \"with\" Statement\n",
        "\n"
      ]
    },
    {
      "cell_type": "markdown",
      "metadata": {
        "id": "hGlw25Qv47jL"
      },
      "source": [
        "Para evitar o que estivemos fazendo nos outros blocos que foi abrir e fechar o file, podemos usar o comando `with` para executar operações no file e não precisar pedir para fechar o file depois."
      ]
    },
    {
      "cell_type": "code",
      "metadata": {
        "id": "a9uOu9Pb5LZg",
        "outputId": "ec45ac45-fcca-4ff9-99cb-5ed31de4b6bb",
        "colab": {
          "base_uri": "https://localhost:8080/"
        }
      },
      "source": [
        "# usando with\n",
        "with open(file_path, 'r') as f:\n",
        "  conteudo = f.readlines()\n",
        "conteudo"
      ],
      "execution_count": 100,
      "outputs": [
        {
          "output_type": "execute_result",
          "data": {
            "text/plain": [
              "['The Zen of Python, by Tim Peters\\n',\n",
              " '\\n',\n",
              " 'Beautiful is better than ugly.\\n',\n",
              " 'Explicit is better than implicit.\\n',\n",
              " 'Simple is better than complex.\\n',\n",
              " 'Complex is better than complicated.\\n',\n",
              " 'Flat is better than nested.\\n',\n",
              " 'Sparse is better than dense.\\n',\n",
              " 'Readability counts.\\n',\n",
              " \"Special cases aren't special enough to break the rules.\\n\",\n",
              " 'Although practicality beats purity.\\n',\n",
              " 'Errors should never pass silently.\\n',\n",
              " 'Unless explicitly silenced.\\n',\n",
              " 'In the face of ambiguity, refuse the temptation to guess.\\n',\n",
              " 'There should be one-- and preferably only one --obvious way to do it.\\n',\n",
              " \"Although that way may not be obvious at first unless you're Dutch.\\n\",\n",
              " 'Now is better than never.\\n',\n",
              " 'Although never is often better than *right* now.\\n',\n",
              " \"If the implementation is hard to explain, it's a bad idea.\\n\",\n",
              " 'If the implementation is easy to explain, it may be a good idea.\\n',\n",
              " \"Namespaces are one honking great idea -- let's do more of those!\"]"
            ]
          },
          "metadata": {
            "tags": []
          },
          "execution_count": 100
        }
      ]
    },
    {
      "cell_type": "code",
      "metadata": {
        "id": "nxiuM96f5UeC",
        "outputId": "e929d51f-0177-4cab-f7a0-9b51d0dbe2f3",
        "colab": {
          "base_uri": "https://localhost:8080/"
        }
      },
      "source": [
        "# não usando with\n",
        "f = open(file_path, 'r')\n",
        "conteudo = f.readlines()\n",
        "f.close()\n",
        "conteudo"
      ],
      "execution_count": 101,
      "outputs": [
        {
          "output_type": "execute_result",
          "data": {
            "text/plain": [
              "['The Zen of Python, by Tim Peters\\n',\n",
              " '\\n',\n",
              " 'Beautiful is better than ugly.\\n',\n",
              " 'Explicit is better than implicit.\\n',\n",
              " 'Simple is better than complex.\\n',\n",
              " 'Complex is better than complicated.\\n',\n",
              " 'Flat is better than nested.\\n',\n",
              " 'Sparse is better than dense.\\n',\n",
              " 'Readability counts.\\n',\n",
              " \"Special cases aren't special enough to break the rules.\\n\",\n",
              " 'Although practicality beats purity.\\n',\n",
              " 'Errors should never pass silently.\\n',\n",
              " 'Unless explicitly silenced.\\n',\n",
              " 'In the face of ambiguity, refuse the temptation to guess.\\n',\n",
              " 'There should be one-- and preferably only one --obvious way to do it.\\n',\n",
              " \"Although that way may not be obvious at first unless you're Dutch.\\n\",\n",
              " 'Now is better than never.\\n',\n",
              " 'Although never is often better than *right* now.\\n',\n",
              " \"If the implementation is hard to explain, it's a bad idea.\\n\",\n",
              " 'If the implementation is easy to explain, it may be a good idea.\\n',\n",
              " \"Namespaces are one honking great idea -- let's do more of those!\"]"
            ]
          },
          "metadata": {
            "tags": []
          },
          "execution_count": 101
        }
      ]
    },
    {
      "cell_type": "code",
      "metadata": {
        "id": "K0pTTCKc5YGq"
      },
      "source": [
        ""
      ],
      "execution_count": null,
      "outputs": []
    }
  ]
}
